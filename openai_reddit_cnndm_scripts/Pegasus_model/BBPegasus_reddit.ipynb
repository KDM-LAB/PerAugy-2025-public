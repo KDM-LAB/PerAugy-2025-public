{
 "cells": [
  {
   "cell_type": "code",
   "execution_count": 1,
   "id": "5822310a",
   "metadata": {},
   "outputs": [],
   "source": [
    "# Load model directly\n",
    "from transformers import AutoTokenizer, AutoModelForSeq2SeqLM\n",
    "import torch\n",
    "device = \"cuda\" if torch.cuda.is_available() else \"cpu\"\n",
    "tokenizer = AutoTokenizer.from_pretrained(\"QuickRead/pegasus-reddit\")\n",
    "model = AutoModelForSeq2SeqLM.from_pretrained(\"QuickRead/pegasus-reddit\").to(device)"
   ]
  },
  {
   "cell_type": "code",
   "execution_count": 2,
   "id": "8fabbd9f",
   "metadata": {},
   "outputs": [
    {
     "data": {
      "text/plain": [
       "'cuda'"
      ]
     },
     "execution_count": 2,
     "metadata": {},
     "output_type": "execute_result"
    }
   ],
   "source": [
    "device"
   ]
  },
  {
   "cell_type": "code",
   "execution_count": 1,
   "id": "6e33d74c",
   "metadata": {},
   "outputs": [],
   "source": [
    "import pandas as pd"
   ]
  },
  {
   "cell_type": "code",
   "execution_count": 2,
   "id": "6a02e579",
   "metadata": {},
   "outputs": [],
   "source": [
    "df = pd.read_csv('/teamspace/studios/this_studio/NLP_project/openai_reddit_final.csv', sep=';')"
   ]
  },
  {
   "cell_type": "code",
   "execution_count": 3,
   "id": "f31eed46",
   "metadata": {},
   "outputs": [],
   "source": [
    "data = df['post/article']"
   ]
  },
  {
   "cell_type": "code",
   "execution_count": 4,
   "id": "d608aadf",
   "metadata": {},
   "outputs": [
    {
     "name": "stdout",
     "output_type": "stream",
     "text": [
      "<class 'pandas.core.series.Series'>\n",
      "RangeIndex: 83797 entries, 0 to 83796\n",
      "Series name: post/article\n",
      "Non-Null Count  Dtype \n",
      "--------------  ----- \n",
      "83797 non-null  object\n",
      "dtypes: object(1)\n",
      "memory usage: 654.8+ KB\n"
     ]
    }
   ],
   "source": [
    "data.info()"
   ]
  },
  {
   "cell_type": "code",
   "execution_count": 5,
   "id": "91137897",
   "metadata": {},
   "outputs": [
    {
     "name": "stdout",
     "output_type": "stream",
     "text": [
      "<class 'pandas.core.frame.DataFrame'>\n",
      "RangeIndex: 83797 entries, 0 to 83796\n",
      "Data columns (total 7 columns):\n",
      " #   Column        Non-Null Count  Dtype \n",
      "---  ------        --------------  ----- \n",
      " 0   Unnamed: 0    83797 non-null  int64 \n",
      " 1   user_id       83797 non-null  object\n",
      " 2   doc_id        83797 non-null  object\n",
      " 3   user_profile  83797 non-null  object\n",
      " 4   post/article  83797 non-null  object\n",
      " 5   summary_text  83797 non-null  object\n",
      " 6   confidence    83797 non-null  int64 \n",
      "dtypes: int64(2), object(5)\n",
      "memory usage: 4.5+ MB\n"
     ]
    }
   ],
   "source": [
    "df.info()"
   ]
  },
  {
   "cell_type": "code",
   "execution_count": 6,
   "id": "23b81e02",
   "metadata": {},
   "outputs": [],
   "source": [
    "data = df[['doc_id', 'post/article']]"
   ]
  },
  {
   "cell_type": "code",
   "execution_count": 7,
   "id": "f64a20e5",
   "metadata": {},
   "outputs": [
    {
     "data": {
      "text/html": [
       "<div>\n",
       "<style scoped>\n",
       "    .dataframe tbody tr th:only-of-type {\n",
       "        vertical-align: middle;\n",
       "    }\n",
       "\n",
       "    .dataframe tbody tr th {\n",
       "        vertical-align: top;\n",
       "    }\n",
       "\n",
       "    .dataframe thead th {\n",
       "        text-align: right;\n",
       "    }\n",
       "</style>\n",
       "<table border=\"1\" class=\"dataframe\">\n",
       "  <thead>\n",
       "    <tr style=\"text-align: right;\">\n",
       "      <th></th>\n",
       "      <th>doc_id</th>\n",
       "      <th>post/article</th>\n",
       "    </tr>\n",
       "  </thead>\n",
       "  <tbody>\n",
       "    <tr>\n",
       "      <th>0</th>\n",
       "      <td>DC0</td>\n",
       "      <td>This is my first post so please be kind :)\\n\\n...</td>\n",
       "    </tr>\n",
       "    <tr>\n",
       "      <th>1</th>\n",
       "      <td>DC0</td>\n",
       "      <td>This is my first post so please be kind :)\\n\\n...</td>\n",
       "    </tr>\n",
       "    <tr>\n",
       "      <th>2</th>\n",
       "      <td>DC0</td>\n",
       "      <td>This is my first post so please be kind :)\\n\\n...</td>\n",
       "    </tr>\n",
       "    <tr>\n",
       "      <th>3</th>\n",
       "      <td>DC0</td>\n",
       "      <td>This is my first post so please be kind :)\\n\\n...</td>\n",
       "    </tr>\n",
       "    <tr>\n",
       "      <th>4</th>\n",
       "      <td>DC0</td>\n",
       "      <td>This is my first post so please be kind :)\\n\\n...</td>\n",
       "    </tr>\n",
       "    <tr>\n",
       "      <th>...</th>\n",
       "      <td>...</td>\n",
       "      <td>...</td>\n",
       "    </tr>\n",
       "    <tr>\n",
       "      <th>83792</th>\n",
       "      <td>DC1277</td>\n",
       "      <td>Hello World of Reddit\\n\\nI'm a 21 year old fem...</td>\n",
       "    </tr>\n",
       "    <tr>\n",
       "      <th>83793</th>\n",
       "      <td>DC1277</td>\n",
       "      <td>Hello World of Reddit\\n\\nI'm a 21 year old fem...</td>\n",
       "    </tr>\n",
       "    <tr>\n",
       "      <th>83794</th>\n",
       "      <td>DC1277</td>\n",
       "      <td>Hello World of Reddit\\n\\nI'm a 21 year old fem...</td>\n",
       "    </tr>\n",
       "    <tr>\n",
       "      <th>83795</th>\n",
       "      <td>DC1277</td>\n",
       "      <td>Hello World of Reddit\\n\\nI'm a 21 year old fem...</td>\n",
       "    </tr>\n",
       "    <tr>\n",
       "      <th>83796</th>\n",
       "      <td>DC1277</td>\n",
       "      <td>Hello World of Reddit\\n\\nI'm a 21 year old fem...</td>\n",
       "    </tr>\n",
       "  </tbody>\n",
       "</table>\n",
       "<p>83797 rows × 2 columns</p>\n",
       "</div>"
      ],
      "text/plain": [
       "       doc_id                                       post/article\n",
       "0         DC0  This is my first post so please be kind :)\\n\\n...\n",
       "1         DC0  This is my first post so please be kind :)\\n\\n...\n",
       "2         DC0  This is my first post so please be kind :)\\n\\n...\n",
       "3         DC0  This is my first post so please be kind :)\\n\\n...\n",
       "4         DC0  This is my first post so please be kind :)\\n\\n...\n",
       "...       ...                                                ...\n",
       "83792  DC1277  Hello World of Reddit\\n\\nI'm a 21 year old fem...\n",
       "83793  DC1277  Hello World of Reddit\\n\\nI'm a 21 year old fem...\n",
       "83794  DC1277  Hello World of Reddit\\n\\nI'm a 21 year old fem...\n",
       "83795  DC1277  Hello World of Reddit\\n\\nI'm a 21 year old fem...\n",
       "83796  DC1277  Hello World of Reddit\\n\\nI'm a 21 year old fem...\n",
       "\n",
       "[83797 rows x 2 columns]"
      ]
     },
     "execution_count": 7,
     "metadata": {},
     "output_type": "execute_result"
    }
   ],
   "source": [
    "data"
   ]
  },
  {
   "cell_type": "code",
   "execution_count": 8,
   "id": "f8b5fe10",
   "metadata": {},
   "outputs": [],
   "source": [
    "mapp = {}\n",
    "\n",
    "for idx , row in data.iterrows():\n",
    "    doc_id = row['doc_id']\n",
    "    text = row['post/article']\n",
    "\n",
    "    if doc_id not in mapp:\n",
    "        mapp[doc_id] = text"
   ]
  },
  {
   "cell_type": "code",
   "execution_count": 9,
   "id": "dd68d3e8",
   "metadata": {},
   "outputs": [
    {
     "data": {
      "text/plain": [
       "6218"
      ]
     },
     "execution_count": 9,
     "metadata": {},
     "output_type": "execute_result"
    }
   ],
   "source": [
    "len(mapp)"
   ]
  },
  {
   "cell_type": "code",
   "execution_count": 10,
   "id": "20553ed1",
   "metadata": {},
   "outputs": [
    {
     "data": {
      "text/plain": [
       "6218"
      ]
     },
     "execution_count": 10,
     "metadata": {},
     "output_type": "execute_result"
    }
   ],
   "source": [
    "ids = list(mapp.keys())\n",
    "len(ids)"
   ]
  },
  {
   "cell_type": "code",
   "execution_count": 11,
   "id": "977ba15d",
   "metadata": {},
   "outputs": [
    {
     "data": {
      "text/plain": [
       "6218"
      ]
     },
     "execution_count": 11,
     "metadata": {},
     "output_type": "execute_result"
    }
   ],
   "source": [
    "unique_texts = list(mapp.values())\n",
    "len(unique_texts)"
   ]
  },
  {
   "cell_type": "code",
   "execution_count": 15,
   "id": "57481bd4",
   "metadata": {},
   "outputs": [],
   "source": [
    "batch_size = 5\n",
    "\n",
    "# Function to perform inference on a batch of texts\n",
    "def translate_batch(texts):\n",
    "    batch = tokenizer(texts, truncation=True, padding='longest', return_tensors=\"pt\").to(device)\n",
    "    translated = model.generate(**batch)\n",
    "    tgt_texts = tokenizer.batch_decode(translated, skip_special_tokens=True)\n",
    "    return tgt_texts"
   ]
  },
  {
   "cell_type": "code",
   "execution_count": 16,
   "id": "33dab0aa",
   "metadata": {},
   "outputs": [],
   "source": [
    "results = []"
   ]
  },
  {
   "cell_type": "code",
   "execution_count": 28,
   "id": "4e579ced",
   "metadata": {},
   "outputs": [
    {
     "data": {
      "text/plain": [
       "3428"
      ]
     },
     "execution_count": 28,
     "metadata": {},
     "output_type": "execute_result"
    }
   ],
   "source": [
    "src_texts = unique_texts[2790:]\n",
    "len(src_texts)"
   ]
  },
  {
   "cell_type": "code",
   "execution_count": 31,
   "id": "b184bad0",
   "metadata": {},
   "outputs": [],
   "source": [
    "for i in range(0, len(src_texts), batch_size):\n",
    "    batch_texts = src_texts[i:i + batch_size]\n",
    "    translated_texts = translate_batch(batch_texts)\n",
    "    results.extend(translated_texts)\n"
   ]
  },
  {
   "cell_type": "code",
   "execution_count": 32,
   "id": "daafd76d",
   "metadata": {},
   "outputs": [
    {
     "data": {
      "text/plain": [
       "6218"
      ]
     },
     "execution_count": 32,
     "metadata": {},
     "output_type": "execute_result"
    }
   ],
   "source": [
    "len(results)"
   ]
  },
  {
   "cell_type": "code",
   "execution_count": 14,
   "id": "44101dbc",
   "metadata": {},
   "outputs": [],
   "source": [
    "import pickle"
   ]
  },
  {
   "cell_type": "code",
   "execution_count": 34,
   "id": "86cbb79e",
   "metadata": {},
   "outputs": [],
   "source": [
    "with open('results_full.pkl', 'wb') as f:\n",
    "    pickle.dump(results, f)"
   ]
  },
  {
   "cell_type": "code",
   "execution_count": 12,
   "id": "f48c5050",
   "metadata": {},
   "outputs": [],
   "source": [
    "gen_summaries = []"
   ]
  },
  {
   "cell_type": "code",
   "execution_count": 15,
   "id": "e4681d95",
   "metadata": {},
   "outputs": [],
   "source": [
    "with open('results_full.pkl', 'rb') as f:\n",
    "    gen_summaries = pickle.load(f)"
   ]
  },
  {
   "cell_type": "code",
   "execution_count": 19,
   "id": "02ee5b5b",
   "metadata": {},
   "outputs": [
    {
     "data": {
      "text/plain": [
       "True"
      ]
     },
     "execution_count": 19,
     "metadata": {},
     "output_type": "execute_result"
    }
   ],
   "source": [
    "'DC6217' in set(ids)"
   ]
  },
  {
   "cell_type": "code",
   "execution_count": 20,
   "id": "d6efec7c",
   "metadata": {},
   "outputs": [],
   "source": [
    "mapp = dict(zip(ids, gen_summaries))"
   ]
  },
  {
   "cell_type": "code",
   "execution_count": 23,
   "id": "5a0ae223",
   "metadata": {},
   "outputs": [
    {
     "data": {
      "text/plain": [
       "260"
      ]
     },
     "execution_count": 23,
     "metadata": {},
     "output_type": "execute_result"
    }
   ],
   "source": [
    "len(mapp['DC0'])"
   ]
  },
  {
   "cell_type": "code",
   "execution_count": 26,
   "id": "a9b51207",
   "metadata": {},
   "outputs": [
    {
     "name": "stdout",
     "output_type": "stream",
     "text": [
      "<class 'pandas.core.frame.DataFrame'>\n",
      "RangeIndex: 83797 entries, 0 to 83796\n",
      "Data columns (total 2 columns):\n",
      " #   Column        Non-Null Count  Dtype \n",
      "---  ------        --------------  ----- \n",
      " 0   doc_id        83797 non-null  object\n",
      " 1   post/article  83797 non-null  object\n",
      "dtypes: object(2)\n",
      "memory usage: 1.3+ MB\n"
     ]
    }
   ],
   "source": [
    "data.info()"
   ]
  },
  {
   "cell_type": "code",
   "execution_count": 36,
   "id": "245fb061",
   "metadata": {},
   "outputs": [
    {
     "data": {
      "text/plain": [
       "805"
      ]
     },
     "execution_count": 36,
     "metadata": {},
     "output_type": "execute_result"
    }
   ],
   "source": [
    "len(data.iloc[0]['post/article'])"
   ]
  },
  {
   "cell_type": "code",
   "execution_count": 31,
   "id": "0022c65d",
   "metadata": {},
   "outputs": [
    {
     "name": "stdout",
     "output_type": "stream",
     "text": [
      "<class 'pandas.core.frame.DataFrame'>\n",
      "RangeIndex: 83797 entries, 0 to 83796\n",
      "Data columns (total 7 columns):\n",
      " #   Column        Non-Null Count  Dtype \n",
      "---  ------        --------------  ----- \n",
      " 0   Unnamed: 0    83797 non-null  int64 \n",
      " 1   user_id       83797 non-null  object\n",
      " 2   doc_id        83797 non-null  object\n",
      " 3   user_profile  83797 non-null  object\n",
      " 4   post/article  83797 non-null  object\n",
      " 5   summary_text  83797 non-null  object\n",
      " 6   confidence    83797 non-null  int64 \n",
      "dtypes: int64(2), object(5)\n",
      "memory usage: 4.5+ MB\n"
     ]
    }
   ],
   "source": [
    "df.info()"
   ]
  },
  {
   "cell_type": "code",
   "execution_count": 32,
   "id": "3bb5bd43",
   "metadata": {},
   "outputs": [],
   "source": [
    "df['pegasus_model_summary'] = df['doc_id'].map(mapp)"
   ]
  },
  {
   "cell_type": "code",
   "execution_count": 33,
   "id": "7626f6f3",
   "metadata": {},
   "outputs": [
    {
     "name": "stdout",
     "output_type": "stream",
     "text": [
      "<class 'pandas.core.frame.DataFrame'>\n",
      "RangeIndex: 83797 entries, 0 to 83796\n",
      "Data columns (total 8 columns):\n",
      " #   Column                 Non-Null Count  Dtype \n",
      "---  ------                 --------------  ----- \n",
      " 0   Unnamed: 0             83797 non-null  int64 \n",
      " 1   user_id                83797 non-null  object\n",
      " 2   doc_id                 83797 non-null  object\n",
      " 3   user_profile           83797 non-null  object\n",
      " 4   post/article           83797 non-null  object\n",
      " 5   summary_text           83797 non-null  object\n",
      " 6   confidence             83797 non-null  int64 \n",
      " 7   pegasus_model_summary  83797 non-null  object\n",
      "dtypes: int64(2), object(6)\n",
      "memory usage: 5.1+ MB\n"
     ]
    }
   ],
   "source": [
    "df.info()"
   ]
  },
  {
   "cell_type": "code",
   "execution_count": 34,
   "id": "51c36a2a",
   "metadata": {},
   "outputs": [
    {
     "data": {
      "text/html": [
       "<div>\n",
       "<style scoped>\n",
       "    .dataframe tbody tr th:only-of-type {\n",
       "        vertical-align: middle;\n",
       "    }\n",
       "\n",
       "    .dataframe tbody tr th {\n",
       "        vertical-align: top;\n",
       "    }\n",
       "\n",
       "    .dataframe thead th {\n",
       "        text-align: right;\n",
       "    }\n",
       "</style>\n",
       "<table border=\"1\" class=\"dataframe\">\n",
       "  <thead>\n",
       "    <tr style=\"text-align: right;\">\n",
       "      <th></th>\n",
       "      <th>Unnamed: 0</th>\n",
       "      <th>user_id</th>\n",
       "      <th>doc_id</th>\n",
       "      <th>user_profile</th>\n",
       "      <th>post/article</th>\n",
       "      <th>summary_text</th>\n",
       "      <th>confidence</th>\n",
       "      <th>pegasus_model_summary</th>\n",
       "    </tr>\n",
       "  </thead>\n",
       "  <tbody>\n",
       "    <tr>\n",
       "      <th>0</th>\n",
       "      <td>0</td>\n",
       "      <td>U1</td>\n",
       "      <td>DC0</td>\n",
       "      <td>DC1830,DC1586,DC1476,DC3950,DC3997,DC697,DC239...</td>\n",
       "      <td>This is my first post so please be kind :)\\n\\n...</td>\n",
       "      <td>I never dated/flirted as an adult, now I'm no...</td>\n",
       "      <td>6</td>\n",
       "      <td>This is my first post so please be kind :) I k...</td>\n",
       "    </tr>\n",
       "    <tr>\n",
       "      <th>1</th>\n",
       "      <td>1</td>\n",
       "      <td>U1</td>\n",
       "      <td>DC0</td>\n",
       "      <td>DC1439,DC2012,DC4143,DC6087,DC4746,DC288,DC594...</td>\n",
       "      <td>This is my first post so please be kind :)\\n\\n...</td>\n",
       "      <td>Just came out of 8 year relationship, don't k...</td>\n",
       "      <td>7</td>\n",
       "      <td>This is my first post so please be kind :) I k...</td>\n",
       "    </tr>\n",
       "    <tr>\n",
       "      <th>2</th>\n",
       "      <td>2</td>\n",
       "      <td>U1</td>\n",
       "      <td>DC0</td>\n",
       "      <td>DC1477,DC3565,DC2172,DC5606,DC21,DC2538,DC1835...</td>\n",
       "      <td>This is my first post so please be kind :)\\n\\n...</td>\n",
       "      <td>I never dated/flirted as an adult, now I'm no...</td>\n",
       "      <td>7</td>\n",
       "      <td>This is my first post so please be kind :) I k...</td>\n",
       "    </tr>\n",
       "    <tr>\n",
       "      <th>3</th>\n",
       "      <td>3</td>\n",
       "      <td>U1</td>\n",
       "      <td>DC0</td>\n",
       "      <td>DC5947,DC3242,DC1815,DC1762,DC5430,DC5839,DC52...</td>\n",
       "      <td>This is my first post so please be kind :)\\n\\n...</td>\n",
       "      <td>Just came out of 8 year relationship, don't k...</td>\n",
       "      <td>4</td>\n",
       "      <td>This is my first post so please be kind :) I k...</td>\n",
       "    </tr>\n",
       "    <tr>\n",
       "      <th>4</th>\n",
       "      <td>4</td>\n",
       "      <td>U1</td>\n",
       "      <td>DC0</td>\n",
       "      <td>DC4320,DC4991,DC3550,DC4693,DC1746,DC4996,DC16...</td>\n",
       "      <td>This is my first post so please be kind :)\\n\\n...</td>\n",
       "      <td>Started a long-term relationship as a teenage...</td>\n",
       "      <td>6</td>\n",
       "      <td>This is my first post so please be kind :) I k...</td>\n",
       "    </tr>\n",
       "  </tbody>\n",
       "</table>\n",
       "</div>"
      ],
      "text/plain": [
       "   Unnamed: 0 user_id doc_id  \\\n",
       "0           0      U1    DC0   \n",
       "1           1      U1    DC0   \n",
       "2           2      U1    DC0   \n",
       "3           3      U1    DC0   \n",
       "4           4      U1    DC0   \n",
       "\n",
       "                                        user_profile  \\\n",
       "0  DC1830,DC1586,DC1476,DC3950,DC3997,DC697,DC239...   \n",
       "1  DC1439,DC2012,DC4143,DC6087,DC4746,DC288,DC594...   \n",
       "2  DC1477,DC3565,DC2172,DC5606,DC21,DC2538,DC1835...   \n",
       "3  DC5947,DC3242,DC1815,DC1762,DC5430,DC5839,DC52...   \n",
       "4  DC4320,DC4991,DC3550,DC4693,DC1746,DC4996,DC16...   \n",
       "\n",
       "                                        post/article  \\\n",
       "0  This is my first post so please be kind :)\\n\\n...   \n",
       "1  This is my first post so please be kind :)\\n\\n...   \n",
       "2  This is my first post so please be kind :)\\n\\n...   \n",
       "3  This is my first post so please be kind :)\\n\\n...   \n",
       "4  This is my first post so please be kind :)\\n\\n...   \n",
       "\n",
       "                                        summary_text  confidence  \\\n",
       "0   I never dated/flirted as an adult, now I'm no...           6   \n",
       "1   Just came out of 8 year relationship, don't k...           7   \n",
       "2   I never dated/flirted as an adult, now I'm no...           7   \n",
       "3   Just came out of 8 year relationship, don't k...           4   \n",
       "4   Started a long-term relationship as a teenage...           6   \n",
       "\n",
       "                               pegasus_model_summary  \n",
       "0  This is my first post so please be kind :) I k...  \n",
       "1  This is my first post so please be kind :) I k...  \n",
       "2  This is my first post so please be kind :) I k...  \n",
       "3  This is my first post so please be kind :) I k...  \n",
       "4  This is my first post so please be kind :) I k...  "
      ]
     },
     "execution_count": 34,
     "metadata": {},
     "output_type": "execute_result"
    }
   ],
   "source": [
    "df.head()"
   ]
  },
  {
   "cell_type": "code",
   "execution_count": 37,
   "id": "1344f4ad",
   "metadata": {},
   "outputs": [
    {
     "data": {
      "text/plain": [
       "(805, 260)"
      ]
     },
     "execution_count": 37,
     "metadata": {},
     "output_type": "execute_result"
    }
   ],
   "source": [
    "len(df.iloc[1]['post/article']), len(df.iloc[1]['pegasus_model_summary'])"
   ]
  },
  {
   "cell_type": "code",
   "execution_count": 38,
   "id": "9c2fb4da",
   "metadata": {},
   "outputs": [],
   "source": [
    "df.to_csv('openai_reddit_final_pegasus.csv', sep=';')"
   ]
  }
 ],
 "metadata": {
  "kernelspec": {
   "display_name": "Python 3 (ipykernel)",
   "language": "python",
   "name": "python3"
  },
  "language_info": {
   "codemirror_mode": {
    "name": "ipython",
    "version": 3
   },
   "file_extension": ".py",
   "mimetype": "text/x-python",
   "name": "python",
   "nbconvert_exporter": "python",
   "pygments_lexer": "ipython3",
   "version": "3.9.7"
  }
 },
 "nbformat": 4,
 "nbformat_minor": 5
}
