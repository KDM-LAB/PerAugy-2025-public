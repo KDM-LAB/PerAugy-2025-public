{
 "cells": [
  {
   "cell_type": "code",
   "execution_count": 1,
   "metadata": {
    "id": "XFL1uRuOWNrZ"
   },
   "outputs": [],
   "source": [
    "import pandas as pd\n",
    "import numpy as np\n",
    "import pickle\n",
    "from sklearn.metrics import mean_squared_error"
   ]
  },
  {
   "cell_type": "code",
   "execution_count": 2,
   "metadata": {
    "id": "V_eNi7PiWSjn"
   },
   "outputs": [],
   "source": [
    "def sigma(u, v):\n",
    "    '''\n",
    "    divergence metrics used to calculate sigma(e1,e2)\n",
    "    '''\n",
    "    return np.sum(np.abs(u - v))"
   ]
  },
  {
   "cell_type": "code",
   "execution_count": 3,
   "metadata": {
    "id": "1Tx2OAWdWbpJ"
   },
   "outputs": [],
   "source": [
    "with open('doc_embedding_dict.pkl', 'rb') as f:\n",
    "    doc_embeddings = pickle.load(f)  # Document embeddings dictionary: {news_id: embedding}\n",
    "\n",
    "with open('summary_embedding_dict.pkl', 'rb') as f:\n",
    "    user_embeddings = pickle.load(f)  # User embeddings dictionary: {user_id: embedding}\n",
    "\n",
    "with open('title_embedding_dict.pkl', 'rb') as f:\n",
    "    title_embeddings = pickle.load(f)  # Title embeddings dictionary: {news_id: embedding}"
   ]
  },
  {
   "cell_type": "code",
   "execution_count": 4,
   "metadata": {},
   "outputs": [],
   "source": [
    "from tqdm import tqdm"
   ]
  },
  {
   "cell_type": "code",
   "execution_count": 5,
   "metadata": {},
   "outputs": [],
   "source": [
    "# Load user interaction dataset and split columns\n",
    "user_data = pd.read_csv('synthetic-original_D1_150_40.csv')  # Adjust the path to your file\n",
    "\n",
    "# Example dataset columns:\n",
    "# ['user_id', 'news_ids', 'actions', 'num_summaries']"
   ]
  },
  {
   "cell_type": "code",
   "execution_count": null,
   "metadata": {},
   "outputs": [
    {
     "name": "stderr",
     "output_type": "stream",
     "text": [
      "Processing Action and Docs columns: 100%|████████████████████████████████████████████████████████████████████████| 399994/399994 [03:00<00:00, 2219.05it/s]\n",
      "Processing Action and Docs columns:  70%|██████████████████████████████████████████████████▍                     | 280334/399994 [03:36<00:52, 2264.55it/s]"
     ]
    }
   ],
   "source": [
    "from ast import literal_eval\n",
    "tqdm.pandas(desc=\"Processing Action and Docs columns\")\n",
    "user_data['Action'] = user_data['Action'].progress_apply(lambda x: literal_eval(x) if isinstance(x, str) else x)\n",
    "user_data['Docs'] = user_data['Docs'].progress_apply(lambda x: literal_eval(x) if isinstance(x, str) else x)\n"
   ]
  },
  {
   "cell_type": "code",
   "execution_count": null,
   "metadata": {},
   "outputs": [],
   "source": [
    "# Calculate the number of distinct user IDs\n",
    "distinct_user_ids = user_data['UserID'].nunique()\n",
    "\n",
    "print(\"Number of distinct user IDs:\", distinct_user_ids)\n"
   ]
  },
  {
   "cell_type": "code",
   "execution_count": null,
   "metadata": {},
   "outputs": [],
   "source": [
    "overall_divergence = 0\n",
    "total_users = distinct_user_ids\n",
    "\n",
    "# Iterate through the dataset with tqdm for progress tracking\n",
    "for index, row in tqdm(user_data.iterrows(), total=len(user_data), desc=\"Processing User Trajectories\"):\n",
    "    user_id = row['UserID']\n",
    "    actions = row['Action']  # List of actions (click, skip, gensumm, sumgenn)\n",
    "    doc_ids = row['Docs']  # List of document IDs that the user interacted with\n",
    "\n",
    "    # Initialize variables\n",
    "    num_clicks = 0  # Track the number of 'click' actions\n",
    "    num_skips = 0\n",
    "    prev_user_embedding = None\n",
    "    doc_embeddings_up_to_t1 = []  # To store document embeddings for moving average\n",
    "    total_divergence = 0\n",
    "\n",
    "    # Loop over each action in the trajectory\n",
    "    for t1 in range(len(actions) - 1):\n",
    "        action = actions[t1]\n",
    "        doc_id_t1 = doc_ids[t1]\n",
    "        doc_id_t2 = doc_ids[t1 + 1]\n",
    "\n",
    "        # Handle 'click' action\n",
    "        if action == 'click' and num_clicks == 0:\n",
    "            #print(\"First click\")\n",
    "            Dt1 = doc_embeddings.get(doc_id_t1, np.zeros(384))\n",
    "            Ut1 = title_embeddings.get(doc_id_t1, np.zeros(384))\n",
    "            num_clicks += 1  # Increment click counter\n",
    "            doc_embeddings_up_to_t1.append(Dt1)  # Store the document embedding\n",
    "        \n",
    "        #handle 'click' between summary nodes\n",
    "        elif action == 'click' and num_clicks > 0:\n",
    "            doc_embeddings_up_to_t1.append(doc_embeddings.get(doc_id_t1,np.zeros(384)))\n",
    "        \n",
    "        # Handle 'skip' action\n",
    "        elif action == 'skip':\n",
    "            doc_embeddings_up_to_t1.append(doc_embeddings.get(doc_id_t1,np.zeros(384)))\n",
    "        \n",
    "        # Handle 'gensumm' or 'sumgenn' actions\n",
    "        elif action == 'gen_summ':\n",
    "            #print(\"Gensumm encountered\")\n",
    "            doc_embeddings_up_to_t1.append(doc_embeddings.get(doc_id_t1,np.zeros(384)))\n",
    "            #print(\"Number of actions in between : \",len(doc_embeddings_up_to_t1))\n",
    "            if len(doc_embeddings_up_to_t1) > 0:\n",
    "                Dt2 = np.mean(doc_embeddings_up_to_t1, axis=0)  # Moving average of document embeddings\n",
    "            else:\n",
    "                Dt2 = doc_embeddings.get(doc_id_t1, np.zeros(384))\n",
    "\n",
    "            Ut2 = user_embeddings.get(doc_id_t2, np.zeros(384))\n",
    "            #print(\"First set\", Dt1,Ut1)\n",
    "            #print(\"Second set\", Dt2,Ut2)\n",
    "\n",
    "            # Calculate DePS using the provided formula\n",
    "            \n",
    "            doc_divergence = (min(sigma(Dt1, Dt2), sigma(Ut2, Ut1)) + 1e-7) / (max(sigma(Dt1, Dt2), sigma(Ut2, Ut1)) + 1e-7)\n",
    "                             \n",
    "\n",
    "            # Add penalty for deviation from document theme\n",
    "            penalty = sigma(Dt1, Ut1) / (sigma(Dt2, Ut2) + 1e-7)\n",
    "            penalized_deps = doc_divergence * penalty\n",
    "\n",
    "            # Calculate overall divergence\n",
    "            document_divergence = penalized_deps * sigma(Ut2, Ut1)\n",
    "\n",
    "            # Add to total divergence for the trajectory\n",
    "            total_divergence += document_divergence\n",
    "\n",
    "            # Reset doc embeddings list after processing\n",
    "            doc_embeddings_up_to_t1 = []\n",
    "\n",
    "            # Update embeddings for the next time step\n",
    "            Dt1 = Dt2\n",
    "            Ut1 = Ut2\n",
    "\n",
    "    # Calculate row divergence normalized by the number of actions\n",
    "    if len(actions) > 0:\n",
    "        row_divergence = total_divergence / (len(actions) - 1)\n",
    "    \n",
    "\n",
    "    # Add the row's divergence to the overall divergence\n",
    "    overall_divergence += row_divergence\n",
    "    #print(\"Row divergence\", overall_divergence)\n",
    "# Normalize the overall divergence by the number of users\n",
    "degree_d = 0.51 * overall_divergence / total_users\n",
    "\n",
    "# Output the final DegreeD\n",
    "print(\"Overall DegreeD in the dataset D2_150_20:\", degree_d)\n"
   ]
  },
  {
   "cell_type": "code",
   "execution_count": 6,
   "metadata": {},
   "outputs": [
    {
     "name": "stderr",
     "output_type": "stream",
     "text": [
      "Processing Action and Docs columns: 100%|████████████████████████████████████| 399994/399994 [04:17<00:00, 1554.69it/s]\n",
      "Processing Action and Docs columns: 100%|█████████████████████████████████████| 399994/399994 [08:14<00:00, 808.57it/s]\n"
     ]
    }
   ],
   "source": [
    "# Load user interaction dataset and split columns\n",
    "user_data = pd.read_csv('synthetic-original_D1_150_10.csv')  # Adjust the path to your file\n",
    "\n",
    "# Example dataset columns:\n",
    "# ['user_id', 'news_ids', 'actions', 'num_summaries']\n",
    "\n",
    "from ast import literal_eval\n",
    "tqdm.pandas(desc=\"Processing Action and Docs columns\")\n",
    "user_data['Action'] = user_data['Action'].progress_apply(lambda x: literal_eval(x) if isinstance(x, str) else x)\n",
    "user_data['Docs'] = user_data['Docs'].progress_apply(lambda x: literal_eval(x) if isinstance(x, str) else x)"
   ]
  },
  {
   "cell_type": "code",
   "execution_count": 7,
   "metadata": {},
   "outputs": [
    {
     "name": "stdout",
     "output_type": "stream",
     "text": [
      "Number of distinct user IDs: 363285\n"
     ]
    }
   ],
   "source": [
    "# Calculate the number of distinct user IDs\n",
    "distinct_user_ids = user_data['UserID'].nunique()\n",
    "\n",
    "print(\"Number of distinct user IDs:\", distinct_user_ids)\n"
   ]
  },
  {
   "cell_type": "code",
   "execution_count": 8,
   "metadata": {},
   "outputs": [
    {
     "name": "stderr",
     "output_type": "stream",
     "text": [
      "Processing User Trajectories: 100%|███████████████████████████████████████████| 399994/399994 [11:16<00:00, 590.91it/s]\n"
     ]
    },
    {
     "name": "stdout",
     "output_type": "stream",
     "text": [
      "Overall DegreeD in the D2_25_50 dataset: 0.1258991744919089\n"
     ]
    }
   ],
   "source": [
    "overall_divergence = 0\n",
    "total_users = distinct_user_ids\n",
    "\n",
    "# Iterate through the dataset with tqdm for progress tracking\n",
    "for index, row in tqdm(user_data.iterrows(), total=len(user_data), desc=\"Processing User Trajectories\"):\n",
    "    user_id = row['UserID']\n",
    "    actions = row['Action']  # List of actions (click, skip, gensumm, sumgenn)\n",
    "    doc_ids = row['Docs']  # List of document IDs that the user interacted with\n",
    "\n",
    "    # Initialize variables\n",
    "    num_clicks = 0  # Track the number of 'click' actions\n",
    "    num_skips = 0\n",
    "    prev_user_embedding = None\n",
    "    doc_embeddings_up_to_t1 = []  # To store document embeddings for moving average\n",
    "    total_divergence = 0\n",
    "\n",
    "    # Loop over each action in the trajectory\n",
    "    for t1 in range(len(actions) - 1):\n",
    "        action = actions[t1]\n",
    "        doc_id_t1 = doc_ids[t1]\n",
    "        doc_id_t2 = doc_ids[t1 + 1]\n",
    "\n",
    "        # Handle 'click' action\n",
    "        if action == 'click' and num_clicks == 0:\n",
    "            #print(\"First click\")\n",
    "            Dt1 = doc_embeddings.get(doc_id_t1, np.zeros(384))\n",
    "            Ut1 = title_embeddings.get(doc_id_t1, np.zeros(384))\n",
    "            num_clicks += 1  # Increment click counter\n",
    "            doc_embeddings_up_to_t1.append(Dt1)  # Store the document embedding\n",
    "        \n",
    "        #handle 'click' between summary nodes\n",
    "        elif action == 'click' and num_clicks > 0:\n",
    "            doc_embeddings_up_to_t1.append(doc_embeddings.get(doc_id_t1,np.zeros(384)))\n",
    "        \n",
    "        # Handle 'skip' action\n",
    "        elif action == 'skip':\n",
    "            doc_embeddings_up_to_t1.append(doc_embeddings.get(doc_id_t1,np.zeros(384)))\n",
    "        \n",
    "        # Handle 'gensumm' or 'sumgenn' actions\n",
    "        elif action == 'gen_summ':\n",
    "            #print(\"Gensumm encountered\")\n",
    "            doc_embeddings_up_to_t1.append(doc_embeddings.get(doc_id_t1,np.zeros(384)))\n",
    "            #print(\"Number of actions in between : \",len(doc_embeddings_up_to_t1))\n",
    "            if len(doc_embeddings_up_to_t1) > 0:\n",
    "                Dt2 = np.mean(doc_embeddings_up_to_t1, axis=0)  # Moving average of document embeddings\n",
    "            else:\n",
    "                Dt2 = doc_embeddings.get(doc_id_t1, np.zeros(384))\n",
    "\n",
    "            Ut2 = user_embeddings.get(doc_id_t2, np.zeros(384))\n",
    "            #print(\"First set\", Dt1,Ut1)\n",
    "            #print(\"Second set\", Dt2,Ut2)\n",
    "\n",
    "            # Calculate DePS using the provided formula\n",
    "            \n",
    "            doc_divergence = (min(sigma(Dt1, Dt2), sigma(Ut2, Ut1)) + 1e-7) / (max(sigma(Dt1, Dt2), sigma(Ut2, Ut1)) + 1e-7)\n",
    "                             \n",
    "\n",
    "            # Add penalty for deviation from document theme\n",
    "            penalty = sigma(Dt1, Ut1) / (sigma(Dt2, Ut2) + 1e-7)\n",
    "            penalized_deps = doc_divergence * penalty\n",
    "\n",
    "            # Calculate overall divergence\n",
    "            document_divergence = penalized_deps * sigma(Ut2, Ut1)\n",
    "\n",
    "            # Add to total divergence for the trajectory\n",
    "            total_divergence += document_divergence\n",
    "\n",
    "            # Reset doc embeddings list after processing\n",
    "            doc_embeddings_up_to_t1 = []\n",
    "\n",
    "            # Update embeddings for the next time step\n",
    "            Dt1 = Dt2\n",
    "            Ut1 = Ut2\n",
    "\n",
    "    # Calculate row divergence normalized by the number of actions\n",
    "    if len(actions) > 0:\n",
    "        row_divergence = total_divergence / (len(actions) - 1)\n",
    "    \n",
    "\n",
    "    # Add the row's divergence to the overall divergence\n",
    "    overall_divergence += row_divergence\n",
    "    #print(\"Row divergence\", overall_divergence)\n",
    "# Normalize the overall divergence by the number of users\n",
    "degree_d = 0.51 * overall_divergence / total_users\n",
    "\n",
    "# Output the final DegreeD\n",
    "print(\"Overall DegreeD in the D2_150_10 dataset:\", degree_d)\n"
   ]
  }
 ],
 "metadata": {
  "colab": {
   "provenance": []
  },
  "kernelspec": {
   "display_name": "Python 3 (ipykernel)",
   "language": "python",
   "name": "python3"
  },
  "language_info": {
   "codemirror_mode": {
    "name": "ipython",
    "version": 3
   },
   "file_extension": ".py",
   "mimetype": "text/x-python",
   "name": "python",
   "nbconvert_exporter": "python",
   "pygments_lexer": "ipython3",
   "version": "3.11.5"
  }
 },
 "nbformat": 4,
 "nbformat_minor": 1
}
