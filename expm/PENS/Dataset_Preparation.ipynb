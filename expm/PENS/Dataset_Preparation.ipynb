{
 "cells": [
  {
   "cell_type": "code",
   "execution_count": 4,
   "id": "7d6acc95-b77f-4aa6-8179-f2d26f223d98",
   "metadata": {},
   "outputs": [
    {
     "name": "stdout",
     "output_type": "stream",
     "text": [
      "                                                                               \n",
      " Usage: data_manager.py [OPTIONS] INPUT_FILE OUTPUT_SYNTHETIC OUTPUT_SUMMARY   \n",
      "                                                                               \n",
      " Prepare synthetic data by processing user interaction logs and generating     \n",
      " summaries.                                                                    \n",
      " Args:     input_file (str): Path to the input TSV file containing user        \n",
      " interaction data.     output_synthetic (str): Path to save the processed      \n",
      " synthetic data CSV file.     output_summary (str): Path to save the summary   \n",
      " data CSV file.     start (int, optional): Starting index for processing the   \n",
      " dataset. Defaults to -1, meaning start from the beginning.     end (int,      \n",
      " optional): Ending index for processing the dataset. Defaults to -1, meaning   \n",
      " process till the end.     summ_counter (int, optional): Initial counter value \n",
      " for generating summary IDs. Defaults to 0.                                    \n",
      " Returns:     None                                                             \n",
      "                                                                               \n",
      "+- Arguments -----------------------------------------------------------------+\n",
      "| *    input_file            TEXT  [default: None] [required]                 |\n",
      "| *    output_synthetic      TEXT  [default: None] [required]                 |\n",
      "| *    output_summary        TEXT  [default: None] [required]                 |\n",
      "+-----------------------------------------------------------------------------+\n",
      "+- Options -------------------------------------------------------------------+\n",
      "| --start                     INTEGER  [default: -1]                          |\n",
      "| --end                       INTEGER  [default: -1]                          |\n",
      "| --summ-counter              INTEGER  [default: 0]                           |\n",
      "| --install-completion                 Install completion for the current     |\n",
      "|                                      shell.                                 |\n",
      "| --show-completion                    Show completion for the current shell, |\n",
      "|                                      to copy it or customize the            |\n",
      "|                                      installation.                          |\n",
      "| --help                               Show this message and exit.            |\n",
      "+-----------------------------------------------------------------------------+\n",
      "\n"
     ]
    }
   ],
   "source": [
    "!python \"../src/data_manager.py\"  prepare-synthetic-data --help"
   ]
  },
  {
   "cell_type": "markdown",
   "id": "a0706de1-05d5-4cbf-bf53-f9a2dc5014c5",
   "metadata": {},
   "source": [
    "NOTE: Initially Run on train.tsv first 5 rows for testing \\\n",
    "... \\\n",
    "... \\\n",
    "    # Load the dataset \\\n",
    "    user_df = pd.read_csv(input_file, delimiter='\\t', engine='python').head() \\\n",
    "... \\\n",
    "... "
   ]
  },
  {
   "cell_type": "code",
   "execution_count": 1,
   "id": "c31d3891-74ed-4bc7-b8cc-d1becb5d67ee",
   "metadata": {},
   "outputs": [
    {
     "name": "stdout",
     "output_type": "stream",
     "text": [
      "Loading...\n"
     ]
    },
    {
     "name": "stderr",
     "output_type": "stream",
     "text": [
      "\n",
      "  0%|          | 0/5 [00:00<?, ?it/s]\n",
      " 40%|####      | 2/5 [00:00<00:00,  5.37it/s]\n",
      " 80%|########  | 4/5 [00:00<00:00,  9.14it/s]\n",
      "100%|##########| 5/5 [00:00<00:00,  9.33it/s]\n"
     ]
    }
   ],
   "source": [
    "!python \"../src/data_manager.py\" prepare-synthetic-data \"../PENS/train.tsv\" \"../datasets/synthetic_test.csv\" \"../datasets/summ_test.csv\""
   ]
  },
  {
   "cell_type": "code",
   "execution_count": null,
   "id": "9272379d-6919-4a8d-8933-c6716a60b014",
   "metadata": {},
   "outputs": [],
   "source": []
  },
  {
   "cell_type": "code",
   "execution_count": null,
   "id": "33e2b91b-9a8b-4e5c-b63f-1e984bfe136e",
   "metadata": {},
   "outputs": [],
   "source": []
  }
 ],
 "metadata": {
  "kernelspec": {
   "display_name": "Python 3 (ipykernel)",
   "language": "python",
   "name": "python3"
  },
  "language_info": {
   "codemirror_mode": {
    "name": "ipython",
    "version": 3
   },
   "file_extension": ".py",
   "mimetype": "text/x-python",
   "name": "python",
   "nbconvert_exporter": "python",
   "pygments_lexer": "ipython3",
   "version": "3.11.6"
  }
 },
 "nbformat": 4,
 "nbformat_minor": 5
}
