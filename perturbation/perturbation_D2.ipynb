{
 "cells": [
  {
   "cell_type": "code",
   "execution_count": null,
   "metadata": {},
   "outputs": [],
   "source": []
  },
  {
   "cell_type": "code",
   "execution_count": 1,
   "metadata": {},
   "outputs": [],
   "source": [
    "import pandas as pd"
   ]
  },
  {
   "cell_type": "code",
   "execution_count": 2,
   "metadata": {},
   "outputs": [],
   "source": [
    "# import os\n",
    "# os.environ['PIP_NO_VERIFY'] = 'deepsparse'\n",
    "\n",
    "# # Then run pip install within the script using subprocess\n",
    "# import subprocess\n",
    "# subprocess.run(['pip', 'install', 'deepsparse'])"
   ]
  },
  {
   "cell_type": "code",
   "execution_count": 3,
   "metadata": {},
   "outputs": [],
   "source": [
    "# pip install --force-reinstall numpy\n"
   ]
  },
  {
   "cell_type": "code",
   "execution_count": 4,
   "metadata": {},
   "outputs": [],
   "source": [
    "aug_df = pd.read_csv(r\"/home/student/Desktop/P4/code/open_AI/synthetic-original-augmented-final-openai.csv\")  # on_bad_lines='skip', engine=\"python\")"
   ]
  },
  {
   "cell_type": "code",
   "execution_count": 5,
   "metadata": {},
   "outputs": [
    {
     "data": {
      "text/plain": [
       "1280"
      ]
     },
     "execution_count": 5,
     "metadata": {},
     "output_type": "execute_result"
    }
   ],
   "source": [
    "len(aug_df)"
   ]
  },
  {
   "cell_type": "code",
   "execution_count": 6,
   "metadata": {},
   "outputs": [
    {
     "data": {
      "text/html": [
       "<div>\n",
       "<style scoped>\n",
       "    .dataframe tbody tr th:only-of-type {\n",
       "        vertical-align: middle;\n",
       "    }\n",
       "\n",
       "    .dataframe tbody tr th {\n",
       "        vertical-align: top;\n",
       "    }\n",
       "\n",
       "    .dataframe thead th {\n",
       "        text-align: right;\n",
       "    }\n",
       "</style>\n",
       "<table border=\"1\" class=\"dataframe\">\n",
       "  <thead>\n",
       "    <tr style=\"text-align: right;\">\n",
       "      <th></th>\n",
       "      <th>Unnamed: 0</th>\n",
       "      <th>UserID</th>\n",
       "      <th>Docs</th>\n",
       "      <th>Actions</th>\n",
       "      <th>Summaries</th>\n",
       "    </tr>\n",
       "  </thead>\n",
       "  <tbody>\n",
       "    <tr>\n",
       "      <th>0</th>\n",
       "      <td>0</td>\n",
       "      <td>OKFDIsAZl6Qa0m9x26f5Ao4S0uc7Ca</td>\n",
       "      <td>['t3_1uik1u', 't3_43w7kx', 't3_lzpxj', 't3_4ek...</td>\n",
       "      <td>['click', 'click', 'skip', 'click', 'click', '...</td>\n",
       "      <td>49</td>\n",
       "    </tr>\n",
       "    <tr>\n",
       "      <th>1</th>\n",
       "      <td>1</td>\n",
       "      <td>4voZkkCJyOCnpQ5f8WFf5unLW1dSjC</td>\n",
       "      <td>['t3_3tlgya', 't3_2fv0ml', 'S27', 't3_1k899m',...</td>\n",
       "      <td>['click', 'gen_summ', 'summ_gen', 'gen_summ', ...</td>\n",
       "      <td>47</td>\n",
       "    </tr>\n",
       "    <tr>\n",
       "      <th>2</th>\n",
       "      <td>2</td>\n",
       "      <td>BYcMzzjuFgaA59QDKoAgY07PyyG0qC</td>\n",
       "      <td>['t3_40cfd4', 't3_2xzm0r', 't3_1c29x1', 't3_1c...</td>\n",
       "      <td>['click', 'click', 'click', 'click', 'click', ...</td>\n",
       "      <td>33</td>\n",
       "    </tr>\n",
       "    <tr>\n",
       "      <th>3</th>\n",
       "      <td>3</td>\n",
       "      <td>3AFaFd3w9NjDGnO51kupLyK1N44DQ2</td>\n",
       "      <td>['t3_398tyr', 't3_2jkqnb', 't3_29092z', 't3_3m...</td>\n",
       "      <td>['skip', 'click', 'click', 'click', 'click', '...</td>\n",
       "      <td>51</td>\n",
       "    </tr>\n",
       "    <tr>\n",
       "      <th>4</th>\n",
       "      <td>4</td>\n",
       "      <td>sC4a4UNRMSYCGopXr3K8znnyna6TVh</td>\n",
       "      <td>['t3_17nvxc', 't3_2yk9rt', 't3_2e8wr5', 't3_1b...</td>\n",
       "      <td>['skip', 'click', 'click', 'skip', 'skip', 'cl...</td>\n",
       "      <td>45</td>\n",
       "    </tr>\n",
       "    <tr>\n",
       "      <th>...</th>\n",
       "      <td>...</td>\n",
       "      <td>...</td>\n",
       "      <td>...</td>\n",
       "      <td>...</td>\n",
       "      <td>...</td>\n",
       "    </tr>\n",
       "    <tr>\n",
       "      <th>1275</th>\n",
       "      <td>1275</td>\n",
       "      <td>isDhsCwFEZSpFQj0r8qHU3SpdkWtpw</td>\n",
       "      <td>['t3_3gjipx', 't3_3td5la', 't3_17x2sr', 'S2673...</td>\n",
       "      <td>['click', 'skip', 'gen_summ', 'summ_gen', 'cli...</td>\n",
       "      <td>42</td>\n",
       "    </tr>\n",
       "    <tr>\n",
       "      <th>1276</th>\n",
       "      <td>1276</td>\n",
       "      <td>ZzGCcAhvqF0HnKxNsUjtJFadcZdyZj</td>\n",
       "      <td>['t3_3muqwd', 't3_2wff5p', 'S26754', 't3_2hm10...</td>\n",
       "      <td>['click', 'gen_summ', 'summ_gen', 'click', 'sk...</td>\n",
       "      <td>32</td>\n",
       "    </tr>\n",
       "    <tr>\n",
       "      <th>1277</th>\n",
       "      <td>1277</td>\n",
       "      <td>P2p07Up4eJyvxrrVYgwtb60krbFbxI</td>\n",
       "      <td>['t3_10e6pr', 't3_n0w5o', 't3_yf6r3', 't3_2r0j...</td>\n",
       "      <td>['click', 'click', 'click', 'gen_summ', 'summ_...</td>\n",
       "      <td>50</td>\n",
       "    </tr>\n",
       "    <tr>\n",
       "      <th>1278</th>\n",
       "      <td>1278</td>\n",
       "      <td>a7zXgbkuY6lk3vdt0q2Qf7SrZQgZ86</td>\n",
       "      <td>['t3_2sn231', 't3_41f2vn', 't3_3cfrr4', 't3_20...</td>\n",
       "      <td>['click', 'click', 'skip', 'skip', 'click', 'c...</td>\n",
       "      <td>46</td>\n",
       "    </tr>\n",
       "    <tr>\n",
       "      <th>1279</th>\n",
       "      <td>1279</td>\n",
       "      <td>mjwVX7RHTcfOfLTYGdBvms3vy8LTtP</td>\n",
       "      <td>['t3_1j89np', 't3_1rzsyd', 't3_4a7qz1', 't3_1x...</td>\n",
       "      <td>['click', 'click', 'click', 'click', 'click', ...</td>\n",
       "      <td>28</td>\n",
       "    </tr>\n",
       "  </tbody>\n",
       "</table>\n",
       "<p>1280 rows × 5 columns</p>\n",
       "</div>"
      ],
      "text/plain": [
       "      Unnamed: 0                          UserID  \\\n",
       "0              0  OKFDIsAZl6Qa0m9x26f5Ao4S0uc7Ca   \n",
       "1              1  4voZkkCJyOCnpQ5f8WFf5unLW1dSjC   \n",
       "2              2  BYcMzzjuFgaA59QDKoAgY07PyyG0qC   \n",
       "3              3  3AFaFd3w9NjDGnO51kupLyK1N44DQ2   \n",
       "4              4  sC4a4UNRMSYCGopXr3K8znnyna6TVh   \n",
       "...          ...                             ...   \n",
       "1275        1275  isDhsCwFEZSpFQj0r8qHU3SpdkWtpw   \n",
       "1276        1276  ZzGCcAhvqF0HnKxNsUjtJFadcZdyZj   \n",
       "1277        1277  P2p07Up4eJyvxrrVYgwtb60krbFbxI   \n",
       "1278        1278  a7zXgbkuY6lk3vdt0q2Qf7SrZQgZ86   \n",
       "1279        1279  mjwVX7RHTcfOfLTYGdBvms3vy8LTtP   \n",
       "\n",
       "                                                   Docs  \\\n",
       "0     ['t3_1uik1u', 't3_43w7kx', 't3_lzpxj', 't3_4ek...   \n",
       "1     ['t3_3tlgya', 't3_2fv0ml', 'S27', 't3_1k899m',...   \n",
       "2     ['t3_40cfd4', 't3_2xzm0r', 't3_1c29x1', 't3_1c...   \n",
       "3     ['t3_398tyr', 't3_2jkqnb', 't3_29092z', 't3_3m...   \n",
       "4     ['t3_17nvxc', 't3_2yk9rt', 't3_2e8wr5', 't3_1b...   \n",
       "...                                                 ...   \n",
       "1275  ['t3_3gjipx', 't3_3td5la', 't3_17x2sr', 'S2673...   \n",
       "1276  ['t3_3muqwd', 't3_2wff5p', 'S26754', 't3_2hm10...   \n",
       "1277  ['t3_10e6pr', 't3_n0w5o', 't3_yf6r3', 't3_2r0j...   \n",
       "1278  ['t3_2sn231', 't3_41f2vn', 't3_3cfrr4', 't3_20...   \n",
       "1279  ['t3_1j89np', 't3_1rzsyd', 't3_4a7qz1', 't3_1x...   \n",
       "\n",
       "                                                Actions  Summaries  \n",
       "0     ['click', 'click', 'skip', 'click', 'click', '...         49  \n",
       "1     ['click', 'gen_summ', 'summ_gen', 'gen_summ', ...         47  \n",
       "2     ['click', 'click', 'click', 'click', 'click', ...         33  \n",
       "3     ['skip', 'click', 'click', 'click', 'click', '...         51  \n",
       "4     ['skip', 'click', 'click', 'skip', 'skip', 'cl...         45  \n",
       "...                                                 ...        ...  \n",
       "1275  ['click', 'skip', 'gen_summ', 'summ_gen', 'cli...         42  \n",
       "1276  ['click', 'gen_summ', 'summ_gen', 'click', 'sk...         32  \n",
       "1277  ['click', 'click', 'click', 'gen_summ', 'summ_...         50  \n",
       "1278  ['click', 'click', 'skip', 'skip', 'click', 'c...         46  \n",
       "1279  ['click', 'click', 'click', 'click', 'click', ...         28  \n",
       "\n",
       "[1280 rows x 5 columns]"
      ]
     },
     "execution_count": 6,
     "metadata": {},
     "output_type": "execute_result"
    }
   ],
   "source": [
    "aug_df"
   ]
  },
  {
   "cell_type": "code",
   "execution_count": 7,
   "metadata": {},
   "outputs": [],
   "source": [
    "chunks_size = 10000\n",
    "chunks = pd.read_csv(r\"/home/student/Desktop/P4/code/open_AI/news_openAI.csv\", chunksize=chunks_size)\n",
    "news_df = pd.concat(chunks, ignore_index= True)\n"
   ]
  },
  {
   "cell_type": "code",
   "execution_count": 8,
   "metadata": {},
   "outputs": [
    {
     "name": "stdout",
     "output_type": "stream",
     "text": [
      "                              UserID  Summaries  cumulative_sum\n",
      "0     OKFDIsAZl6Qa0m9x26f5Ao4S0uc7Ca         49              49\n",
      "1     4voZkkCJyOCnpQ5f8WFf5unLW1dSjC         47              96\n",
      "2     BYcMzzjuFgaA59QDKoAgY07PyyG0qC         33             129\n",
      "3     3AFaFd3w9NjDGnO51kupLyK1N44DQ2         51             180\n",
      "4     sC4a4UNRMSYCGopXr3K8znnyna6TVh         45             225\n",
      "...                              ...        ...             ...\n",
      "1275  isDhsCwFEZSpFQj0r8qHU3SpdkWtpw         42           53707\n",
      "1276  ZzGCcAhvqF0HnKxNsUjtJFadcZdyZj         32           53739\n",
      "1277  P2p07Up4eJyvxrrVYgwtb60krbFbxI         50           53789\n",
      "1278  a7zXgbkuY6lk3vdt0q2Qf7SrZQgZ86         46           53835\n",
      "1279  mjwVX7RHTcfOfLTYGdBvms3vy8LTtP         28           53863\n",
      "\n",
      "[1280 rows x 3 columns]\n"
     ]
    },
    {
     "name": "stderr",
     "output_type": "stream",
     "text": [
      "/tmp/ipykernel_2580347/2018685176.py:3: SettingWithCopyWarning: \n",
      "A value is trying to be set on a copy of a slice from a DataFrame.\n",
      "Try using .loc[row_indexer,col_indexer] = value instead\n",
      "\n",
      "See the caveats in the documentation: https://pandas.pydata.org/pandas-docs/stable/user_guide/indexing.html#returning-a-view-versus-a-copy\n",
      "  df_selected['cumulative_sum'] = df_selected['Summaries'].cumsum()\n"
     ]
    }
   ],
   "source": [
    "num_rows = 10000\n",
    "df_selected = aug_df.iloc[:num_rows]\n",
    "df_selected['cumulative_sum'] = df_selected['Summaries'].cumsum()\n",
    "\n",
    "print(df_selected[['UserID', 'Summaries', 'cumulative_sum']])\n"
   ]
  },
  {
   "cell_type": "code",
   "execution_count": 9,
   "metadata": {},
   "outputs": [
    {
     "data": {
      "text/html": [
       "<div>\n",
       "<style scoped>\n",
       "    .dataframe tbody tr th:only-of-type {\n",
       "        vertical-align: middle;\n",
       "    }\n",
       "\n",
       "    .dataframe tbody tr th {\n",
       "        vertical-align: top;\n",
       "    }\n",
       "\n",
       "    .dataframe thead th {\n",
       "        text-align: right;\n",
       "    }\n",
       "</style>\n",
       "<table border=\"1\" class=\"dataframe\">\n",
       "  <thead>\n",
       "    <tr style=\"text-align: right;\">\n",
       "      <th></th>\n",
       "      <th>Unnamed: 0</th>\n",
       "      <th>index</th>\n",
       "      <th>newsID</th>\n",
       "      <th>category</th>\n",
       "      <th>Headline</th>\n",
       "      <th>news_body</th>\n",
       "      <th>UserID</th>\n",
       "    </tr>\n",
       "  </thead>\n",
       "  <tbody>\n",
       "    <tr>\n",
       "      <th>0</th>\n",
       "      <td>0</td>\n",
       "      <td>0</td>\n",
       "      <td>t3_4l0bal</td>\n",
       "      <td>relationship_advice</td>\n",
       "      <td>19f with fiance 20m and roommate 19m- fiance a...</td>\n",
       "      <td>Recently, my fiance  (20 m) and I (19f) moved ...</td>\n",
       "      <td>iL7GfrbN2PeB3KInidqSxUdxYcTZmG</td>\n",
       "    </tr>\n",
       "    <tr>\n",
       "      <th>1</th>\n",
       "      <td>6</td>\n",
       "      <td>6</td>\n",
       "      <td>t3_4iqygu</td>\n",
       "      <td>relationships</td>\n",
       "      <td>Me [17 F] with my boyfriend [17 M] He is being...</td>\n",
       "      <td>My boyfriend and I have been together little o...</td>\n",
       "      <td>dL2Aff39094mOhTKsLkJg8sCCFbirW</td>\n",
       "    </tr>\n",
       "    <tr>\n",
       "      <th>2</th>\n",
       "      <td>12</td>\n",
       "      <td>12</td>\n",
       "      <td>t3_2dmjeu</td>\n",
       "      <td>dating_advice</td>\n",
       "      <td>What should my next move be?</td>\n",
       "      <td>Sorry for the wall of text, it's hard to summa...</td>\n",
       "      <td>dL2Aff39094mOhTKsLkJg8sCCFbirW</td>\n",
       "    </tr>\n",
       "    <tr>\n",
       "      <th>3</th>\n",
       "      <td>18</td>\n",
       "      <td>18</td>\n",
       "      <td>t3_2k3zi1</td>\n",
       "      <td>pettyrevenge</td>\n",
       "      <td>Revenge on a New Roommate</td>\n",
       "      <td>I share an apartment with my boyfriend. There ...</td>\n",
       "      <td>dL2Aff39094mOhTKsLkJg8sCCFbirW</td>\n",
       "    </tr>\n",
       "    <tr>\n",
       "      <th>4</th>\n",
       "      <td>24</td>\n",
       "      <td>24</td>\n",
       "      <td>t3_zjaee</td>\n",
       "      <td>relationships</td>\n",
       "      <td>Girlfriend suffers from anxiety; after a crazy...</td>\n",
       "      <td>So me and my girlfriend (both 22) have been to...</td>\n",
       "      <td>RMwrIV50cNusBthNvLs1wSNdqFpQAg</td>\n",
       "    </tr>\n",
       "    <tr>\n",
       "      <th>...</th>\n",
       "      <td>...</td>\n",
       "      <td>...</td>\n",
       "      <td>...</td>\n",
       "      <td>...</td>\n",
       "      <td>...</td>\n",
       "      <td>...</td>\n",
       "      <td>...</td>\n",
       "    </tr>\n",
       "    <tr>\n",
       "      <th>21108</th>\n",
       "      <td>183185</td>\n",
       "      <td>183185</td>\n",
       "      <td>t3_3e2ahf</td>\n",
       "      <td>relationships</td>\n",
       "      <td>I [25M] have been with anxiety problems about ...</td>\n",
       "      <td>Hi reddit. So long story short, I dated a girl...</td>\n",
       "      <td>gMlGeJl1vsMERrbmC7W717zpVevUh8</td>\n",
       "    </tr>\n",
       "    <tr>\n",
       "      <th>21109</th>\n",
       "      <td>183197</td>\n",
       "      <td>183197</td>\n",
       "      <td>t3_36oxxj</td>\n",
       "      <td>relationship_advice</td>\n",
       "      <td>I'm (16/f) really scared for my current girlfr...</td>\n",
       "      <td>first time using reddit guys; wish me luck. an...</td>\n",
       "      <td>thott7XepukYSbOL2QgSlyXd0rgHvr</td>\n",
       "    </tr>\n",
       "    <tr>\n",
       "      <th>21110</th>\n",
       "      <td>183221</td>\n",
       "      <td>183221</td>\n",
       "      <td>t3_3llhf7</td>\n",
       "      <td>relationships</td>\n",
       "      <td>Me [43 M] with my new partner [37F] 3 weeks du...</td>\n",
       "      <td>So here is my issue. First some background, I ...</td>\n",
       "      <td>ZzGCcAhvqF0HnKxNsUjtJFadcZdyZj</td>\n",
       "    </tr>\n",
       "    <tr>\n",
       "      <th>21111</th>\n",
       "      <td>184917</td>\n",
       "      <td>184917</td>\n",
       "      <td>t3_2ipseg</td>\n",
       "      <td>relationships</td>\n",
       "      <td>Me [20 M] with my crush [(20-21) F] ~1.5 month...</td>\n",
       "      <td>So there's a girl that I've been talking to fo...</td>\n",
       "      <td>OKFDIsAZl6Qa0m9x26f5Ao4S0uc7Ca</td>\n",
       "    </tr>\n",
       "    <tr>\n",
       "      <th>21112</th>\n",
       "      <td>185126</td>\n",
       "      <td>185126</td>\n",
       "      <td>t3_14m2fp</td>\n",
       "      <td>offmychest</td>\n",
       "      <td>I didn't care that much that she was logging i...</td>\n",
       "      <td>I don't have anything to hide. Maybe it's a li...</td>\n",
       "      <td>KZL1qeRzHNYSfDAuOctL1iyVV8WC5N</td>\n",
       "    </tr>\n",
       "  </tbody>\n",
       "</table>\n",
       "<p>21113 rows × 7 columns</p>\n",
       "</div>"
      ],
      "text/plain": [
       "       Unnamed: 0   index     newsID             category  \\\n",
       "0               0       0  t3_4l0bal  relationship_advice   \n",
       "1               6       6  t3_4iqygu        relationships   \n",
       "2              12      12  t3_2dmjeu        dating_advice   \n",
       "3              18      18  t3_2k3zi1         pettyrevenge   \n",
       "4              24      24   t3_zjaee        relationships   \n",
       "...           ...     ...        ...                  ...   \n",
       "21108      183185  183185  t3_3e2ahf        relationships   \n",
       "21109      183197  183197  t3_36oxxj  relationship_advice   \n",
       "21110      183221  183221  t3_3llhf7        relationships   \n",
       "21111      184917  184917  t3_2ipseg        relationships   \n",
       "21112      185126  185126  t3_14m2fp           offmychest   \n",
       "\n",
       "                                                Headline  \\\n",
       "0      19f with fiance 20m and roommate 19m- fiance a...   \n",
       "1      Me [17 F] with my boyfriend [17 M] He is being...   \n",
       "2                           What should my next move be?   \n",
       "3                              Revenge on a New Roommate   \n",
       "4      Girlfriend suffers from anxiety; after a crazy...   \n",
       "...                                                  ...   \n",
       "21108  I [25M] have been with anxiety problems about ...   \n",
       "21109  I'm (16/f) really scared for my current girlfr...   \n",
       "21110  Me [43 M] with my new partner [37F] 3 weeks du...   \n",
       "21111  Me [20 M] with my crush [(20-21) F] ~1.5 month...   \n",
       "21112  I didn't care that much that she was logging i...   \n",
       "\n",
       "                                               news_body  \\\n",
       "0      Recently, my fiance  (20 m) and I (19f) moved ...   \n",
       "1      My boyfriend and I have been together little o...   \n",
       "2      Sorry for the wall of text, it's hard to summa...   \n",
       "3      I share an apartment with my boyfriend. There ...   \n",
       "4      So me and my girlfriend (both 22) have been to...   \n",
       "...                                                  ...   \n",
       "21108  Hi reddit. So long story short, I dated a girl...   \n",
       "21109  first time using reddit guys; wish me luck. an...   \n",
       "21110  So here is my issue. First some background, I ...   \n",
       "21111  So there's a girl that I've been talking to fo...   \n",
       "21112  I don't have anything to hide. Maybe it's a li...   \n",
       "\n",
       "                               UserID  \n",
       "0      iL7GfrbN2PeB3KInidqSxUdxYcTZmG  \n",
       "1      dL2Aff39094mOhTKsLkJg8sCCFbirW  \n",
       "2      dL2Aff39094mOhTKsLkJg8sCCFbirW  \n",
       "3      dL2Aff39094mOhTKsLkJg8sCCFbirW  \n",
       "4      RMwrIV50cNusBthNvLs1wSNdqFpQAg  \n",
       "...                               ...  \n",
       "21108  gMlGeJl1vsMERrbmC7W717zpVevUh8  \n",
       "21109  thott7XepukYSbOL2QgSlyXd0rgHvr  \n",
       "21110  ZzGCcAhvqF0HnKxNsUjtJFadcZdyZj  \n",
       "21111  OKFDIsAZl6Qa0m9x26f5Ao4S0uc7Ca  \n",
       "21112  KZL1qeRzHNYSfDAuOctL1iyVV8WC5N  \n",
       "\n",
       "[21113 rows x 7 columns]"
      ]
     },
     "execution_count": 9,
     "metadata": {},
     "output_type": "execute_result"
    }
   ],
   "source": [
    "news_df"
   ]
  },
  {
   "cell_type": "code",
   "execution_count": 10,
   "metadata": {},
   "outputs": [],
   "source": [
    "# sub_df = aug_df[\"Action\"][1:6012]\n",
    "# click_count  = sub_df.apply(lambda actions: actions.count(\"gen_summ\")).sum()\n",
    "# click_count"
   ]
  },
  {
   "cell_type": "code",
   "execution_count": 11,
   "metadata": {},
   "outputs": [],
   "source": [
    "news_df = pd.read_csv(r\"/home/student/Desktop/P4/code/open_AI/news_openAI.csv\")"
   ]
  },
  {
   "cell_type": "code",
   "execution_count": 12,
   "metadata": {},
   "outputs": [
    {
     "data": {
      "text/plain": [
       "Index(['Unnamed: 0', 'index', 'newsID', 'category', 'Headline', 'news_body',\n",
       "       'UserID'],\n",
       "      dtype='object')"
      ]
     },
     "execution_count": 12,
     "metadata": {},
     "output_type": "execute_result"
    }
   ],
   "source": [
    "news_df.columns"
   ]
  },
  {
   "cell_type": "code",
   "execution_count": 13,
   "metadata": {},
   "outputs": [],
   "source": [
    "summ_df = pd.read_csv(r\"/home/student/Desktop/P4/code/open_AI/summ_test_openai-final.csv\", encoding='ISO-8859-1')"
   ]
  },
  {
   "cell_type": "code",
   "execution_count": 14,
   "metadata": {},
   "outputs": [],
   "source": [
    "news_df.set_index('newsID', inplace=True)\n",
    "summ_df.set_index('SummID', inplace= True)"
   ]
  },
  {
   "cell_type": "code",
   "execution_count": 15,
   "metadata": {},
   "outputs": [],
   "source": [
    "purturbed_summ_df= pd.DataFrame(columns=['SummID','NewsID','UserID', 'Summary'])"
   ]
  },
  {
   "cell_type": "code",
   "execution_count": 16,
   "metadata": {},
   "outputs": [],
   "source": [
    "decay_rate=0.3\n",
    "previous_doc_steps = 10\n",
    "perturbation_probability= 0.8"
   ]
  },
  {
   "cell_type": "code",
   "execution_count": 17,
   "metadata": {},
   "outputs": [],
   "source": [
    "# from deepsparse import compile_model\n",
    "\n",
    "# stub = \"zoo:distilbert-sst2_wikipedia_bookcorpus-pruned80.4block_quantized\"\n",
    "# engine = compile_model(stub, batch_size=1)\n",
    "# print(engine)"
   ]
  },
  {
   "cell_type": "code",
   "execution_count": 18,
   "metadata": {},
   "outputs": [],
   "source": [
    "# !pip install Sentencepiece"
   ]
  },
  {
   "cell_type": "code",
   "execution_count": 19,
   "metadata": {},
   "outputs": [],
   "source": [
    "# pip install sentence-transformers\n"
   ]
  },
  {
   "cell_type": "code",
   "execution_count": 20,
   "metadata": {},
   "outputs": [
    {
     "name": "stderr",
     "output_type": "stream",
     "text": [
      "/home/student/Desktop/P4/trial/lib/python3.12/site-packages/tqdm/auto.py:21: TqdmWarning: IProgress not found. Please update jupyter and ipywidgets. See https://ipywidgets.readthedocs.io/en/stable/user_install.html\n",
      "  from .autonotebook import tqdm as notebook_tqdm\n"
     ]
    }
   ],
   "source": [
    "from perturbation import perturbate_trajectory"
   ]
  },
  {
   "cell_type": "code",
   "execution_count": 21,
   "metadata": {},
   "outputs": [],
   "source": [
    "# import ipywidgets as widgets\n",
    "# widgets.IntSlider()"
   ]
  },
  {
   "cell_type": "code",
   "execution_count": 22,
   "metadata": {},
   "outputs": [],
   "source": [
    "# from tqdm import tqdm"
   ]
  },
  {
   "cell_type": "code",
   "execution_count": 23,
   "metadata": {},
   "outputs": [],
   "source": [
    "# !pip install spacy\n",
    "# !python -m spacy download en_core_web_md"
   ]
  },
  {
   "cell_type": "code",
   "execution_count": null,
   "metadata": {},
   "outputs": [],
   "source": []
  },
  {
   "cell_type": "code",
   "execution_count": 24,
   "metadata": {},
   "outputs": [],
   "source": [
    "import time\n",
    "from tqdm.notebook import tqdm"
   ]
  },
  {
   "cell_type": "code",
   "execution_count": 25,
   "metadata": {},
   "outputs": [],
   "source": [
    "# import pandas as pd\n",
    "# import json\n",
    "# import random\n",
    "# import time\n",
    "# from tqdm import tqdm\n",
    "\n",
    "# # Initialize the DataFrame for perturbed summaries\n",
    "# purturbed_summ_df = pd.DataFrame(columns=['SummID', 'NewsID', 'UserID', 'Summary'])\n",
    "# curr_summ_id =  0\n",
    "\n",
    "# aug_df_loop = aug_df[0:1280]\n",
    "\n",
    "# output_file_path = \"open_ai_sample.csv\"\n",
    "# aug_output_file_path = \"open_ai_trial.csv\"\n",
    "\n",
    "# start_time = time.time()\n",
    "\n",
    "# def process_row(row, purturbed_summ_df, curr_summ_id):\n",
    "#     try:\n",
    "#         # Assuming perturbate_trajectory is defined elsewhere\n",
    "#         purturbed_summ_df, curr_summ_id, updated_doc_list = perturbate_trajectory(\n",
    "#             row, news_df, summ_df, purturbed_summ_df, curr_summ_id, \n",
    "#             previous_doc_steps, decay_rate, perturbation_probability\n",
    "#         )\n",
    "        \n",
    "#         # # Ensure that the updated_doc_list is serialized before storing it back into the DataFrame\n",
    "#         # if isinstance(updated_doc_list, list):\n",
    "#         #     updated_doc_list = json.dumps(updated_doc_list)  # Serialize to JSON string\n",
    "#         return updated_doc_list, purturbed_summ_df, curr_summ_id\n",
    "\n",
    "#     except KeyError as e:\n",
    "#         print(f\"KeyError: {e} at row {row.name}\")\n",
    "#         docs = row.get(\"Docs\", \"No Docs Found\")  # Handle missing key\n",
    "#         return docs, purturbed_summ_df, curr_summ_id\n",
    "\n",
    "#     except Exception as e:\n",
    "#         print(f\"Error at row {row.name}: {e}\")\n",
    "#         return row.get(\"Docs\", \"No Docs Found\"), purturbed_summ_df, curr_summ_id\n",
    "\n",
    "\n",
    "# # Process all rows and update 'Docs' column\n",
    "# for idx, (index, row) in enumerate(tqdm(aug_df_loop.iterrows(), total=aug_df_loop.shape[0])):\n",
    "#     updated_docs, purturbed_summ_df, curr_summ_id = process_row(row, purturbed_summ_df, curr_summ_id)\n",
    "    \n",
    "#     # Assign the serialized string back to the DataFrame\n",
    "#     aug_df.at[index, 'Docs'] = updated_docs \n",
    "\n",
    "# # After processing, you can print the updated DataFrame or the results\n",
    "# # print(aug_df.head())  # This will show the first few rows of the DataFrame with updated 'Docs'\n",
    "\n",
    "#     if (idx +1) % 50 ==0:\n",
    "#         try:\n",
    "#             existing_df = pd.read_csv(output_file_path)\n",
    "#             new_rows = purturbed_summ_df[~purturbed_summ_df.isin(existing_df)].dropna(how='all')\n",
    "#             if not new_rows.empty:\n",
    "#                 new_rows.to_csv(output_file_path, index=False, mode= 'a', header = False)\n",
    "#                 print(f\"Saved progress to {output_file_path} at iteration {idx +1}\")\n",
    "#         except FileNotFoundError:\n",
    "#             purturbed_summ_df.to_csv(output_file_path, index =False, mode = 'w', header=True)\n",
    "#             print(f\"Created new file and saved progress at iteration {idx+1}\")\n",
    "#     if (idx+1) % 50 ==0:\n",
    "#         aug_df.loc[index:index+idx].to_csv(aug_output_file_path, index= False, mode='w')\n",
    "#         print(f\"Saved aug_df progress to{aug_output_file_path} at iteration {idx+1}\")\n",
    "\n",
    "# end_time = time.time()\n",
    "# total_time = end_time - start_time \n",
    "# print(f\"Total time for processing: {total_time:.2f} seconds\")\n",
    "# # current"
   ]
  },
  {
   "cell_type": "code",
   "execution_count": null,
   "metadata": {},
   "outputs": [
    {
     "name": "stderr",
     "output_type": "stream",
     "text": [
      "  0%|          | 0/5 [00:00<?, ?it/s]"
     ]
    },
    {
     "name": "stdout",
     "output_type": "stream",
     "text": [
      "-----------\n",
      "Row 0: Docs column contains <class 'str'>\n",
      "Doc ID t3_35gz3l\n"
     ]
    },
    {
     "name": "stderr",
     "output_type": "stream",
     "text": [
      "/home/student/Desktop/P4/code/perturbation.py:60: UserWarning: To copy construct from a tensor, it is recommended to use sourceTensor.clone().detach() or sourceTensor.clone().detach().requires_grad_(True), rather than torch.tensor(sourceTensor).\n",
      "  tensor_array = torch.stack([torch.tensor(score, dtype=torch.float32).clone().detach() for score in sentences_scores])\n"
     ]
    },
    {
     "name": "stdout",
     "output_type": "stream",
     "text": [
      "Added perturbed summary:   SummID     NewsID                          UserID  \\\n",
      "0    S-1  t3_35gz3l  OKFDIsAZl6Qa0m9x26f5Ao4S0uc7Ca   \n",
      "\n",
      "                                             Summary  \n",
      "0  We've gone through a lot of things together, g...  \n",
      "Doc ID t3_4fplod\n"
     ]
    },
    {
     "name": "stderr",
     "output_type": "stream",
     "text": [
      "/home/student/Desktop/P4/code/perturbation.py:60: UserWarning: To copy construct from a tensor, it is recommended to use sourceTensor.clone().detach() or sourceTensor.clone().detach().requires_grad_(True), rather than torch.tensor(sourceTensor).\n",
      "  tensor_array = torch.stack([torch.tensor(score, dtype=torch.float32).clone().detach() for score in sentences_scores])\n"
     ]
    },
    {
     "name": "stdout",
     "output_type": "stream",
     "text": [
      "Added perturbed summary:   SummID     NewsID                          UserID  \\\n",
      "0    S-2  t3_4fplod  OKFDIsAZl6Qa0m9x26f5Ao4S0uc7Ca   \n",
      "\n",
      "                                             Summary  \n",
      "0  My boundaries are pretty strongly associated w...  \n",
      "Doc ID t3_rjg7p\n"
     ]
    },
    {
     "name": "stderr",
     "output_type": "stream",
     "text": [
      "/home/student/Desktop/P4/code/perturbation.py:60: UserWarning: To copy construct from a tensor, it is recommended to use sourceTensor.clone().detach() or sourceTensor.clone().detach().requires_grad_(True), rather than torch.tensor(sourceTensor).\n",
      "  tensor_array = torch.stack([torch.tensor(score, dtype=torch.float32).clone().detach() for score in sentences_scores])\n"
     ]
    },
    {
     "name": "stdout",
     "output_type": "stream",
     "text": [
      "Added perturbed summary:   SummID    NewsID                          UserID                   Summary\n",
      "0    S-3  t3_rjg7p  OKFDIsAZl6Qa0m9x26f5Ao4S0uc7Ca  What should I say or do?\n",
      "Doc ID t3_2u0li8\n"
     ]
    },
    {
     "name": "stderr",
     "output_type": "stream",
     "text": [
      "/home/student/Desktop/P4/code/perturbation.py:60: UserWarning: To copy construct from a tensor, it is recommended to use sourceTensor.clone().detach() or sourceTensor.clone().detach().requires_grad_(True), rather than torch.tensor(sourceTensor).\n",
      "  tensor_array = torch.stack([torch.tensor(score, dtype=torch.float32).clone().detach() for score in sentences_scores])\n"
     ]
    },
    {
     "name": "stdout",
     "output_type": "stream",
     "text": [
      "Added existing summary:  My mom found out about all the dirty stuff I'd done over the last 2 years, and I'm still not over it.\n",
      "Doc ID t3_1ivrhg\n",
      "Added perturbed summary:   SummID     NewsID                          UserID  \\\n",
      "0    S-5  t3_1ivrhg  OKFDIsAZl6Qa0m9x26f5Ao4S0uc7Ca   \n",
      "\n",
      "                                             Summary  \n",
      "0  Anybody else out there with similar situations...  \n",
      "Doc ID t3_1qmja0\n"
     ]
    },
    {
     "name": "stderr",
     "output_type": "stream",
     "text": [
      "/home/student/Desktop/P4/code/perturbation.py:60: UserWarning: To copy construct from a tensor, it is recommended to use sourceTensor.clone().detach() or sourceTensor.clone().detach().requires_grad_(True), rather than torch.tensor(sourceTensor).\n",
      "  tensor_array = torch.stack([torch.tensor(score, dtype=torch.float32).clone().detach() for score in sentences_scores])\n"
     ]
    },
    {
     "name": "stdout",
     "output_type": "stream",
     "text": [
      "Added perturbed summary:   SummID     NewsID                          UserID  \\\n",
      "0    S-6  t3_1qmja0  OKFDIsAZl6Qa0m9x26f5Ao4S0uc7Ca   \n",
      "\n",
      "                                             Summary  \n",
      "0  I also want to start dating again but feel lik...  \n",
      "Doc ID t3_4a7qz1\n"
     ]
    },
    {
     "name": "stderr",
     "output_type": "stream",
     "text": [
      "/home/student/Desktop/P4/code/perturbation.py:60: UserWarning: To copy construct from a tensor, it is recommended to use sourceTensor.clone().detach() or sourceTensor.clone().detach().requires_grad_(True), rather than torch.tensor(sourceTensor).\n",
      "  tensor_array = torch.stack([torch.tensor(score, dtype=torch.float32).clone().detach() for score in sentences_scores])\n"
     ]
    },
    {
     "name": "stdout",
     "output_type": "stream",
     "text": [
      "Added existing summary:  Girl I've known for 3 years, who told she's not looking for anything serious, had a party at my place, we stayed up all night, watched some cartoons. Am I looking at friends with benefits or something?\n",
      "Doc ID t3_2trspq\n",
      "Added perturbed summary:   SummID     NewsID                          UserID  \\\n",
      "0    S-8  t3_2trspq  OKFDIsAZl6Qa0m9x26f5Ao4S0uc7Ca   \n",
      "\n",
      "                                             Summary  \n",
      "0  and we hang out and whatnot, but intimacy has ...  \n",
      "Doc ID t3_1s6z6l\n"
     ]
    },
    {
     "name": "stderr",
     "output_type": "stream",
     "text": [
      "/home/student/Desktop/P4/code/perturbation.py:60: UserWarning: To copy construct from a tensor, it is recommended to use sourceTensor.clone().detach() or sourceTensor.clone().detach().requires_grad_(True), rather than torch.tensor(sourceTensor).\n",
      "  tensor_array = torch.stack([torch.tensor(score, dtype=torch.float32).clone().detach() for score in sentences_scores])\n"
     ]
    },
    {
     "name": "stdout",
     "output_type": "stream",
     "text": [
      "Added perturbed summary:   SummID     NewsID                          UserID  \\\n",
      "0    S-9  t3_1s6z6l  OKFDIsAZl6Qa0m9x26f5Ao4S0uc7Ca   \n",
      "\n",
      "                                             Summary  \n",
      "0  No amount of calling, bribing, or coaxing gets...  \n",
      "Doc ID t3_4ozvws\n"
     ]
    },
    {
     "name": "stderr",
     "output_type": "stream",
     "text": [
      "/home/student/Desktop/P4/code/perturbation.py:60: UserWarning: To copy construct from a tensor, it is recommended to use sourceTensor.clone().detach() or sourceTensor.clone().detach().requires_grad_(True), rather than torch.tensor(sourceTensor).\n",
      "  tensor_array = torch.stack([torch.tensor(score, dtype=torch.float32).clone().detach() for score in sentences_scores])\n"
     ]
    },
    {
     "name": "stdout",
     "output_type": "stream",
     "text": [
      "Added perturbed summary:   SummID     NewsID                          UserID  \\\n",
      "0   S-10  t3_4ozvws  OKFDIsAZl6Qa0m9x26f5Ao4S0uc7Ca   \n",
      "\n",
      "                                             Summary  \n",
      "0  The other day she asked me if I wanted to go w...  \n",
      "Doc ID t3_35ober\n"
     ]
    },
    {
     "name": "stderr",
     "output_type": "stream",
     "text": [
      "/home/student/Desktop/P4/code/perturbation.py:60: UserWarning: To copy construct from a tensor, it is recommended to use sourceTensor.clone().detach() or sourceTensor.clone().detach().requires_grad_(True), rather than torch.tensor(sourceTensor).\n",
      "  tensor_array = torch.stack([torch.tensor(score, dtype=torch.float32).clone().detach() for score in sentences_scores])\n"
     ]
    },
    {
     "name": "stdout",
     "output_type": "stream",
     "text": [
      "Added perturbed summary:   SummID     NewsID                          UserID  \\\n",
      "0   S-11  t3_35ober  OKFDIsAZl6Qa0m9x26f5Ao4S0uc7Ca   \n",
      "\n",
      "                        Summary  \n",
      "0  How do I fix this situation?  \n",
      "Doc ID t3_1bzb0r\n"
     ]
    },
    {
     "name": "stderr",
     "output_type": "stream",
     "text": [
      "/home/student/Desktop/P4/code/perturbation.py:60: UserWarning: To copy construct from a tensor, it is recommended to use sourceTensor.clone().detach() or sourceTensor.clone().detach().requires_grad_(True), rather than torch.tensor(sourceTensor).\n",
      "  tensor_array = torch.stack([torch.tensor(score, dtype=torch.float32).clone().detach() for score in sentences_scores])\n"
     ]
    },
    {
     "name": "stdout",
     "output_type": "stream",
     "text": [
      "Added perturbed summary:   SummID     NewsID                          UserID  \\\n",
      "0   S-12  t3_1bzb0r  OKFDIsAZl6Qa0m9x26f5Ao4S0uc7Ca   \n",
      "\n",
      "                                             Summary  \n",
      "0  We hooked up once, then she said it was a mist...  \n",
      "Doc ID t3_1kgw3q\n"
     ]
    },
    {
     "name": "stderr",
     "output_type": "stream",
     "text": [
      "/home/student/Desktop/P4/code/perturbation.py:60: UserWarning: To copy construct from a tensor, it is recommended to use sourceTensor.clone().detach() or sourceTensor.clone().detach().requires_grad_(True), rather than torch.tensor(sourceTensor).\n",
      "  tensor_array = torch.stack([torch.tensor(score, dtype=torch.float32).clone().detach() for score in sentences_scores])\n"
     ]
    },
    {
     "name": "stdout",
     "output_type": "stream",
     "text": [
      "Added perturbed summary:   SummID     NewsID                          UserID  \\\n",
      "0   S-13  t3_1kgw3q  OKFDIsAZl6Qa0m9x26f5Ao4S0uc7Ca   \n",
      "\n",
      "                                             Summary  \n",
      "0  You all are THE BEST motivation a girl could a...  \n",
      "Doc ID t3_4imys5\n"
     ]
    },
    {
     "name": "stderr",
     "output_type": "stream",
     "text": [
      "/home/student/Desktop/P4/code/perturbation.py:60: UserWarning: To copy construct from a tensor, it is recommended to use sourceTensor.clone().detach() or sourceTensor.clone().detach().requires_grad_(True), rather than torch.tensor(sourceTensor).\n",
      "  tensor_array = torch.stack([torch.tensor(score, dtype=torch.float32).clone().detach() for score in sentences_scores])\n"
     ]
    },
    {
     "name": "stdout",
     "output_type": "stream",
     "text": [
      "Added perturbed summary:   SummID     NewsID                          UserID  \\\n",
      "0   S-14  t3_4imys5  OKFDIsAZl6Qa0m9x26f5Ao4S0uc7Ca   \n",
      "\n",
      "                                             Summary  \n",
      "0  What would be the best route for me to take wi...  \n",
      "Doc ID t3_419w0e\n"
     ]
    },
    {
     "name": "stderr",
     "output_type": "stream",
     "text": [
      "/home/student/Desktop/P4/code/perturbation.py:60: UserWarning: To copy construct from a tensor, it is recommended to use sourceTensor.clone().detach() or sourceTensor.clone().detach().requires_grad_(True), rather than torch.tensor(sourceTensor).\n",
      "  tensor_array = torch.stack([torch.tensor(score, dtype=torch.float32).clone().detach() for score in sentences_scores])\n"
     ]
    },
    {
     "name": "stdout",
     "output_type": "stream",
     "text": [
      "Added existing summary:  I'm 24, my boyfriend is 22, we've been together for 3 years, he has chronic pain issues. I feel like a shitty boyfriend for even thinking about it, but it feels like I get nothing out of our relationship anymore.\n",
      "Doc ID t3_1082b8\n",
      "Added perturbed summary:   SummID     NewsID                          UserID  \\\n",
      "0   S-16  t3_1082b8  OKFDIsAZl6Qa0m9x26f5Ao4S0uc7Ca   \n",
      "\n",
      "                                             Summary  \n",
      "0  She once made me clean up my own throw up with...  \n",
      "Doc ID t3_3hu4gb\n"
     ]
    },
    {
     "name": "stderr",
     "output_type": "stream",
     "text": [
      "/home/student/Desktop/P4/code/perturbation.py:60: UserWarning: To copy construct from a tensor, it is recommended to use sourceTensor.clone().detach() or sourceTensor.clone().detach().requires_grad_(True), rather than torch.tensor(sourceTensor).\n",
      "  tensor_array = torch.stack([torch.tensor(score, dtype=torch.float32).clone().detach() for score in sentences_scores])\n"
     ]
    },
    {
     "name": "stdout",
     "output_type": "stream",
     "text": [
      "Added perturbed summary:   SummID     NewsID                          UserID  \\\n",
      "0   S-17  t3_3hu4gb  OKFDIsAZl6Qa0m9x26f5Ao4S0uc7Ca   \n",
      "\n",
      "                                Summary  \n",
      "0  Is there any way I can proceed? \\n\\n  \n",
      "Doc ID t3_363wpl\n"
     ]
    },
    {
     "name": "stderr",
     "output_type": "stream",
     "text": [
      "/home/student/Desktop/P4/code/perturbation.py:60: UserWarning: To copy construct from a tensor, it is recommended to use sourceTensor.clone().detach() or sourceTensor.clone().detach().requires_grad_(True), rather than torch.tensor(sourceTensor).\n",
      "  tensor_array = torch.stack([torch.tensor(score, dtype=torch.float32).clone().detach() for score in sentences_scores])\n"
     ]
    },
    {
     "name": "stdout",
     "output_type": "stream",
     "text": [
      "Added perturbed summary:   SummID     NewsID                          UserID  \\\n",
      "0   S-18  t3_363wpl  OKFDIsAZl6Qa0m9x26f5Ao4S0uc7Ca   \n",
      "\n",
      "                                         Summary  \n",
      "0  Reddit, should I confront her now about this?  \n",
      "Doc ID t3_4juyep\n"
     ]
    },
    {
     "name": "stderr",
     "output_type": "stream",
     "text": [
      "/home/student/Desktop/P4/code/perturbation.py:60: UserWarning: To copy construct from a tensor, it is recommended to use sourceTensor.clone().detach() or sourceTensor.clone().detach().requires_grad_(True), rather than torch.tensor(sourceTensor).\n",
      "  tensor_array = torch.stack([torch.tensor(score, dtype=torch.float32).clone().detach() for score in sentences_scores])\n"
     ]
    },
    {
     "name": "stdout",
     "output_type": "stream",
     "text": [
      "Added perturbed summary:   SummID     NewsID                          UserID  \\\n",
      "0   S-19  t3_4juyep  OKFDIsAZl6Qa0m9x26f5Ao4S0uc7Ca   \n",
      "\n",
      "                                             Summary  \n",
      "0  Our relationship wasn't always long distance, ...  \n",
      "Doc ID t3_2kejx9\n"
     ]
    },
    {
     "name": "stderr",
     "output_type": "stream",
     "text": [
      "/home/student/Desktop/P4/code/perturbation.py:60: UserWarning: To copy construct from a tensor, it is recommended to use sourceTensor.clone().detach() or sourceTensor.clone().detach().requires_grad_(True), rather than torch.tensor(sourceTensor).\n",
      "  tensor_array = torch.stack([torch.tensor(score, dtype=torch.float32).clone().detach() for score in sentences_scores])\n"
     ]
    },
    {
     "name": "stdout",
     "output_type": "stream",
     "text": [
      "Added perturbed summary:   SummID     NewsID                          UserID  \\\n",
      "0   S-20  t3_2kejx9  OKFDIsAZl6Qa0m9x26f5Ao4S0uc7Ca   \n",
      "\n",
      "                                             Summary  \n",
      "0  They both saw me approach and expected me to d...  \n",
      "Doc ID t3_2zhdyd\n"
     ]
    },
    {
     "name": "stderr",
     "output_type": "stream",
     "text": [
      "/home/student/Desktop/P4/code/perturbation.py:60: UserWarning: To copy construct from a tensor, it is recommended to use sourceTensor.clone().detach() or sourceTensor.clone().detach().requires_grad_(True), rather than torch.tensor(sourceTensor).\n",
      "  tensor_array = torch.stack([torch.tensor(score, dtype=torch.float32).clone().detach() for score in sentences_scores])\n"
     ]
    },
    {
     "name": "stdout",
     "output_type": "stream",
     "text": [
      "Added existing summary:  I am in love with someone I have sort of a \"dream\" relationship with. I am in a current relationship and don't know if I should pursue this new relationship.\n",
      "Doc ID t3_3bi9xy\n",
      "Added perturbed summary:   SummID     NewsID                          UserID  \\\n",
      "0   S-22  t3_3bi9xy  OKFDIsAZl6Qa0m9x26f5Ao4S0uc7Ca   \n",
      "\n",
      "                                         Summary  \n",
      "0  Am I really being a petty jealous girlfriend?  \n",
      "Doc ID t3_2aagiy\n"
     ]
    },
    {
     "name": "stderr",
     "output_type": "stream",
     "text": [
      "/home/student/Desktop/P4/code/perturbation.py:60: UserWarning: To copy construct from a tensor, it is recommended to use sourceTensor.clone().detach() or sourceTensor.clone().detach().requires_grad_(True), rather than torch.tensor(sourceTensor).\n",
      "  tensor_array = torch.stack([torch.tensor(score, dtype=torch.float32).clone().detach() for score in sentences_scores])\n"
     ]
    },
    {
     "name": "stdout",
     "output_type": "stream",
     "text": [
      "Added perturbed summary:   SummID     NewsID                          UserID                  Summary\n",
      "0   S-23  t3_2aagiy  OKFDIsAZl6Qa0m9x26f5Ao4S0uc7Ca  How do i get over this?\n"
     ]
    },
    {
     "name": "stderr",
     "output_type": "stream",
     "text": [
      " 20%|██        | 1/5 [01:01<04:07, 61.76s/it]"
     ]
    },
    {
     "name": "stdout",
     "output_type": "stream",
     "text": [
      "Doc ID t3_o1dv6\n",
      "Error at row 0: [E1041] Expected a string, Doc, or bytes as input, but got: <class 'pandas.core.series.Series'>\n",
      "-----------\n",
      "Row 1: Docs column contains <class 'str'>\n"
     ]
    },
    {
     "name": "stderr",
     "output_type": "stream",
     "text": [
      " 40%|████      | 2/5 [01:02<01:17, 25.67s/it]"
     ]
    },
    {
     "name": "stdout",
     "output_type": "stream",
     "text": [
      "Doc ID t3_2fv0ml\n",
      "Error at row 1: [E1041] Expected a string, Doc, or bytes as input, but got: <class 'pandas.core.series.Series'>\n",
      "-----------\n",
      "Row 2: Docs column contains <class 'str'>\n",
      "Doc ID t3_1i2p7t\n"
     ]
    },
    {
     "name": "stderr",
     "output_type": "stream",
     "text": [
      "/home/student/Desktop/P4/code/perturbation.py:60: UserWarning: To copy construct from a tensor, it is recommended to use sourceTensor.clone().detach() or sourceTensor.clone().detach().requires_grad_(True), rather than torch.tensor(sourceTensor).\n",
      "  tensor_array = torch.stack([torch.tensor(score, dtype=torch.float32).clone().detach() for score in sentences_scores])\n"
     ]
    },
    {
     "name": "stdout",
     "output_type": "stream",
     "text": [
      "Added perturbed summary:   SummID     NewsID                          UserID  \\\n",
      "0    S-1  t3_1i2p7t  BYcMzzjuFgaA59QDKoAgY07PyyG0qC   \n",
      "\n",
      "                                             Summary  \n",
      "0  I want to give it another shot, but I don't kn...  \n",
      "Doc ID t3_o2vo1\n"
     ]
    },
    {
     "name": "stderr",
     "output_type": "stream",
     "text": [
      "/home/student/Desktop/P4/code/perturbation.py:60: UserWarning: To copy construct from a tensor, it is recommended to use sourceTensor.clone().detach() or sourceTensor.clone().detach().requires_grad_(True), rather than torch.tensor(sourceTensor).\n",
      "  tensor_array = torch.stack([torch.tensor(score, dtype=torch.float32).clone().detach() for score in sentences_scores])\n"
     ]
    },
    {
     "name": "stdout",
     "output_type": "stream",
     "text": [
      "Added existing summary:  December was a not-so-fun month, where I ate my way around, drank coffee and sodas as much as I could, and didn't exercise. But now that January is here, I'm ready to make new positive habits\n",
      "Doc ID t3_4pe3ee\n",
      "Added perturbed summary:   SummID     NewsID                          UserID  \\\n",
      "0    S-3  t3_4pe3ee  BYcMzzjuFgaA59QDKoAgY07PyyG0qC   \n",
      "\n",
      "                                             Summary  \n",
      "0  And I won't see her at all or very little duri...  \n",
      "Doc ID t3_3afl3k\n"
     ]
    },
    {
     "name": "stderr",
     "output_type": "stream",
     "text": [
      "/home/student/Desktop/P4/code/perturbation.py:60: UserWarning: To copy construct from a tensor, it is recommended to use sourceTensor.clone().detach() or sourceTensor.clone().detach().requires_grad_(True), rather than torch.tensor(sourceTensor).\n",
      "  tensor_array = torch.stack([torch.tensor(score, dtype=torch.float32).clone().detach() for score in sentences_scores])\n"
     ]
    },
    {
     "name": "stdout",
     "output_type": "stream",
     "text": [
      "Added perturbed summary:   SummID     NewsID                          UserID  \\\n",
      "0    S-4  t3_3afl3k  BYcMzzjuFgaA59QDKoAgY07PyyG0qC   \n",
      "\n",
      "                                             Summary  \n",
      "0  So i just found out that my best friend wants ...  \n",
      "Doc ID t3_2ckwfs\n"
     ]
    },
    {
     "name": "stderr",
     "output_type": "stream",
     "text": [
      "/home/student/Desktop/P4/code/perturbation.py:60: UserWarning: To copy construct from a tensor, it is recommended to use sourceTensor.clone().detach() or sourceTensor.clone().detach().requires_grad_(True), rather than torch.tensor(sourceTensor).\n",
      "  tensor_array = torch.stack([torch.tensor(score, dtype=torch.float32).clone().detach() for score in sentences_scores])\n"
     ]
    },
    {
     "name": "stdout",
     "output_type": "stream",
     "text": [
      "Added perturbed summary:   SummID     NewsID                          UserID  \\\n",
      "0    S-5  t3_2ckwfs  BYcMzzjuFgaA59QDKoAgY07PyyG0qC   \n",
      "\n",
      "                                        Summary  \n",
      "0  Am I wrong or selfish for feeling like this?  \n",
      "Doc ID t3_3bh03l\n"
     ]
    },
    {
     "name": "stderr",
     "output_type": "stream",
     "text": [
      "/home/student/Desktop/P4/code/perturbation.py:60: UserWarning: To copy construct from a tensor, it is recommended to use sourceTensor.clone().detach() or sourceTensor.clone().detach().requires_grad_(True), rather than torch.tensor(sourceTensor).\n",
      "  tensor_array = torch.stack([torch.tensor(score, dtype=torch.float32).clone().detach() for score in sentences_scores])\n"
     ]
    },
    {
     "name": "stdout",
     "output_type": "stream",
     "text": [
      "Added perturbed summary:   SummID     NewsID                          UserID  \\\n",
      "0    S-6  t3_3bh03l  BYcMzzjuFgaA59QDKoAgY07PyyG0qC   \n",
      "\n",
      "                              Summary  \n",
      "0  I'm past the initial grieving pain  \n",
      "Doc ID t3_2nc4cm\n"
     ]
    },
    {
     "name": "stderr",
     "output_type": "stream",
     "text": [
      "/home/student/Desktop/P4/code/perturbation.py:60: UserWarning: To copy construct from a tensor, it is recommended to use sourceTensor.clone().detach() or sourceTensor.clone().detach().requires_grad_(True), rather than torch.tensor(sourceTensor).\n",
      "  tensor_array = torch.stack([torch.tensor(score, dtype=torch.float32).clone().detach() for score in sentences_scores])\n"
     ]
    },
    {
     "name": "stdout",
     "output_type": "stream",
     "text": [
      "Added existing summary:  ) My gf left her abusive grandfather and now wants to go back to live with him. How can I convince her that she should stay?\n",
      "Doc ID t3_njcdl\n",
      "Added perturbed summary:   SummID    NewsID                          UserID  \\\n",
      "0    S-8  t3_njcdl  BYcMzzjuFgaA59QDKoAgY07PyyG0qC   \n",
      "\n",
      "                                    Summary  \n",
      "0  Any advice would be greatly appreciated!  \n",
      "Doc ID t3_16eggl\n"
     ]
    },
    {
     "name": "stderr",
     "output_type": "stream",
     "text": [
      "/home/student/Desktop/P4/code/perturbation.py:60: UserWarning: To copy construct from a tensor, it is recommended to use sourceTensor.clone().detach() or sourceTensor.clone().detach().requires_grad_(True), rather than torch.tensor(sourceTensor).\n",
      "  tensor_array = torch.stack([torch.tensor(score, dtype=torch.float32).clone().detach() for score in sentences_scores])\n"
     ]
    },
    {
     "name": "stdout",
     "output_type": "stream",
     "text": [
      "Added perturbed summary:   SummID     NewsID                          UserID  \\\n",
      "0    S-9  t3_16eggl  BYcMzzjuFgaA59QDKoAgY07PyyG0qC   \n",
      "\n",
      "                                             Summary  \n",
      "0  As a player that is an intermediate/experience...  \n",
      "Doc ID t3_3fxc6h\n"
     ]
    },
    {
     "name": "stderr",
     "output_type": "stream",
     "text": [
      "/home/student/Desktop/P4/code/perturbation.py:60: UserWarning: To copy construct from a tensor, it is recommended to use sourceTensor.clone().detach() or sourceTensor.clone().detach().requires_grad_(True), rather than torch.tensor(sourceTensor).\n",
      "  tensor_array = torch.stack([torch.tensor(score, dtype=torch.float32).clone().detach() for score in sentences_scores])\n"
     ]
    },
    {
     "name": "stdout",
     "output_type": "stream",
     "text": [
      "Added existing summary:  Uncle is getting catfished by a scam artist, and I don't want to cause a rift in my relationship with him.\n",
      "Doc ID t3_4ywi5n\n",
      "Added existing summary:  Girlfriend has lost interest in sex and I find it concerning.\n",
      "Doc ID t3_1qhi7u\n",
      "Added perturbed summary:   SummID     NewsID                          UserID  \\\n",
      "0   S-12  t3_1qhi7u  BYcMzzjuFgaA59QDKoAgY07PyyG0qC   \n",
      "\n",
      "                                             Summary  \n",
      "0  Sorry if this sounds very selfish and not real...  \n",
      "Doc ID t3_2tumfg\n"
     ]
    },
    {
     "name": "stderr",
     "output_type": "stream",
     "text": [
      "/home/student/Desktop/P4/code/perturbation.py:60: UserWarning: To copy construct from a tensor, it is recommended to use sourceTensor.clone().detach() or sourceTensor.clone().detach().requires_grad_(True), rather than torch.tensor(sourceTensor).\n",
      "  tensor_array = torch.stack([torch.tensor(score, dtype=torch.float32).clone().detach() for score in sentences_scores])\n"
     ]
    },
    {
     "name": "stdout",
     "output_type": "stream",
     "text": [
      "Added perturbed summary:   SummID     NewsID                          UserID  \\\n",
      "0   S-13  t3_2tumfg  BYcMzzjuFgaA59QDKoAgY07PyyG0qC   \n",
      "\n",
      "                                             Summary  \n",
      "0  Every time I speak to my dad about it, he says...  \n",
      "Doc ID t3_3jrvei\n"
     ]
    },
    {
     "name": "stderr",
     "output_type": "stream",
     "text": [
      "/home/student/Desktop/P4/code/perturbation.py:60: UserWarning: To copy construct from a tensor, it is recommended to use sourceTensor.clone().detach() or sourceTensor.clone().detach().requires_grad_(True), rather than torch.tensor(sourceTensor).\n",
      "  tensor_array = torch.stack([torch.tensor(score, dtype=torch.float32).clone().detach() for score in sentences_scores])\n"
     ]
    },
    {
     "name": "stdout",
     "output_type": "stream",
     "text": [
      "Added perturbed summary:   SummID     NewsID                          UserID  \\\n",
      "0   S-14  t3_3jrvei  BYcMzzjuFgaA59QDKoAgY07PyyG0qC   \n",
      "\n",
      "                                             Summary  \n",
      "0  How do I make investing emotionally in people ...  \n",
      "Doc ID t3_ltbxo\n"
     ]
    },
    {
     "name": "stderr",
     "output_type": "stream",
     "text": [
      "/home/student/Desktop/P4/code/perturbation.py:60: UserWarning: To copy construct from a tensor, it is recommended to use sourceTensor.clone().detach() or sourceTensor.clone().detach().requires_grad_(True), rather than torch.tensor(sourceTensor).\n",
      "  tensor_array = torch.stack([torch.tensor(score, dtype=torch.float32).clone().detach() for score in sentences_scores])\n"
     ]
    },
    {
     "name": "stdout",
     "output_type": "stream",
     "text": [
      "Added perturbed summary:   SummID    NewsID                          UserID  \\\n",
      "0   S-15  t3_ltbxo  BYcMzzjuFgaA59QDKoAgY07PyyG0qC   \n",
      "\n",
      "                                             Summary  \n",
      "0  She always wanted to hang out, was flirty, and...  \n",
      "Doc ID t3_m0brz\n"
     ]
    },
    {
     "name": "stderr",
     "output_type": "stream",
     "text": [
      "/home/student/Desktop/P4/code/perturbation.py:60: UserWarning: To copy construct from a tensor, it is recommended to use sourceTensor.clone().detach() or sourceTensor.clone().detach().requires_grad_(True), rather than torch.tensor(sourceTensor).\n",
      "  tensor_array = torch.stack([torch.tensor(score, dtype=torch.float32).clone().detach() for score in sentences_scores])\n"
     ]
    },
    {
     "name": "stdout",
     "output_type": "stream",
     "text": [
      "Added perturbed summary:   SummID    NewsID                          UserID  \\\n",
      "0   S-16  t3_m0brz  BYcMzzjuFgaA59QDKoAgY07PyyG0qC   \n",
      "\n",
      "                                             Summary  \n",
      "0  She drunkenly kissed a guy once but she came t...  \n",
      "Doc ID t3_1krnth\n"
     ]
    },
    {
     "name": "stderr",
     "output_type": "stream",
     "text": [
      "/home/student/Desktop/P4/code/perturbation.py:60: UserWarning: To copy construct from a tensor, it is recommended to use sourceTensor.clone().detach() or sourceTensor.clone().detach().requires_grad_(True), rather than torch.tensor(sourceTensor).\n",
      "  tensor_array = torch.stack([torch.tensor(score, dtype=torch.float32).clone().detach() for score in sentences_scores])\n"
     ]
    },
    {
     "name": "stdout",
     "output_type": "stream",
     "text": [
      "Added perturbed summary:   SummID     NewsID                          UserID  \\\n",
      "0   S-17  t3_1krnth  BYcMzzjuFgaA59QDKoAgY07PyyG0qC   \n",
      "\n",
      "                                            Summary  \n",
      "0  Should I forgive her and try to work things out?  \n",
      "Doc ID t3_2f2xd8\n"
     ]
    },
    {
     "name": "stderr",
     "output_type": "stream",
     "text": [
      "/home/student/Desktop/P4/code/perturbation.py:60: UserWarning: To copy construct from a tensor, it is recommended to use sourceTensor.clone().detach() or sourceTensor.clone().detach().requires_grad_(True), rather than torch.tensor(sourceTensor).\n",
      "  tensor_array = torch.stack([torch.tensor(score, dtype=torch.float32).clone().detach() for score in sentences_scores])\n"
     ]
    },
    {
     "name": "stdout",
     "output_type": "stream",
     "text": [
      "Added existing summary:  My relationship doesn't make me feel wanted. Enough so that I can't decide if we should stay together or go our separate ways.\n",
      "Doc ID t3_1dsrzw\n",
      "Added perturbed summary:   SummID     NewsID                          UserID  \\\n",
      "0   S-19  t3_1dsrzw  BYcMzzjuFgaA59QDKoAgY07PyyG0qC   \n",
      "\n",
      "                      Summary  \n",
      "0  Am I right in being upset?  \n",
      "Doc ID t3_3mija9\n"
     ]
    },
    {
     "name": "stderr",
     "output_type": "stream",
     "text": [
      "/home/student/Desktop/P4/code/perturbation.py:60: UserWarning: To copy construct from a tensor, it is recommended to use sourceTensor.clone().detach() or sourceTensor.clone().detach().requires_grad_(True), rather than torch.tensor(sourceTensor).\n",
      "  tensor_array = torch.stack([torch.tensor(score, dtype=torch.float32).clone().detach() for score in sentences_scores])\n"
     ]
    },
    {
     "name": "stdout",
     "output_type": "stream",
     "text": [
      "Added perturbed summary:   SummID     NewsID                          UserID  \\\n",
      "0   S-20  t3_3mija9  BYcMzzjuFgaA59QDKoAgY07PyyG0qC   \n",
      "\n",
      "                                             Summary  \n",
      "0  I \"know\" I made the right decision, but it see...  \n",
      "Doc ID t3_3ba84w\n"
     ]
    },
    {
     "name": "stderr",
     "output_type": "stream",
     "text": [
      "/home/student/Desktop/P4/code/perturbation.py:60: UserWarning: To copy construct from a tensor, it is recommended to use sourceTensor.clone().detach() or sourceTensor.clone().detach().requires_grad_(True), rather than torch.tensor(sourceTensor).\n",
      "  tensor_array = torch.stack([torch.tensor(score, dtype=torch.float32).clone().detach() for score in sentences_scores])\n",
      "/home/student/Desktop/P4/trial/lib/python3.12/site-packages/sentence_transformers/SentenceTransformer.py:587: FutureWarning: Series.__getitem__ treating keys as positions is deprecated. In a future version, integer keys will always be treated as labels (consistent with DataFrame behavior). To access a value by position, use `ser.iloc[pos]`\n",
      "  sentences_sorted = [sentences[idx] for idx in length_sorted_idx]\n"
     ]
    },
    {
     "name": "stdout",
     "output_type": "stream",
     "text": [
      "Added perturbed summary:   SummID     NewsID                          UserID  \\\n",
      "0   S-21  t3_3ba84w  BYcMzzjuFgaA59QDKoAgY07PyyG0qC   \n",
      "\n",
      "                                             Summary  \n",
      "0  I have no interest in this guy beyond friendsh...  \n",
      "Doc ID t3_3lnquw\n"
     ]
    },
    {
     "name": "stderr",
     "output_type": "stream",
     "text": [
      "/home/student/Desktop/P4/code/perturbation.py:60: UserWarning: To copy construct from a tensor, it is recommended to use sourceTensor.clone().detach() or sourceTensor.clone().detach().requires_grad_(True), rather than torch.tensor(sourceTensor).\n",
      "  tensor_array = torch.stack([torch.tensor(score, dtype=torch.float32).clone().detach() for score in sentences_scores])\n"
     ]
    },
    {
     "name": "stdout",
     "output_type": "stream",
     "text": [
      "Added existing summary:  I don't like spending time with my best friends, but we have so much history that it makes it hard to end our friendship.\n",
      "Doc ID t3_24iacz\n",
      "Added perturbed summary:   SummID     NewsID                          UserID  \\\n",
      "0   S-23  t3_24iacz  BYcMzzjuFgaA59QDKoAgY07PyyG0qC   \n",
      "\n",
      "                                             Summary  \n",
      "0  Hello /r/relationships,\\nI had a few conversat...  \n",
      "Doc ID t3_2k060a\n"
     ]
    },
    {
     "name": "stderr",
     "output_type": "stream",
     "text": [
      "/home/student/Desktop/P4/code/perturbation.py:60: UserWarning: To copy construct from a tensor, it is recommended to use sourceTensor.clone().detach() or sourceTensor.clone().detach().requires_grad_(True), rather than torch.tensor(sourceTensor).\n",
      "  tensor_array = torch.stack([torch.tensor(score, dtype=torch.float32).clone().detach() for score in sentences_scores])\n"
     ]
    },
    {
     "name": "stdout",
     "output_type": "stream",
     "text": [
      "Added perturbed summary:   SummID     NewsID                          UserID  \\\n",
      "0   S-24  t3_2k060a  BYcMzzjuFgaA59QDKoAgY07PyyG0qC   \n",
      "\n",
      "                                             Summary  \n",
      "0  Anyway, here she is going nuts and then an out...  \n"
     ]
    },
    {
     "name": "stderr",
     "output_type": "stream",
     "text": [
      " 60%|██████    | 3/5 [01:53<01:14, 37.36s/it]"
     ]
    },
    {
     "name": "stdout",
     "output_type": "stream",
     "text": [
      "Doc ID t3_3qaei3\n",
      "Error at row 2: [E1041] Expected a string, Doc, or bytes as input, but got: <class 'pandas.core.series.Series'>\n",
      "-----------\n",
      "Row 3: Docs column contains <class 'str'>\n",
      "Doc ID t3_35eusg\n"
     ]
    },
    {
     "name": "stderr",
     "output_type": "stream",
     "text": [
      "/home/student/Desktop/P4/code/perturbation.py:60: UserWarning: To copy construct from a tensor, it is recommended to use sourceTensor.clone().detach() or sourceTensor.clone().detach().requires_grad_(True), rather than torch.tensor(sourceTensor).\n",
      "  tensor_array = torch.stack([torch.tensor(score, dtype=torch.float32).clone().detach() for score in sentences_scores])\n"
     ]
    },
    {
     "name": "stdout",
     "output_type": "stream",
     "text": [
      "Added perturbed summary:   SummID     NewsID                          UserID  \\\n",
      "0    S-1  t3_35eusg  3AFaFd3w9NjDGnO51kupLyK1N44DQ2   \n",
      "\n",
      "                                             Summary  \n",
      "0  I met this girl, we have mutual friends, at a ...  \n",
      "Doc ID t3_2m6xw7\n"
     ]
    },
    {
     "name": "stderr",
     "output_type": "stream",
     "text": [
      "/home/student/Desktop/P4/code/perturbation.py:60: UserWarning: To copy construct from a tensor, it is recommended to use sourceTensor.clone().detach() or sourceTensor.clone().detach().requires_grad_(True), rather than torch.tensor(sourceTensor).\n",
      "  tensor_array = torch.stack([torch.tensor(score, dtype=torch.float32).clone().detach() for score in sentences_scores])\n",
      "/home/student/Desktop/P4/trial/lib/python3.12/site-packages/sentence_transformers/SentenceTransformer.py:587: FutureWarning: Series.__getitem__ treating keys as positions is deprecated. In a future version, integer keys will always be treated as labels (consistent with DataFrame behavior). To access a value by position, use `ser.iloc[pos]`\n",
      "  sentences_sorted = [sentences[idx] for idx in length_sorted_idx]\n"
     ]
    },
    {
     "name": "stdout",
     "output_type": "stream",
     "text": [
      "Added perturbed summary:   SummID     NewsID                          UserID  \\\n",
      "0    S-2  t3_2m6xw7  3AFaFd3w9NjDGnO51kupLyK1N44DQ2   \n",
      "\n",
      "                                             Summary  \n",
      "0  Anyway, I am no longer friends with the person...  \n",
      "Doc ID t3_3167r6\n"
     ]
    },
    {
     "name": "stderr",
     "output_type": "stream",
     "text": [
      "/home/student/Desktop/P4/code/perturbation.py:60: UserWarning: To copy construct from a tensor, it is recommended to use sourceTensor.clone().detach() or sourceTensor.clone().detach().requires_grad_(True), rather than torch.tensor(sourceTensor).\n",
      "  tensor_array = torch.stack([torch.tensor(score, dtype=torch.float32).clone().detach() for score in sentences_scores])\n"
     ]
    },
    {
     "name": "stdout",
     "output_type": "stream",
     "text": [
      "Added perturbed summary:   SummID     NewsID                          UserID  \\\n",
      "0    S-3  t3_3167r6  3AFaFd3w9NjDGnO51kupLyK1N44DQ2   \n",
      "\n",
      "                                            Summary  \n",
      "0  Should I wait to see if she'll ever come around?  \n",
      "Doc ID t3_hdtc0\n"
     ]
    },
    {
     "name": "stderr",
     "output_type": "stream",
     "text": [
      "/home/student/Desktop/P4/code/perturbation.py:60: UserWarning: To copy construct from a tensor, it is recommended to use sourceTensor.clone().detach() or sourceTensor.clone().detach().requires_grad_(True), rather than torch.tensor(sourceTensor).\n",
      "  tensor_array = torch.stack([torch.tensor(score, dtype=torch.float32).clone().detach() for score in sentences_scores])\n"
     ]
    },
    {
     "name": "stdout",
     "output_type": "stream",
     "text": [
      "Added perturbed summary:   SummID    NewsID                          UserID  \\\n",
      "0    S-4  t3_hdtc0  3AFaFd3w9NjDGnO51kupLyK1N44DQ2   \n",
      "\n",
      "                                          Summary  \n",
      "0  Any LEGAL advice on something to keep with me?  \n",
      "Doc ID t3_39dt1z\n"
     ]
    },
    {
     "name": "stderr",
     "output_type": "stream",
     "text": [
      "/home/student/Desktop/P4/code/perturbation.py:60: UserWarning: To copy construct from a tensor, it is recommended to use sourceTensor.clone().detach() or sourceTensor.clone().detach().requires_grad_(True), rather than torch.tensor(sourceTensor).\n",
      "  tensor_array = torch.stack([torch.tensor(score, dtype=torch.float32).clone().detach() for score in sentences_scores])\n"
     ]
    },
    {
     "name": "stdout",
     "output_type": "stream",
     "text": [
      "Added perturbed summary:   SummID     NewsID                          UserID  \\\n",
      "0    S-5  t3_39dt1z  3AFaFd3w9NjDGnO51kupLyK1N44DQ2   \n",
      "\n",
      "                                           Summary  \n",
      "0  Is there anything I can do to be **more** safe?  \n",
      "Doc ID t3_35eusg\n"
     ]
    },
    {
     "name": "stderr",
     "output_type": "stream",
     "text": [
      "/home/student/Desktop/P4/code/perturbation.py:60: UserWarning: To copy construct from a tensor, it is recommended to use sourceTensor.clone().detach() or sourceTensor.clone().detach().requires_grad_(True), rather than torch.tensor(sourceTensor).\n",
      "  tensor_array = torch.stack([torch.tensor(score, dtype=torch.float32).clone().detach() for score in sentences_scores])\n"
     ]
    },
    {
     "name": "stdout",
     "output_type": "stream",
     "text": [
      "Added existing summary:  First date ever, going to the beach. Would like some tips\n",
      "Doc ID t3_35eusg\n",
      "Added perturbed summary:   SummID     NewsID                          UserID  \\\n",
      "0    S-7  t3_35eusg  3AFaFd3w9NjDGnO51kupLyK1N44DQ2   \n",
      "\n",
      "                                             Summary  \n",
      "0  I (20M) would like some tips, because I have m...  \n",
      "Doc ID t3_4vohno\n"
     ]
    },
    {
     "name": "stderr",
     "output_type": "stream",
     "text": [
      "/home/student/Desktop/P4/code/perturbation.py:60: UserWarning: To copy construct from a tensor, it is recommended to use sourceTensor.clone().detach() or sourceTensor.clone().detach().requires_grad_(True), rather than torch.tensor(sourceTensor).\n",
      "  tensor_array = torch.stack([torch.tensor(score, dtype=torch.float32).clone().detach() for score in sentences_scores])\n"
     ]
    },
    {
     "name": "stdout",
     "output_type": "stream",
     "text": [
      "Added perturbed summary:   SummID     NewsID                          UserID  \\\n",
      "0    S-8  t3_4vohno  3AFaFd3w9NjDGnO51kupLyK1N44DQ2   \n",
      "\n",
      "                                             Summary  \n",
      "0  How do I talk to my mom, without offending her...  \n",
      "Doc ID t3_3hdyv9\n"
     ]
    },
    {
     "name": "stderr",
     "output_type": "stream",
     "text": [
      "/home/student/Desktop/P4/code/perturbation.py:60: UserWarning: To copy construct from a tensor, it is recommended to use sourceTensor.clone().detach() or sourceTensor.clone().detach().requires_grad_(True), rather than torch.tensor(sourceTensor).\n",
      "  tensor_array = torch.stack([torch.tensor(score, dtype=torch.float32).clone().detach() for score in sentences_scores])\n"
     ]
    },
    {
     "name": "stdout",
     "output_type": "stream",
     "text": [
      "Added existing summary:  mother is contemplating relocating out-of-state with her half-brother who she recently learned has a mean streak on Facebook and makes anti-gay comments. need advise on approach to pursue understanding and compromise.\n",
      "Doc ID t3_20c1hv\n",
      "Added perturbed summary:   SummID     NewsID                          UserID  \\\n",
      "0   S-10  t3_20c1hv  3AFaFd3w9NjDGnO51kupLyK1N44DQ2   \n",
      "\n",
      "                                             Summary  \n",
      "0  Lately I've had a \"feeling\" that shes hiding s...  \n",
      "Doc ID t3_33o66q\n"
     ]
    },
    {
     "name": "stderr",
     "output_type": "stream",
     "text": [
      "/home/student/Desktop/P4/code/perturbation.py:60: UserWarning: To copy construct from a tensor, it is recommended to use sourceTensor.clone().detach() or sourceTensor.clone().detach().requires_grad_(True), rather than torch.tensor(sourceTensor).\n",
      "  tensor_array = torch.stack([torch.tensor(score, dtype=torch.float32).clone().detach() for score in sentences_scores])\n"
     ]
    },
    {
     "name": "stdout",
     "output_type": "stream",
     "text": [
      "Added existing summary:  SAHM friend doesn't want to work even though her husband brings home less than 30K, to support them. I am losing respect for the friendship. How do I solve this?\n",
      "Doc ID t3_2lg4fb\n",
      "Added perturbed summary:   SummID     NewsID                          UserID  \\\n",
      "0   S-12  t3_2lg4fb  3AFaFd3w9NjDGnO51kupLyK1N44DQ2   \n",
      "\n",
      "                                             Summary  \n",
      "0  I honestly don't know what to do to so this go...  \n",
      "Doc ID t3_10ehc9\n"
     ]
    },
    {
     "name": "stderr",
     "output_type": "stream",
     "text": [
      "/home/student/Desktop/P4/code/perturbation.py:60: UserWarning: To copy construct from a tensor, it is recommended to use sourceTensor.clone().detach() or sourceTensor.clone().detach().requires_grad_(True), rather than torch.tensor(sourceTensor).\n",
      "  tensor_array = torch.stack([torch.tensor(score, dtype=torch.float32).clone().detach() for score in sentences_scores])\n"
     ]
    },
    {
     "name": "stdout",
     "output_type": "stream",
     "text": [
      "Added perturbed summary:   SummID     NewsID                          UserID  \\\n",
      "0   S-13  t3_10ehc9  3AFaFd3w9NjDGnO51kupLyK1N44DQ2   \n",
      "\n",
      "                                             Summary  \n",
      "0  My question is this -- is there anything we ca...  \n",
      "Doc ID t3_2pk733\n"
     ]
    },
    {
     "name": "stderr",
     "output_type": "stream",
     "text": [
      "/home/student/Desktop/P4/code/perturbation.py:60: UserWarning: To copy construct from a tensor, it is recommended to use sourceTensor.clone().detach() or sourceTensor.clone().detach().requires_grad_(True), rather than torch.tensor(sourceTensor).\n",
      "  tensor_array = torch.stack([torch.tensor(score, dtype=torch.float32).clone().detach() for score in sentences_scores])\n"
     ]
    },
    {
     "name": "stdout",
     "output_type": "stream",
     "text": [
      "Added perturbed summary:   SummID     NewsID                          UserID  \\\n",
      "0   S-14  t3_2pk733  3AFaFd3w9NjDGnO51kupLyK1N44DQ2   \n",
      "\n",
      "                                             Summary  \n",
      "0  What can I do to let her know that I generally...  \n",
      "Doc ID t3_30hbyj\n"
     ]
    },
    {
     "name": "stderr",
     "output_type": "stream",
     "text": [
      "/home/student/Desktop/P4/code/perturbation.py:60: UserWarning: To copy construct from a tensor, it is recommended to use sourceTensor.clone().detach() or sourceTensor.clone().detach().requires_grad_(True), rather than torch.tensor(sourceTensor).\n",
      "  tensor_array = torch.stack([torch.tensor(score, dtype=torch.float32).clone().detach() for score in sentences_scores])\n"
     ]
    },
    {
     "name": "stdout",
     "output_type": "stream",
     "text": [
      "Added perturbed summary:   SummID     NewsID                          UserID  \\\n",
      "0   S-15  t3_30hbyj  3AFaFd3w9NjDGnO51kupLyK1N44DQ2   \n",
      "\n",
      "                                             Summary  \n",
      "0  So over this 11 year period there have been 8 ...  \n",
      "Doc ID t3_n5qfw\n"
     ]
    },
    {
     "name": "stderr",
     "output_type": "stream",
     "text": [
      "/home/student/Desktop/P4/code/perturbation.py:60: UserWarning: To copy construct from a tensor, it is recommended to use sourceTensor.clone().detach() or sourceTensor.clone().detach().requires_grad_(True), rather than torch.tensor(sourceTensor).\n",
      "  tensor_array = torch.stack([torch.tensor(score, dtype=torch.float32).clone().detach() for score in sentences_scores])\n"
     ]
    },
    {
     "name": "stdout",
     "output_type": "stream",
     "text": [
      "Added perturbed summary:   SummID    NewsID                          UserID  \\\n",
      "0   S-16  t3_n5qfw  3AFaFd3w9NjDGnO51kupLyK1N44DQ2   \n",
      "\n",
      "                                             Summary  \n",
      "0  Part of it was damaged, so she asked if she co...  \n",
      "Doc ID t3_v63lz\n"
     ]
    },
    {
     "name": "stderr",
     "output_type": "stream",
     "text": [
      "/home/student/Desktop/P4/code/perturbation.py:60: UserWarning: To copy construct from a tensor, it is recommended to use sourceTensor.clone().detach() or sourceTensor.clone().detach().requires_grad_(True), rather than torch.tensor(sourceTensor).\n",
      "  tensor_array = torch.stack([torch.tensor(score, dtype=torch.float32).clone().detach() for score in sentences_scores])\n"
     ]
    },
    {
     "name": "stdout",
     "output_type": "stream",
     "text": [
      "Added existing summary:  considering a break up with gf due to lack of communication, insecurity, and petty insults. Need more opinions on whether to continue the relationship, and how to go about it. Thanks\n",
      "Doc ID t3_2p8k4d\n",
      "Added perturbed summary:   SummID     NewsID                          UserID  \\\n",
      "0   S-18  t3_2p8k4d  3AFaFd3w9NjDGnO51kupLyK1N44DQ2   \n",
      "\n",
      "                                             Summary  \n",
      "0  Now that I type this, this relationship looks ...  \n",
      "Doc ID t3_4k49sv\n"
     ]
    },
    {
     "name": "stderr",
     "output_type": "stream",
     "text": [
      "/home/student/Desktop/P4/code/perturbation.py:60: UserWarning: To copy construct from a tensor, it is recommended to use sourceTensor.clone().detach() or sourceTensor.clone().detach().requires_grad_(True), rather than torch.tensor(sourceTensor).\n",
      "  tensor_array = torch.stack([torch.tensor(score, dtype=torch.float32).clone().detach() for score in sentences_scores])\n"
     ]
    },
    {
     "name": "stdout",
     "output_type": "stream",
     "text": [
      "Added perturbed summary:   SummID     NewsID                          UserID  \\\n",
      "0   S-19  t3_4k49sv  3AFaFd3w9NjDGnO51kupLyK1N44DQ2   \n",
      "\n",
      "                                             Summary  \n",
      "0  but I'm worried that I may be being selfish or...  \n",
      "Doc ID t3_3gd2me\n"
     ]
    },
    {
     "name": "stderr",
     "output_type": "stream",
     "text": [
      "/home/student/Desktop/P4/code/perturbation.py:60: UserWarning: To copy construct from a tensor, it is recommended to use sourceTensor.clone().detach() or sourceTensor.clone().detach().requires_grad_(True), rather than torch.tensor(sourceTensor).\n",
      "  tensor_array = torch.stack([torch.tensor(score, dtype=torch.float32).clone().detach() for score in sentences_scores])\n"
     ]
    },
    {
     "name": "stdout",
     "output_type": "stream",
     "text": [
      "Added existing summary:  me and my ex are going travelling together for a week, but we don't know if we are casually seeing other people or what this relationship is.\n",
      "Doc ID t3_2h6khw\n",
      "Added perturbed summary:   SummID     NewsID                          UserID  \\\n",
      "0   S-21  t3_2h6khw  3AFaFd3w9NjDGnO51kupLyK1N44DQ2   \n",
      "\n",
      "                                     Summary  \n",
      "0  Has anyone been in a situation like this?  \n",
      "Doc ID t3_2ue9qh\n"
     ]
    },
    {
     "name": "stderr",
     "output_type": "stream",
     "text": [
      "/home/student/Desktop/P4/code/perturbation.py:60: UserWarning: To copy construct from a tensor, it is recommended to use sourceTensor.clone().detach() or sourceTensor.clone().detach().requires_grad_(True), rather than torch.tensor(sourceTensor).\n",
      "  tensor_array = torch.stack([torch.tensor(score, dtype=torch.float32).clone().detach() for score in sentences_scores])\n"
     ]
    },
    {
     "name": "stdout",
     "output_type": "stream",
     "text": [
      "Added perturbed summary:   SummID     NewsID                          UserID  \\\n",
      "0   S-22  t3_2ue9qh  3AFaFd3w9NjDGnO51kupLyK1N44DQ2   \n",
      "\n",
      "                                             Summary  \n",
      "0  Even though I have seen images of these conver...  \n",
      "Doc ID t3_130lgl\n"
     ]
    },
    {
     "name": "stderr",
     "output_type": "stream",
     "text": [
      "/home/student/Desktop/P4/code/perturbation.py:60: UserWarning: To copy construct from a tensor, it is recommended to use sourceTensor.clone().detach() or sourceTensor.clone().detach().requires_grad_(True), rather than torch.tensor(sourceTensor).\n",
      "  tensor_array = torch.stack([torch.tensor(score, dtype=torch.float32).clone().detach() for score in sentences_scores])\n"
     ]
    },
    {
     "name": "stdout",
     "output_type": "stream",
     "text": [
      "Added perturbed summary:   SummID     NewsID                          UserID  \\\n",
      "0   S-23  t3_130lgl  3AFaFd3w9NjDGnO51kupLyK1N44DQ2   \n",
      "\n",
      "                                             Summary  \n",
      "0  I've been cheated on in the past and the resul...  \n",
      "Doc ID t3_3hdyv9\n"
     ]
    },
    {
     "name": "stderr",
     "output_type": "stream",
     "text": [
      "/home/student/Desktop/P4/code/perturbation.py:60: UserWarning: To copy construct from a tensor, it is recommended to use sourceTensor.clone().detach() or sourceTensor.clone().detach().requires_grad_(True), rather than torch.tensor(sourceTensor).\n",
      "  tensor_array = torch.stack([torch.tensor(score, dtype=torch.float32).clone().detach() for score in sentences_scores])\n"
     ]
    },
    {
     "name": "stdout",
     "output_type": "stream",
     "text": [
      "Added perturbed summary:   SummID     NewsID                          UserID  \\\n",
      "0   S-24  t3_3hdyv9  3AFaFd3w9NjDGnO51kupLyK1N44DQ2   \n",
      "\n",
      "                                             Summary  \n",
      "0  My advice to her at the moment is to talk to h...  \n",
      "Doc ID t3_365vpc\n"
     ]
    },
    {
     "name": "stderr",
     "output_type": "stream",
     "text": [
      "/home/student/Desktop/P4/code/perturbation.py:60: UserWarning: To copy construct from a tensor, it is recommended to use sourceTensor.clone().detach() or sourceTensor.clone().detach().requires_grad_(True), rather than torch.tensor(sourceTensor).\n",
      "  tensor_array = torch.stack([torch.tensor(score, dtype=torch.float32).clone().detach() for score in sentences_scores])\n"
     ]
    },
    {
     "name": "stdout",
     "output_type": "stream",
     "text": [
      "Added perturbed summary:   SummID     NewsID                          UserID  \\\n",
      "0   S-25  t3_365vpc  3AFaFd3w9NjDGnO51kupLyK1N44DQ2   \n",
      "\n",
      "                                             Summary  \n",
      "0  Now I can't get them from subtley trying to as...  \n",
      "Doc ID t3_js7re\n"
     ]
    },
    {
     "name": "stderr",
     "output_type": "stream",
     "text": [
      "/home/student/Desktop/P4/code/perturbation.py:60: UserWarning: To copy construct from a tensor, it is recommended to use sourceTensor.clone().detach() or sourceTensor.clone().detach().requires_grad_(True), rather than torch.tensor(sourceTensor).\n",
      "  tensor_array = torch.stack([torch.tensor(score, dtype=torch.float32).clone().detach() for score in sentences_scores])\n"
     ]
    },
    {
     "name": "stdout",
     "output_type": "stream",
     "text": [
      "Added existing summary:  my girlfriends grandma caught us making out on the couch, she was really pissed and yelled at her about us being disrespectful and i quit football so now she thinks i'm lazy, what should i do/say.\n",
      "Doc ID t3_2o7y4v\n",
      "Added perturbed summary:   SummID     NewsID                          UserID  \\\n",
      "0   S-27  t3_2o7y4v  3AFaFd3w9NjDGnO51kupLyK1N44DQ2   \n",
      "\n",
      "                                             Summary  \n",
      "0  We have discussed the situation and are trying...  \n",
      "Doc ID t3_3iahuj\n"
     ]
    },
    {
     "name": "stderr",
     "output_type": "stream",
     "text": [
      "/home/student/Desktop/P4/code/perturbation.py:60: UserWarning: To copy construct from a tensor, it is recommended to use sourceTensor.clone().detach() or sourceTensor.clone().detach().requires_grad_(True), rather than torch.tensor(sourceTensor).\n",
      "  tensor_array = torch.stack([torch.tensor(score, dtype=torch.float32).clone().detach() for score in sentences_scores])\n"
     ]
    },
    {
     "name": "stdout",
     "output_type": "stream",
     "text": [
      "Added existing summary:  Took Adderall and Lunesta PRN, took the wrong pill, took the wrong pill, took the wrong pill, took the wrong pill, took the wrong pill, took the wrong pill, took the wrong pill, took the\n",
      "Doc ID t3_2na2r3\n",
      "Added perturbed summary:   SummID     NewsID                          UserID                   Summary\n",
      "0   S-29  t3_2na2r3  3AFaFd3w9NjDGnO51kupLyK1N44DQ2  What am I doing wrong?  \n",
      "Doc ID t3_1azov5\n"
     ]
    },
    {
     "name": "stderr",
     "output_type": "stream",
     "text": [
      "/home/student/Desktop/P4/code/perturbation.py:60: UserWarning: To copy construct from a tensor, it is recommended to use sourceTensor.clone().detach() or sourceTensor.clone().detach().requires_grad_(True), rather than torch.tensor(sourceTensor).\n",
      "  tensor_array = torch.stack([torch.tensor(score, dtype=torch.float32).clone().detach() for score in sentences_scores])\n"
     ]
    },
    {
     "name": "stdout",
     "output_type": "stream",
     "text": [
      "Added perturbed summary:   SummID     NewsID                          UserID  \\\n",
      "0   S-30  t3_1azov5  3AFaFd3w9NjDGnO51kupLyK1N44DQ2   \n",
      "\n",
      "                                             Summary  \n",
      "0  I'm absolutely frazzled over why she does not ...  \n",
      "Doc ID t3_3icfmm\n"
     ]
    },
    {
     "name": "stderr",
     "output_type": "stream",
     "text": [
      "/home/student/Desktop/P4/code/perturbation.py:60: UserWarning: To copy construct from a tensor, it is recommended to use sourceTensor.clone().detach() or sourceTensor.clone().detach().requires_grad_(True), rather than torch.tensor(sourceTensor).\n",
      "  tensor_array = torch.stack([torch.tensor(score, dtype=torch.float32).clone().detach() for score in sentences_scores])\n"
     ]
    },
    {
     "name": "stdout",
     "output_type": "stream",
     "text": [
      "Added perturbed summary:   SummID     NewsID                          UserID  \\\n",
      "0   S-31  t3_3icfmm  3AFaFd3w9NjDGnO51kupLyK1N44DQ2   \n",
      "\n",
      "                                             Summary  \n",
      "0  My gf (F18) rung me today and said she had 'ho...  \n",
      "Doc ID t3_3e53hw\n"
     ]
    },
    {
     "name": "stderr",
     "output_type": "stream",
     "text": [
      "/home/student/Desktop/P4/code/perturbation.py:60: UserWarning: To copy construct from a tensor, it is recommended to use sourceTensor.clone().detach() or sourceTensor.clone().detach().requires_grad_(True), rather than torch.tensor(sourceTensor).\n",
      "  tensor_array = torch.stack([torch.tensor(score, dtype=torch.float32).clone().detach() for score in sentences_scores])\n"
     ]
    },
    {
     "name": "stdout",
     "output_type": "stream",
     "text": [
      "Added perturbed summary:   SummID     NewsID                          UserID  \\\n",
      "0   S-32  t3_3e53hw  3AFaFd3w9NjDGnO51kupLyK1N44DQ2   \n",
      "\n",
      "                                             Summary  \n",
      "0  I'm pretty sure she caught a glimpse of us tog...  \n",
      "Doc ID t3_2ntvb8\n"
     ]
    },
    {
     "name": "stderr",
     "output_type": "stream",
     "text": [
      "/home/student/Desktop/P4/code/perturbation.py:60: UserWarning: To copy construct from a tensor, it is recommended to use sourceTensor.clone().detach() or sourceTensor.clone().detach().requires_grad_(True), rather than torch.tensor(sourceTensor).\n",
      "  tensor_array = torch.stack([torch.tensor(score, dtype=torch.float32).clone().detach() for score in sentences_scores])\n"
     ]
    },
    {
     "name": "stdout",
     "output_type": "stream",
     "text": [
      "Added perturbed summary:   SummID     NewsID                          UserID  \\\n",
      "0   S-33  t3_2ntvb8  3AFaFd3w9NjDGnO51kupLyK1N44DQ2   \n",
      "\n",
      "                                             Summary  \n",
      "0  I have been dating my current girlfriend, who ...  \n",
      "Doc ID t3_21aj38\n"
     ]
    },
    {
     "name": "stderr",
     "output_type": "stream",
     "text": [
      "/home/student/Desktop/P4/code/perturbation.py:60: UserWarning: To copy construct from a tensor, it is recommended to use sourceTensor.clone().detach() or sourceTensor.clone().detach().requires_grad_(True), rather than torch.tensor(sourceTensor).\n",
      "  tensor_array = torch.stack([torch.tensor(score, dtype=torch.float32).clone().detach() for score in sentences_scores])\n"
     ]
    },
    {
     "name": "stdout",
     "output_type": "stream",
     "text": [
      "Added existing summary:  BF BF and I broke up after a semi long distance relationship of 7 months. He was the first true love of my life. I messed up by not giving him flowers or gifts, even though I did other things for him (I stayed with him all day/night after his surgery, and skipped my own thanksgiving to bring him to my place and help him). After a month after a breakup, he doesn't want to talk to me because I still have feelings for him. Should I leave him alone forever?\n",
      "Doc ID t3_4errc6\n",
      "Added perturbed summary:   SummID     NewsID                          UserID  \\\n",
      "0   S-35  t3_4errc6  3AFaFd3w9NjDGnO51kupLyK1N44DQ2   \n",
      "\n",
      "                                             Summary  \n",
      "0  and I get that it must be hard for him to not ...  \n",
      "Doc ID t3_2z78sx\n"
     ]
    },
    {
     "name": "stderr",
     "output_type": "stream",
     "text": [
      "/home/student/Desktop/P4/code/perturbation.py:60: UserWarning: To copy construct from a tensor, it is recommended to use sourceTensor.clone().detach() or sourceTensor.clone().detach().requires_grad_(True), rather than torch.tensor(sourceTensor).\n",
      "  tensor_array = torch.stack([torch.tensor(score, dtype=torch.float32).clone().detach() for score in sentences_scores])\n"
     ]
    },
    {
     "name": "stdout",
     "output_type": "stream",
     "text": [
      "Added existing summary:  Girlfriend of two years is going to another university, we are long distance for the first time, and I need to stop being controlling and being insecure.\n",
      "Doc ID t3_2czt5k\n",
      "Added perturbed summary:   SummID     NewsID                          UserID  \\\n",
      "0   S-37  t3_2czt5k  3AFaFd3w9NjDGnO51kupLyK1N44DQ2   \n",
      "\n",
      "                        Summary  \n",
      "0  How can I trust her now?\\n\\n  \n",
      "Doc ID t3_rq7ir\n"
     ]
    },
    {
     "name": "stderr",
     "output_type": "stream",
     "text": [
      "/home/student/Desktop/P4/code/perturbation.py:60: UserWarning: To copy construct from a tensor, it is recommended to use sourceTensor.clone().detach() or sourceTensor.clone().detach().requires_grad_(True), rather than torch.tensor(sourceTensor).\n",
      "  tensor_array = torch.stack([torch.tensor(score, dtype=torch.float32).clone().detach() for score in sentences_scores])\n"
     ]
    },
    {
     "name": "stdout",
     "output_type": "stream",
     "text": [
      "Added perturbed summary:   SummID    NewsID                          UserID  \\\n",
      "0   S-38  t3_rq7ir  3AFaFd3w9NjDGnO51kupLyK1N44DQ2   \n",
      "\n",
      "                                             Summary  \n",
      "0  How do I deal with this without breaking down ...  \n",
      "Doc ID t3_4bb3cc\n"
     ]
    },
    {
     "name": "stderr",
     "output_type": "stream",
     "text": [
      "/home/student/Desktop/P4/code/perturbation.py:60: UserWarning: To copy construct from a tensor, it is recommended to use sourceTensor.clone().detach() or sourceTensor.clone().detach().requires_grad_(True), rather than torch.tensor(sourceTensor).\n",
      "  tensor_array = torch.stack([torch.tensor(score, dtype=torch.float32).clone().detach() for score in sentences_scores])\n"
     ]
    },
    {
     "name": "stdout",
     "output_type": "stream",
     "text": [
      "Added perturbed summary:   SummID     NewsID                          UserID  \\\n",
      "0   S-39  t3_4bb3cc  3AFaFd3w9NjDGnO51kupLyK1N44DQ2   \n",
      "\n",
      "                           Summary  \n",
      "0  I'm not really sure what to do.  \n",
      "Doc ID t3_2pnnhi\n"
     ]
    },
    {
     "name": "stderr",
     "output_type": "stream",
     "text": [
      "/home/student/Desktop/P4/code/perturbation.py:60: UserWarning: To copy construct from a tensor, it is recommended to use sourceTensor.clone().detach() or sourceTensor.clone().detach().requires_grad_(True), rather than torch.tensor(sourceTensor).\n",
      "  tensor_array = torch.stack([torch.tensor(score, dtype=torch.float32).clone().detach() for score in sentences_scores])\n"
     ]
    },
    {
     "name": "stdout",
     "output_type": "stream",
     "text": [
      "Added perturbed summary:   SummID     NewsID                          UserID  \\\n",
      "0   S-40  t3_2pnnhi  3AFaFd3w9NjDGnO51kupLyK1N44DQ2   \n",
      "\n",
      "                                             Summary  \n",
      "0  We've been acting extremely couplely, us regul...  \n",
      "Doc ID t3_l4mtw\n"
     ]
    },
    {
     "name": "stderr",
     "output_type": "stream",
     "text": [
      "/home/student/Desktop/P4/code/perturbation.py:60: UserWarning: To copy construct from a tensor, it is recommended to use sourceTensor.clone().detach() or sourceTensor.clone().detach().requires_grad_(True), rather than torch.tensor(sourceTensor).\n",
      "  tensor_array = torch.stack([torch.tensor(score, dtype=torch.float32).clone().detach() for score in sentences_scores])\n"
     ]
    },
    {
     "name": "stdout",
     "output_type": "stream",
     "text": [
      "Added perturbed summary:   SummID    NewsID                          UserID                Summary\n",
      "0   S-41  t3_l4mtw  3AFaFd3w9NjDGnO51kupLyK1N44DQ2  Should I talk to him?\n",
      "Doc ID t3_340v9j\n"
     ]
    },
    {
     "name": "stderr",
     "output_type": "stream",
     "text": [
      "/home/student/Desktop/P4/code/perturbation.py:60: UserWarning: To copy construct from a tensor, it is recommended to use sourceTensor.clone().detach() or sourceTensor.clone().detach().requires_grad_(True), rather than torch.tensor(sourceTensor).\n",
      "  tensor_array = torch.stack([torch.tensor(score, dtype=torch.float32).clone().detach() for score in sentences_scores])\n"
     ]
    },
    {
     "name": "stdout",
     "output_type": "stream",
     "text": [
      "Added perturbed summary:   SummID     NewsID                          UserID  \\\n",
      "0   S-42  t3_340v9j  3AFaFd3w9NjDGnO51kupLyK1N44DQ2   \n",
      "\n",
      "                                             Summary  \n",
      "0  But should I just move on, or is she just play...  \n",
      "Doc ID t3_cg4yb\n"
     ]
    },
    {
     "name": "stderr",
     "output_type": "stream",
     "text": [
      "/home/student/Desktop/P4/code/perturbation.py:60: UserWarning: To copy construct from a tensor, it is recommended to use sourceTensor.clone().detach() or sourceTensor.clone().detach().requires_grad_(True), rather than torch.tensor(sourceTensor).\n",
      "  tensor_array = torch.stack([torch.tensor(score, dtype=torch.float32).clone().detach() for score in sentences_scores])\n"
     ]
    },
    {
     "name": "stdout",
     "output_type": "stream",
     "text": [
      "Added perturbed summary:   SummID    NewsID                          UserID  \\\n",
      "0   S-43  t3_cg4yb  3AFaFd3w9NjDGnO51kupLyK1N44DQ2   \n",
      "\n",
      "                                             Summary  \n",
      "0  I wanted to marry her, but she thought she mig...  \n",
      "Doc ID t3_12x0rv\n"
     ]
    },
    {
     "name": "stderr",
     "output_type": "stream",
     "text": [
      "/home/student/Desktop/P4/code/perturbation.py:60: UserWarning: To copy construct from a tensor, it is recommended to use sourceTensor.clone().detach() or sourceTensor.clone().detach().requires_grad_(True), rather than torch.tensor(sourceTensor).\n",
      "  tensor_array = torch.stack([torch.tensor(score, dtype=torch.float32).clone().detach() for score in sentences_scores])\n"
     ]
    },
    {
     "name": "stdout",
     "output_type": "stream",
     "text": [
      "Added perturbed summary:   SummID     NewsID                          UserID  \\\n",
      "0   S-44  t3_12x0rv  3AFaFd3w9NjDGnO51kupLyK1N44DQ2   \n",
      "\n",
      "                                             Summary  \n",
      "0  So next time you think something is too hard o...  \n",
      "Doc ID t3_2n7966\n"
     ]
    },
    {
     "name": "stderr",
     "output_type": "stream",
     "text": [
      "/home/student/Desktop/P4/code/perturbation.py:60: UserWarning: To copy construct from a tensor, it is recommended to use sourceTensor.clone().detach() or sourceTensor.clone().detach().requires_grad_(True), rather than torch.tensor(sourceTensor).\n",
      "  tensor_array = torch.stack([torch.tensor(score, dtype=torch.float32).clone().detach() for score in sentences_scores])\n"
     ]
    },
    {
     "name": "stdout",
     "output_type": "stream",
     "text": [
      "Added perturbed summary:   SummID     NewsID                          UserID  \\\n",
      "0   S-45  t3_2n7966  3AFaFd3w9NjDGnO51kupLyK1N44DQ2   \n",
      "\n",
      "                                       Summary  \n",
      "0  How can I regain her trust and be forgiven?  \n",
      "Doc ID t3_11yrlm\n"
     ]
    },
    {
     "name": "stderr",
     "output_type": "stream",
     "text": [
      "/home/student/Desktop/P4/code/perturbation.py:60: UserWarning: To copy construct from a tensor, it is recommended to use sourceTensor.clone().detach() or sourceTensor.clone().detach().requires_grad_(True), rather than torch.tensor(sourceTensor).\n",
      "  tensor_array = torch.stack([torch.tensor(score, dtype=torch.float32).clone().detach() for score in sentences_scores])\n"
     ]
    },
    {
     "name": "stdout",
     "output_type": "stream",
     "text": [
      "Added perturbed summary:   SummID     NewsID                          UserID  \\\n",
      "0   S-46  t3_11yrlm  3AFaFd3w9NjDGnO51kupLyK1N44DQ2   \n",
      "\n",
      "                                  Summary  \n",
      "0  Should I pretend like it never happen?  \n",
      "Doc ID t3_35kmv6\n"
     ]
    },
    {
     "name": "stderr",
     "output_type": "stream",
     "text": [
      "/home/student/Desktop/P4/code/perturbation.py:60: UserWarning: To copy construct from a tensor, it is recommended to use sourceTensor.clone().detach() or sourceTensor.clone().detach().requires_grad_(True), rather than torch.tensor(sourceTensor).\n",
      "  tensor_array = torch.stack([torch.tensor(score, dtype=torch.float32).clone().detach() for score in sentences_scores])\n"
     ]
    },
    {
     "name": "stdout",
     "output_type": "stream",
     "text": [
      "Added existing summary:  Boyfriend gets soft as soon as I put a condom on him and he thinks he's a failure. How do I reassure him?\n",
      "Doc ID t3_1f5y0o\n",
      "Added perturbed summary:   SummID     NewsID                          UserID  \\\n",
      "0   S-48  t3_1f5y0o  3AFaFd3w9NjDGnO51kupLyK1N44DQ2   \n",
      "\n",
      "                                             Summary  \n",
      "0  What's the best way to go about this sensitive...  \n",
      "Doc ID t3_3fq6qq\n"
     ]
    },
    {
     "name": "stderr",
     "output_type": "stream",
     "text": [
      "/home/student/Desktop/P4/code/perturbation.py:60: UserWarning: To copy construct from a tensor, it is recommended to use sourceTensor.clone().detach() or sourceTensor.clone().detach().requires_grad_(True), rather than torch.tensor(sourceTensor).\n",
      "  tensor_array = torch.stack([torch.tensor(score, dtype=torch.float32).clone().detach() for score in sentences_scores])\n"
     ]
    },
    {
     "name": "stdout",
     "output_type": "stream",
     "text": [
      "Added perturbed summary:   SummID     NewsID                          UserID  \\\n",
      "0   S-49  t3_3fq6qq  3AFaFd3w9NjDGnO51kupLyK1N44DQ2   \n",
      "\n",
      "                                          Summary  \n",
      "0  I'm not sure if I should end our relationship.  \n",
      "Doc ID t3_4jv0c1\n"
     ]
    },
    {
     "name": "stderr",
     "output_type": "stream",
     "text": [
      "/home/student/Desktop/P4/code/perturbation.py:60: UserWarning: To copy construct from a tensor, it is recommended to use sourceTensor.clone().detach() or sourceTensor.clone().detach().requires_grad_(True), rather than torch.tensor(sourceTensor).\n",
      "  tensor_array = torch.stack([torch.tensor(score, dtype=torch.float32).clone().detach() for score in sentences_scores])\n"
     ]
    },
    {
     "name": "stdout",
     "output_type": "stream",
     "text": [
      "Added perturbed summary:   SummID     NewsID                          UserID  \\\n",
      "0   S-50  t3_4jv0c1  3AFaFd3w9NjDGnO51kupLyK1N44DQ2   \n",
      "\n",
      "                                             Summary  \n",
      "0  \"\\n\\nI still have NO idea if she has any genui...  \n",
      "Doc ID t3_52422y\n"
     ]
    },
    {
     "name": "stderr",
     "output_type": "stream",
     "text": [
      "/home/student/Desktop/P4/code/perturbation.py:60: UserWarning: To copy construct from a tensor, it is recommended to use sourceTensor.clone().detach() or sourceTensor.clone().detach().requires_grad_(True), rather than torch.tensor(sourceTensor).\n",
      "  tensor_array = torch.stack([torch.tensor(score, dtype=torch.float32).clone().detach() for score in sentences_scores])\n",
      " 80%|████████  | 4/5 [03:41<01:05, 65.08s/it]"
     ]
    },
    {
     "name": "stdout",
     "output_type": "stream",
     "text": [
      "Added perturbed summary:   SummID     NewsID                          UserID  \\\n",
      "0   S-51  t3_52422y  3AFaFd3w9NjDGnO51kupLyK1N44DQ2   \n",
      "\n",
      "                                             Summary  \n",
      "0  We always had a semi-open relationship, in the...  \n",
      "-----------\n",
      "Row 4: Docs column contains <class 'str'>\n",
      "Doc ID t3_hk8rk\n"
     ]
    },
    {
     "name": "stderr",
     "output_type": "stream",
     "text": [
      "/home/student/Desktop/P4/code/perturbation.py:60: UserWarning: To copy construct from a tensor, it is recommended to use sourceTensor.clone().detach() or sourceTensor.clone().detach().requires_grad_(True), rather than torch.tensor(sourceTensor).\n",
      "  tensor_array = torch.stack([torch.tensor(score, dtype=torch.float32).clone().detach() for score in sentences_scores])\n"
     ]
    },
    {
     "name": "stdout",
     "output_type": "stream",
     "text": [
      "Added perturbed summary:   SummID    NewsID                          UserID                     Summary\n",
      "0   S-52  t3_hk8rk  sC4a4UNRMSYCGopXr3K8znnyna6TVh  I am a 24/m dating a 21/f.\n",
      "Doc ID t3_2k0qfz\n"
     ]
    },
    {
     "name": "stderr",
     "output_type": "stream",
     "text": [
      "/home/student/Desktop/P4/code/perturbation.py:60: UserWarning: To copy construct from a tensor, it is recommended to use sourceTensor.clone().detach() or sourceTensor.clone().detach().requires_grad_(True), rather than torch.tensor(sourceTensor).\n",
      "  tensor_array = torch.stack([torch.tensor(score, dtype=torch.float32).clone().detach() for score in sentences_scores])\n"
     ]
    },
    {
     "name": "stdout",
     "output_type": "stream",
     "text": [
      "Added perturbed summary:   SummID     NewsID                          UserID  \\\n",
      "0   S-53  t3_2k0qfz  sC4a4UNRMSYCGopXr3K8znnyna6TVh   \n",
      "\n",
      "                                             Summary  \n",
      "0  I was fired last week from my seasonal part-ti...  \n",
      "Doc ID t3_1bx4k6\n"
     ]
    },
    {
     "name": "stderr",
     "output_type": "stream",
     "text": [
      "/home/student/Desktop/P4/code/perturbation.py:60: UserWarning: To copy construct from a tensor, it is recommended to use sourceTensor.clone().detach() or sourceTensor.clone().detach().requires_grad_(True), rather than torch.tensor(sourceTensor).\n",
      "  tensor_array = torch.stack([torch.tensor(score, dtype=torch.float32).clone().detach() for score in sentences_scores])\n"
     ]
    },
    {
     "name": "stdout",
     "output_type": "stream",
     "text": [
      "Added existing summary:  I'm dealing with depression/anxiety, my best friend moved in with me and brings her boyfriend over every day, it drives me insane to her them have sex, want them out but I get too nervous to tell her.\n",
      "Doc ID t3_25vak1\n",
      "Added perturbed summary:   SummID     NewsID                          UserID  \\\n",
      "0   S-55  t3_25vak1  sC4a4UNRMSYCGopXr3K8znnyna6TVh   \n",
      "\n",
      "                                             Summary  \n",
      "0  We texted from time to time and we knew each o...  \n",
      "Doc ID t3_3e8szg\n"
     ]
    },
    {
     "name": "stderr",
     "output_type": "stream",
     "text": [
      "/home/student/Desktop/P4/code/perturbation.py:60: UserWarning: To copy construct from a tensor, it is recommended to use sourceTensor.clone().detach() or sourceTensor.clone().detach().requires_grad_(True), rather than torch.tensor(sourceTensor).\n",
      "  tensor_array = torch.stack([torch.tensor(score, dtype=torch.float32).clone().detach() for score in sentences_scores])\n"
     ]
    },
    {
     "name": "stdout",
     "output_type": "stream",
     "text": [
      "Added perturbed summary:   SummID     NewsID                          UserID  \\\n",
      "0   S-56  t3_3e8szg  sC4a4UNRMSYCGopXr3K8znnyna6TVh   \n",
      "\n",
      "                                             Summary  \n",
      "0  I'm currently taking an intro to psychology cl...  \n",
      "Doc ID t3_s162q\n"
     ]
    },
    {
     "name": "stderr",
     "output_type": "stream",
     "text": [
      "/home/student/Desktop/P4/code/perturbation.py:60: UserWarning: To copy construct from a tensor, it is recommended to use sourceTensor.clone().detach() or sourceTensor.clone().detach().requires_grad_(True), rather than torch.tensor(sourceTensor).\n",
      "  tensor_array = torch.stack([torch.tensor(score, dtype=torch.float32).clone().detach() for score in sentences_scores])\n"
     ]
    },
    {
     "name": "stdout",
     "output_type": "stream",
     "text": [
      "Added perturbed summary:   SummID    NewsID                          UserID  \\\n",
      "0   S-57  t3_s162q  sC4a4UNRMSYCGopXr3K8znnyna6TVh   \n",
      "\n",
      "                                             Summary  \n",
      "0  I need help reddit like never before, being a ...  \n",
      "Doc ID t3_129g4e\n"
     ]
    },
    {
     "name": "stderr",
     "output_type": "stream",
     "text": [
      "/home/student/Desktop/P4/code/perturbation.py:60: UserWarning: To copy construct from a tensor, it is recommended to use sourceTensor.clone().detach() or sourceTensor.clone().detach().requires_grad_(True), rather than torch.tensor(sourceTensor).\n",
      "  tensor_array = torch.stack([torch.tensor(score, dtype=torch.float32).clone().detach() for score in sentences_scores])\n"
     ]
    },
    {
     "name": "stdout",
     "output_type": "stream",
     "text": [
      "Added existing summary:  Second date with a girl I like coming up this Friday. I need help finding courage to get physical, so I can properly end our date with a kiss, and hopefully more.\n",
      "Doc ID t3_lqmw3\n",
      "Added perturbed summary:   SummID    NewsID                          UserID  \\\n",
      "0   S-59  t3_lqmw3  sC4a4UNRMSYCGopXr3K8znnyna6TVh   \n",
      "\n",
      "                                             Summary  \n",
      "0  I (16/m) am starting to let go of the girl I h...  \n",
      "Doc ID t3_17nvxc\n"
     ]
    },
    {
     "name": "stderr",
     "output_type": "stream",
     "text": [
      "/home/student/Desktop/P4/code/perturbation.py:60: UserWarning: To copy construct from a tensor, it is recommended to use sourceTensor.clone().detach() or sourceTensor.clone().detach().requires_grad_(True), rather than torch.tensor(sourceTensor).\n",
      "  tensor_array = torch.stack([torch.tensor(score, dtype=torch.float32).clone().detach() for score in sentences_scores])\n"
     ]
    },
    {
     "name": "stdout",
     "output_type": "stream",
     "text": [
      "Added existing summary:  meet girl, hit it off.  She seems like she likes me, but she doesn't respond to texts.  Today, she's MIA.  What do I do?\n",
      "Doc ID t3_4ujih4\n",
      "Added perturbed summary:   SummID     NewsID                          UserID  \\\n",
      "0   S-61  t3_4ujih4  sC4a4UNRMSYCGopXr3K8znnyna6TVh   \n",
      "\n",
      "                                             Summary  \n",
      "0  Now that I confronted her about how she cheate...  \n",
      "Doc ID t3_2b5akv\n"
     ]
    },
    {
     "name": "stderr",
     "output_type": "stream",
     "text": [
      "/home/student/Desktop/P4/code/perturbation.py:60: UserWarning: To copy construct from a tensor, it is recommended to use sourceTensor.clone().detach() or sourceTensor.clone().detach().requires_grad_(True), rather than torch.tensor(sourceTensor).\n",
      "  tensor_array = torch.stack([torch.tensor(score, dtype=torch.float32).clone().detach() for score in sentences_scores])\n"
     ]
    },
    {
     "name": "stdout",
     "output_type": "stream",
     "text": [
      "Added existing summary:  Boyfriend tells me I'm only attractive when I'm happy, even though he never initiates anything. I'm really hurt, and don't know how to get over this.\n",
      "Doc ID t3_22i93r\n",
      "Added perturbed summary:   SummID     NewsID                          UserID  \\\n",
      "0   S-63  t3_22i93r  sC4a4UNRMSYCGopXr3K8znnyna6TVh   \n",
      "\n",
      "                                             Summary  \n",
      "0  I'm so devastated that I don't know what to do...  \n",
      "Doc ID t3_31dwr3\n"
     ]
    },
    {
     "name": "stderr",
     "output_type": "stream",
     "text": [
      "/home/student/Desktop/P4/code/perturbation.py:60: UserWarning: To copy construct from a tensor, it is recommended to use sourceTensor.clone().detach() or sourceTensor.clone().detach().requires_grad_(True), rather than torch.tensor(sourceTensor).\n",
      "  tensor_array = torch.stack([torch.tensor(score, dtype=torch.float32).clone().detach() for score in sentences_scores])\n"
     ]
    },
    {
     "name": "stdout",
     "output_type": "stream",
     "text": [
      "Added perturbed summary:   SummID     NewsID                          UserID  \\\n",
      "0   S-64  t3_31dwr3  sC4a4UNRMSYCGopXr3K8znnyna6TVh   \n",
      "\n",
      "                        Summary  \n",
      "0  Am I wrong to feel this way?  \n",
      "Doc ID t3_2rvb2a\n"
     ]
    },
    {
     "name": "stderr",
     "output_type": "stream",
     "text": [
      "/home/student/Desktop/P4/code/perturbation.py:60: UserWarning: To copy construct from a tensor, it is recommended to use sourceTensor.clone().detach() or sourceTensor.clone().detach().requires_grad_(True), rather than torch.tensor(sourceTensor).\n",
      "  tensor_array = torch.stack([torch.tensor(score, dtype=torch.float32).clone().detach() for score in sentences_scores])\n"
     ]
    },
    {
     "name": "stdout",
     "output_type": "stream",
     "text": [
      "Added existing summary:  FH is working from home today, I send him a message to keep an eye out for the STDs that I paid for. He gets mad at me for spending too much time on Reddit.\n",
      "Doc ID t3_33o66q\n",
      "Added perturbed summary:   SummID     NewsID                          UserID  \\\n",
      "0   S-66  t3_33o66q  sC4a4UNRMSYCGopXr3K8znnyna6TVh   \n",
      "\n",
      "                                  Summary  \n",
      "0  Am I horrible for wanting to cut ties?  \n",
      "Doc ID t3_21id31\n"
     ]
    },
    {
     "name": "stderr",
     "output_type": "stream",
     "text": [
      "/home/student/Desktop/P4/code/perturbation.py:60: UserWarning: To copy construct from a tensor, it is recommended to use sourceTensor.clone().detach() or sourceTensor.clone().detach().requires_grad_(True), rather than torch.tensor(sourceTensor).\n",
      "  tensor_array = torch.stack([torch.tensor(score, dtype=torch.float32).clone().detach() for score in sentences_scores])\n"
     ]
    },
    {
     "name": "stdout",
     "output_type": "stream",
     "text": [
      "Added perturbed summary:   SummID     NewsID                          UserID  \\\n",
      "0   S-67  t3_21id31  sC4a4UNRMSYCGopXr3K8znnyna6TVh   \n",
      "\n",
      "                                             Summary  \n",
      "0  ](\\n\\n(TL;D-Watch: Rich guy by the name of Kev...  \n",
      "Doc ID t3_1foqwk\n"
     ]
    },
    {
     "name": "stderr",
     "output_type": "stream",
     "text": [
      "/home/student/Desktop/P4/code/perturbation.py:60: UserWarning: To copy construct from a tensor, it is recommended to use sourceTensor.clone().detach() or sourceTensor.clone().detach().requires_grad_(True), rather than torch.tensor(sourceTensor).\n",
      "  tensor_array = torch.stack([torch.tensor(score, dtype=torch.float32).clone().detach() for score in sentences_scores])\n"
     ]
    },
    {
     "name": "stdout",
     "output_type": "stream",
     "text": [
      "Added perturbed summary:   SummID     NewsID                          UserID  \\\n",
      "0   S-68  t3_1foqwk  sC4a4UNRMSYCGopXr3K8znnyna6TVh   \n",
      "\n",
      "                                             Summary  \n",
      "0  His reasoning was that I said I wish I knew if...  \n",
      "Doc ID t3_tegzs\n"
     ]
    },
    {
     "name": "stderr",
     "output_type": "stream",
     "text": [
      "/home/student/Desktop/P4/code/perturbation.py:60: UserWarning: To copy construct from a tensor, it is recommended to use sourceTensor.clone().detach() or sourceTensor.clone().detach().requires_grad_(True), rather than torch.tensor(sourceTensor).\n",
      "  tensor_array = torch.stack([torch.tensor(score, dtype=torch.float32).clone().detach() for score in sentences_scores])\n"
     ]
    },
    {
     "name": "stdout",
     "output_type": "stream",
     "text": [
      "Added perturbed summary:   SummID    NewsID                          UserID  \\\n",
      "0   S-69  t3_tegzs  sC4a4UNRMSYCGopXr3K8znnyna6TVh   \n",
      "\n",
      "                                             Summary  \n",
      "0  How do I know if i'm being taken advantage off?    \n",
      "Doc ID t3_2e8wr5\n"
     ]
    },
    {
     "name": "stderr",
     "output_type": "stream",
     "text": [
      "/home/student/Desktop/P4/code/perturbation.py:60: UserWarning: To copy construct from a tensor, it is recommended to use sourceTensor.clone().detach() or sourceTensor.clone().detach().requires_grad_(True), rather than torch.tensor(sourceTensor).\n",
      "  tensor_array = torch.stack([torch.tensor(score, dtype=torch.float32).clone().detach() for score in sentences_scores])\n"
     ]
    },
    {
     "name": "stdout",
     "output_type": "stream",
     "text": [
      "Added perturbed summary:   SummID     NewsID                          UserID  \\\n",
      "0   S-70  t3_2e8wr5  sC4a4UNRMSYCGopXr3K8znnyna6TVh   \n",
      "\n",
      "                                             Summary  \n",
      "0  Since this is my first real relationship, I'm ...  \n",
      "Doc ID t3_4a5yqx\n"
     ]
    },
    {
     "name": "stderr",
     "output_type": "stream",
     "text": [
      "/home/student/Desktop/P4/code/perturbation.py:60: UserWarning: To copy construct from a tensor, it is recommended to use sourceTensor.clone().detach() or sourceTensor.clone().detach().requires_grad_(True), rather than torch.tensor(sourceTensor).\n",
      "  tensor_array = torch.stack([torch.tensor(score, dtype=torch.float32).clone().detach() for score in sentences_scores])\n"
     ]
    },
    {
     "name": "stdout",
     "output_type": "stream",
     "text": [
      "Added existing summary:  The Juicy Lucy is a burger/pussy joke combo that squirts in your face when you take a bite.\n",
      "Doc ID t3_2lg4fb\n",
      "Added perturbed summary:   SummID     NewsID                          UserID  \\\n",
      "0   S-72  t3_2lg4fb  sC4a4UNRMSYCGopXr3K8znnyna6TVh   \n",
      "\n",
      "                                             Summary  \n",
      "0  I honestly don't know what to do to so this go...  \n",
      "Doc ID t3_oh2w7\n"
     ]
    },
    {
     "name": "stderr",
     "output_type": "stream",
     "text": [
      "/home/student/Desktop/P4/code/perturbation.py:60: UserWarning: To copy construct from a tensor, it is recommended to use sourceTensor.clone().detach() or sourceTensor.clone().detach().requires_grad_(True), rather than torch.tensor(sourceTensor).\n",
      "  tensor_array = torch.stack([torch.tensor(score, dtype=torch.float32).clone().detach() for score in sentences_scores])\n"
     ]
    },
    {
     "name": "stdout",
     "output_type": "stream",
     "text": [
      "Added existing summary:  I found a company that will pay you to go to pubs across England. Is this a scam?\n",
      "Doc ID t3_2h6khw\n"
     ]
    },
    {
     "name": "stderr",
     "output_type": "stream",
     "text": [
      "100%|██████████| 5/5 [04:26<00:00, 53.23s/it]"
     ]
    },
    {
     "name": "stdout",
     "output_type": "stream",
     "text": [
      "KeyError: 't3_159ikj' at row 4\n",
      "Created new file and saved progress at iteration 5\n",
      "Saved aug_df progress to open_ai_trial1.csv at iteration 5\n",
      "Final updated DataFrame saved to aug_df_with_updated_docs.csv\n",
      "Total time for processing: 266.24 seconds\n"
     ]
    },
    {
     "name": "stderr",
     "output_type": "stream",
     "text": [
      "\n"
     ]
    }
   ],
   "source": [
    "import pandas as pd\n",
    "import json\n",
    "import random\n",
    "import time\n",
    "from tqdm import tqdm\n",
    "\n",
    "# Initialize the DataFrame for perturbed summaries\n",
    "purturbed_summ_df = pd.DataFrame(columns=['SummID', 'NewsID', 'UserID', 'Summary'])\n",
    "curr_summ_id = 1\n",
    "\n",
    "aug_df_loop = aug_df[0:1280]\n",
    "\n",
    "output_file_path = \"final_open_ai_sample1.csv\"\n",
    "aug_output_file_path = \"final_open_ai_trial1.csv\"\n",
    "final_output_file_path = \"final_aug_df_with_updated_docs.csv\"  # New file to store updates\n",
    "\n",
    "start_time = time.time()\n",
    "\n",
    "# Create a copy of aug_df to store updates (immutable original DataFrame)\n",
    "updated_aug_df = aug_df.copy()\n",
    "\n",
    "def process_row(row, purturbed_summ_df, curr_summ_id):\n",
    "    try:\n",
    "        # Assuming perturbate_trajectory is defined elsewhere\n",
    "        purturbed_summ_df, curr_summ_id, updated_doc_list = perturbate_trajectory(\n",
    "            row, news_df, summ_df, purturbed_summ_df, curr_summ_id, \n",
    "            previous_doc_steps, decay_rate, perturbation_probability\n",
    "        )\n",
    "        return updated_doc_list, purturbed_summ_df, curr_summ_id\n",
    "\n",
    "    except KeyError as e:\n",
    "        print(f\"KeyError: {e} at row {row.name}\")\n",
    "        docs = row.get(\"Docs\", \"No Docs Found\")  # Handle missing key\n",
    "        return docs, purturbed_summ_df, curr_summ_id\n",
    "\n",
    "    except Exception as e:\n",
    "        print(f\"Error at row {row.name}: {e}\")\n",
    "        return row.get(\"Docs\", \"No Docs Found\"), purturbed_summ_df, curr_summ_id\n",
    "\n",
    "\n",
    "# Process all rows and update only the `updated_aug_df` DataFrame\n",
    "for idx, (index, row) in enumerate(tqdm(aug_df_loop.iterrows(), total=aug_df_loop.shape[0])):\n",
    "    updated_docs, purturbed_summ_df, curr_summ_id = process_row(row, purturbed_summ_df, curr_summ_id)\n",
    "    \n",
    "    # Update the copy of the DataFrame instead of the original\n",
    "    updated_aug_df.at[index, 'Docs'] = updated_docs \n",
    "\n",
    "    # Save perturbed summaries incrementally\n",
    "    if (idx + 1) % 5 == 0:\n",
    "        try:\n",
    "            existing_df = pd.read_csv(output_file_path)\n",
    "            new_rows = purturbed_summ_df[~purturbed_summ_df.isin(existing_df)].dropna(how='all')\n",
    "            if not new_rows.empty:\n",
    "                new_rows.to_csv(output_file_path, index=False, mode='a', header=False)\n",
    "                print(f\"Saved progress to {output_file_path} at iteration {idx + 1}\")\n",
    "        except FileNotFoundError:\n",
    "            purturbed_summ_df.to_csv(output_file_path, index=False, mode='w', header=True)\n",
    "            print(f\"Created new file and saved progress at iteration {idx + 1}\")\n",
    "\n",
    "    # Save incremental progress for updated_aug_df\n",
    "    if (idx + 1) % 5 == 0:\n",
    "        updated_aug_df.iloc[:idx + 1].to_csv(aug_output_file_path, index=False, mode='w')\n",
    "        print(f\"Saved aug_df progress to {aug_output_file_path} at iteration {idx + 1}\")\n",
    "\n",
    "# After processing, save the final updated DataFrame to a new file\n",
    "updated_aug_df.to_csv(final_output_file_path, index=False)\n",
    "print(f\"Final updated DataFrame saved to {final_output_file_path}\")\n",
    "\n",
    "end_time = time.time()\n",
    "total_time = end_time - start_time \n",
    "print(f\"Total time for processing: {total_time:.2f} seconds\")\n"
   ]
  },
  {
   "cell_type": "code",
   "execution_count": 27,
   "metadata": {},
   "outputs": [],
   "source": [
    "# purturbed_summ_df"
   ]
  },
  {
   "cell_type": "code",
   "execution_count": 33,
   "metadata": {},
   "outputs": [
    {
     "data": {
      "text/html": [
       "<div>\n",
       "<style scoped>\n",
       "    .dataframe tbody tr th:only-of-type {\n",
       "        vertical-align: middle;\n",
       "    }\n",
       "\n",
       "    .dataframe tbody tr th {\n",
       "        vertical-align: top;\n",
       "    }\n",
       "\n",
       "    .dataframe thead th {\n",
       "        text-align: right;\n",
       "    }\n",
       "</style>\n",
       "<table border=\"1\" class=\"dataframe\">\n",
       "  <thead>\n",
       "    <tr style=\"text-align: right;\">\n",
       "      <th></th>\n",
       "      <th>Unnamed: 0</th>\n",
       "      <th>UserID</th>\n",
       "      <th>Docs</th>\n",
       "      <th>Actions</th>\n",
       "      <th>Summaries</th>\n",
       "    </tr>\n",
       "  </thead>\n",
       "  <tbody>\n",
       "    <tr>\n",
       "      <th>0</th>\n",
       "      <td>0</td>\n",
       "      <td>OKFDIsAZl6Qa0m9x26f5Ao4S0uc7Ca</td>\n",
       "      <td>['t3_1uik1u', 't3_43w7kx', 't3_lzpxj', 't3_4ek...</td>\n",
       "      <td>['click', 'click', 'skip', 'click', 'click', '...</td>\n",
       "      <td>49</td>\n",
       "    </tr>\n",
       "    <tr>\n",
       "      <th>1</th>\n",
       "      <td>1</td>\n",
       "      <td>4voZkkCJyOCnpQ5f8WFf5unLW1dSjC</td>\n",
       "      <td>['t3_3tlgya', 't3_2fv0ml', 'S27', 't3_1k899m',...</td>\n",
       "      <td>['click', 'gen_summ', 'summ_gen', 'gen_summ', ...</td>\n",
       "      <td>47</td>\n",
       "    </tr>\n",
       "    <tr>\n",
       "      <th>2</th>\n",
       "      <td>2</td>\n",
       "      <td>BYcMzzjuFgaA59QDKoAgY07PyyG0qC</td>\n",
       "      <td>['t3_40cfd4', 't3_2xzm0r', 't3_1c29x1', 't3_1c...</td>\n",
       "      <td>['click', 'click', 'click', 'click', 'click', ...</td>\n",
       "      <td>33</td>\n",
       "    </tr>\n",
       "    <tr>\n",
       "      <th>3</th>\n",
       "      <td>3</td>\n",
       "      <td>3AFaFd3w9NjDGnO51kupLyK1N44DQ2</td>\n",
       "      <td>['t3_398tyr', 't3_2jkqnb', 't3_29092z', 't3_3m...</td>\n",
       "      <td>['skip', 'click', 'click', 'click', 'click', '...</td>\n",
       "      <td>51</td>\n",
       "    </tr>\n",
       "    <tr>\n",
       "      <th>4</th>\n",
       "      <td>4</td>\n",
       "      <td>sC4a4UNRMSYCGopXr3K8znnyna6TVh</td>\n",
       "      <td>['t3_17nvxc', 't3_2yk9rt', 't3_2e8wr5', 't3_1b...</td>\n",
       "      <td>['skip', 'click', 'click', 'skip', 'skip', 'cl...</td>\n",
       "      <td>45</td>\n",
       "    </tr>\n",
       "    <tr>\n",
       "      <th>...</th>\n",
       "      <td>...</td>\n",
       "      <td>...</td>\n",
       "      <td>...</td>\n",
       "      <td>...</td>\n",
       "      <td>...</td>\n",
       "    </tr>\n",
       "    <tr>\n",
       "      <th>1275</th>\n",
       "      <td>1275</td>\n",
       "      <td>isDhsCwFEZSpFQj0r8qHU3SpdkWtpw</td>\n",
       "      <td>['t3_3gjipx', 't3_3td5la', 't3_17x2sr', 'S2673...</td>\n",
       "      <td>['click', 'skip', 'gen_summ', 'summ_gen', 'cli...</td>\n",
       "      <td>42</td>\n",
       "    </tr>\n",
       "    <tr>\n",
       "      <th>1276</th>\n",
       "      <td>1276</td>\n",
       "      <td>ZzGCcAhvqF0HnKxNsUjtJFadcZdyZj</td>\n",
       "      <td>['t3_3muqwd', 't3_2wff5p', 'S26754', 't3_2hm10...</td>\n",
       "      <td>['click', 'gen_summ', 'summ_gen', 'click', 'sk...</td>\n",
       "      <td>32</td>\n",
       "    </tr>\n",
       "    <tr>\n",
       "      <th>1277</th>\n",
       "      <td>1277</td>\n",
       "      <td>P2p07Up4eJyvxrrVYgwtb60krbFbxI</td>\n",
       "      <td>['t3_10e6pr', 't3_n0w5o', 't3_yf6r3', 't3_2r0j...</td>\n",
       "      <td>['click', 'click', 'click', 'gen_summ', 'summ_...</td>\n",
       "      <td>50</td>\n",
       "    </tr>\n",
       "    <tr>\n",
       "      <th>1278</th>\n",
       "      <td>1278</td>\n",
       "      <td>a7zXgbkuY6lk3vdt0q2Qf7SrZQgZ86</td>\n",
       "      <td>['t3_2sn231', 't3_41f2vn', 't3_3cfrr4', 't3_20...</td>\n",
       "      <td>['click', 'click', 'skip', 'skip', 'click', 'c...</td>\n",
       "      <td>46</td>\n",
       "    </tr>\n",
       "    <tr>\n",
       "      <th>1279</th>\n",
       "      <td>1279</td>\n",
       "      <td>mjwVX7RHTcfOfLTYGdBvms3vy8LTtP</td>\n",
       "      <td>['t3_1j89np', 't3_1rzsyd', 't3_4a7qz1', 't3_1x...</td>\n",
       "      <td>['click', 'click', 'click', 'click', 'click', ...</td>\n",
       "      <td>28</td>\n",
       "    </tr>\n",
       "  </tbody>\n",
       "</table>\n",
       "<p>1280 rows × 5 columns</p>\n",
       "</div>"
      ],
      "text/plain": [
       "      Unnamed: 0                          UserID  \\\n",
       "0              0  OKFDIsAZl6Qa0m9x26f5Ao4S0uc7Ca   \n",
       "1              1  4voZkkCJyOCnpQ5f8WFf5unLW1dSjC   \n",
       "2              2  BYcMzzjuFgaA59QDKoAgY07PyyG0qC   \n",
       "3              3  3AFaFd3w9NjDGnO51kupLyK1N44DQ2   \n",
       "4              4  sC4a4UNRMSYCGopXr3K8znnyna6TVh   \n",
       "...          ...                             ...   \n",
       "1275        1275  isDhsCwFEZSpFQj0r8qHU3SpdkWtpw   \n",
       "1276        1276  ZzGCcAhvqF0HnKxNsUjtJFadcZdyZj   \n",
       "1277        1277  P2p07Up4eJyvxrrVYgwtb60krbFbxI   \n",
       "1278        1278  a7zXgbkuY6lk3vdt0q2Qf7SrZQgZ86   \n",
       "1279        1279  mjwVX7RHTcfOfLTYGdBvms3vy8LTtP   \n",
       "\n",
       "                                                   Docs  \\\n",
       "0     ['t3_1uik1u', 't3_43w7kx', 't3_lzpxj', 't3_4ek...   \n",
       "1     ['t3_3tlgya', 't3_2fv0ml', 'S27', 't3_1k899m',...   \n",
       "2     ['t3_40cfd4', 't3_2xzm0r', 't3_1c29x1', 't3_1c...   \n",
       "3     ['t3_398tyr', 't3_2jkqnb', 't3_29092z', 't3_3m...   \n",
       "4     ['t3_17nvxc', 't3_2yk9rt', 't3_2e8wr5', 't3_1b...   \n",
       "...                                                 ...   \n",
       "1275  ['t3_3gjipx', 't3_3td5la', 't3_17x2sr', 'S2673...   \n",
       "1276  ['t3_3muqwd', 't3_2wff5p', 'S26754', 't3_2hm10...   \n",
       "1277  ['t3_10e6pr', 't3_n0w5o', 't3_yf6r3', 't3_2r0j...   \n",
       "1278  ['t3_2sn231', 't3_41f2vn', 't3_3cfrr4', 't3_20...   \n",
       "1279  ['t3_1j89np', 't3_1rzsyd', 't3_4a7qz1', 't3_1x...   \n",
       "\n",
       "                                                Actions  Summaries  \n",
       "0     ['click', 'click', 'skip', 'click', 'click', '...         49  \n",
       "1     ['click', 'gen_summ', 'summ_gen', 'gen_summ', ...         47  \n",
       "2     ['click', 'click', 'click', 'click', 'click', ...         33  \n",
       "3     ['skip', 'click', 'click', 'click', 'click', '...         51  \n",
       "4     ['skip', 'click', 'click', 'skip', 'skip', 'cl...         45  \n",
       "...                                                 ...        ...  \n",
       "1275  ['click', 'skip', 'gen_summ', 'summ_gen', 'cli...         42  \n",
       "1276  ['click', 'gen_summ', 'summ_gen', 'click', 'sk...         32  \n",
       "1277  ['click', 'click', 'click', 'gen_summ', 'summ_...         50  \n",
       "1278  ['click', 'click', 'skip', 'skip', 'click', 'c...         46  \n",
       "1279  ['click', 'click', 'click', 'click', 'click', ...         28  \n",
       "\n",
       "[1280 rows x 5 columns]"
      ]
     },
     "execution_count": 33,
     "metadata": {},
     "output_type": "execute_result"
    }
   ],
   "source": [
    "d = pd.read_csv(\"/home/student/Desktop/P4/code/aug_df_with_updated_docs.csv\")\n",
    "d"
   ]
  },
  {
   "cell_type": "code",
   "execution_count": 28,
   "metadata": {},
   "outputs": [],
   "source": [
    "# purturbed_summ_df.to_csv(\"C:/Users/shiva/OneDrive/Desktop/Data_aug/data/D14trial.csv\", index=False)\n"
   ]
  },
  {
   "cell_type": "code",
   "execution_count": 29,
   "metadata": {},
   "outputs": [],
   "source": [
    "# purturbed_summ_df.to_csv(\"C:\\Users\\shiva\\OneDrive\\Desktop\\Data_aug\\data\\D14trial.csv\", index= False)"
   ]
  },
  {
   "cell_type": "code",
   "execution_count": null,
   "metadata": {},
   "outputs": [],
   "source": []
  },
  {
   "cell_type": "code",
   "execution_count": 30,
   "metadata": {},
   "outputs": [],
   "source": [
    "# purturbed_summ_df.to_csv(\"C:\\Users\\shiva\\OneDrive\\Desktop\\Data_aug\\code\\D14trial.csv\", )"
   ]
  },
  {
   "cell_type": "code",
   "execution_count": 31,
   "metadata": {},
   "outputs": [],
   "source": [
    "# # Save it to a new CSV file\n",
    "# purturbed_summ_df.to_csv(r\"C:\\Users\\shiva\\OneDrive\\Desktop\\Data_aug\\code\\D14trial.csv\" , index=False)\n"
   ]
  },
  {
   "cell_type": "code",
   "execution_count": null,
   "metadata": {},
   "outputs": [],
   "source": []
  },
  {
   "cell_type": "code",
   "execution_count": 32,
   "metadata": {},
   "outputs": [
    {
     "ename": "NameError",
     "evalue": "name 'U146053' is not defined",
     "output_type": "error",
     "traceback": [
      "\u001b[0;31m---------------------------------------------------------------------------\u001b[0m",
      "\u001b[0;31mNameError\u001b[0m                                 Traceback (most recent call last)",
      "Cell \u001b[0;32mIn[32], line 1\u001b[0m\n\u001b[0;32m----> 1\u001b[0m \u001b[43mU146053\u001b[49m,\u001b[38;5;124m\"\u001b[39m\u001b[38;5;124m[\u001b[39m\u001b[38;5;124m'\u001b[39m\u001b[38;5;124mN95202\u001b[39m\u001b[38;5;124m'\u001b[39m\u001b[38;5;124m, \u001b[39m\u001b[38;5;124m'\u001b[39m\u001b[38;5;124mN84319\u001b[39m\u001b[38;5;124m'\u001b[39m\u001b[38;5;124m, \u001b[39m\u001b[38;5;124m'\u001b[39m\u001b[38;5;124mN92854\u001b[39m\u001b[38;5;124m'\u001b[39m\u001b[38;5;124m, \u001b[39m\u001b[38;5;124m'\u001b[39m\u001b[38;5;124mN43563\u001b[39m\u001b[38;5;124m'\u001b[39m\u001b[38;5;124m, \u001b[39m\u001b[38;5;124m'\u001b[39m\u001b[38;5;124mS3\u001b[39m\u001b[38;5;124m'\u001b[39m\u001b[38;5;124m, \u001b[39m\u001b[38;5;124m'\u001b[39m\u001b[38;5;124mN78688\u001b[39m\u001b[38;5;124m'\u001b[39m\u001b[38;5;124m, \u001b[39m\u001b[38;5;124m'\u001b[39m\u001b[38;5;124mN94858\u001b[39m\u001b[38;5;124m'\u001b[39m\u001b[38;5;124m, \u001b[39m\u001b[38;5;124m'\u001b[39m\u001b[38;5;124mN60541\u001b[39m\u001b[38;5;124m'\u001b[39m\u001b[38;5;124m, \u001b[39m\u001b[38;5;124m'\u001b[39m\u001b[38;5;124mN109049\u001b[39m\u001b[38;5;124m'\u001b[39m\u001b[38;5;124m, \u001b[39m\u001b[38;5;124m'\u001b[39m\u001b[38;5;124mN40725\u001b[39m\u001b[38;5;124m'\u001b[39m\u001b[38;5;124m, \u001b[39m\u001b[38;5;124m'\u001b[39m\u001b[38;5;124mN98578\u001b[39m\u001b[38;5;124m'\u001b[39m\u001b[38;5;124m, \u001b[39m\u001b[38;5;124m'\u001b[39m\u001b[38;5;124mN34661\u001b[39m\u001b[38;5;124m'\u001b[39m\u001b[38;5;124m, \u001b[39m\u001b[38;5;124m'\u001b[39m\u001b[38;5;124mN60152\u001b[39m\u001b[38;5;124m'\u001b[39m\u001b[38;5;124m, \u001b[39m\u001b[38;5;124m'\u001b[39m\u001b[38;5;124mN14869\u001b[39m\u001b[38;5;124m'\u001b[39m\u001b[38;5;124m, \u001b[39m\u001b[38;5;124m'\u001b[39m\u001b[38;5;124mN85195\u001b[39m\u001b[38;5;124m'\u001b[39m\u001b[38;5;124m, \u001b[39m\u001b[38;5;124m'\u001b[39m\u001b[38;5;124mN112559\u001b[39m\u001b[38;5;124m'\u001b[39m\u001b[38;5;124m, \u001b[39m\u001b[38;5;124m'\u001b[39m\u001b[38;5;124mN39488\u001b[39m\u001b[38;5;124m'\u001b[39m\u001b[38;5;124m, \u001b[39m\u001b[38;5;124m'\u001b[39m\u001b[38;5;124mN76001\u001b[39m\u001b[38;5;124m'\u001b[39m\u001b[38;5;124m, \u001b[39m\u001b[38;5;124m'\u001b[39m\u001b[38;5;124mN82971\u001b[39m\u001b[38;5;124m'\u001b[39m\u001b[38;5;124m, \u001b[39m\u001b[38;5;124m'\u001b[39m\u001b[38;5;124mN97393\u001b[39m\u001b[38;5;124m'\u001b[39m\u001b[38;5;124m, \u001b[39m\u001b[38;5;124m'\u001b[39m\u001b[38;5;124mS4\u001b[39m\u001b[38;5;124m'\u001b[39m\u001b[38;5;124m, \u001b[39m\u001b[38;5;124m'\u001b[39m\u001b[38;5;124mN91626\u001b[39m\u001b[38;5;124m'\u001b[39m\u001b[38;5;124m, \u001b[39m\u001b[38;5;124m'\u001b[39m\u001b[38;5;124mN108279\u001b[39m\u001b[38;5;124m'\u001b[39m\u001b[38;5;124m, \u001b[39m\u001b[38;5;124m'\u001b[39m\u001b[38;5;124mN117655\u001b[39m\u001b[38;5;124m'\u001b[39m\u001b[38;5;124m, \u001b[39m\u001b[38;5;124m'\u001b[39m\u001b[38;5;124mN71253\u001b[39m\u001b[38;5;124m'\u001b[39m\u001b[38;5;124m, \u001b[39m\u001b[38;5;124m'\u001b[39m\u001b[38;5;124mN102284\u001b[39m\u001b[38;5;124m'\u001b[39m\u001b[38;5;124m, \u001b[39m\u001b[38;5;124m'\u001b[39m\u001b[38;5;124mN74955\u001b[39m\u001b[38;5;124m'\u001b[39m\u001b[38;5;124m, \u001b[39m\u001b[38;5;124m'\u001b[39m\u001b[38;5;124mN110865\u001b[39m\u001b[38;5;124m'\u001b[39m\u001b[38;5;124m, \u001b[39m\u001b[38;5;124m'\u001b[39m\u001b[38;5;124mN26275\u001b[39m\u001b[38;5;124m'\u001b[39m\u001b[38;5;124m, \u001b[39m\u001b[38;5;124m'\u001b[39m\u001b[38;5;124mN14580\u001b[39m\u001b[38;5;124m'\u001b[39m\u001b[38;5;124m, \u001b[39m\u001b[38;5;124m'\u001b[39m\u001b[38;5;124mN34531\u001b[39m\u001b[38;5;124m'\u001b[39m\u001b[38;5;124m, \u001b[39m\u001b[38;5;124m'\u001b[39m\u001b[38;5;124mN58299\u001b[39m\u001b[38;5;124m'\u001b[39m\u001b[38;5;124m, \u001b[39m\u001b[38;5;124m'\u001b[39m\u001b[38;5;124mN15823\u001b[39m\u001b[38;5;124m'\u001b[39m\u001b[38;5;124m, \u001b[39m\u001b[38;5;124m'\u001b[39m\u001b[38;5;124mN51238\u001b[39m\u001b[38;5;124m'\u001b[39m\u001b[38;5;124m, \u001b[39m\u001b[38;5;124m'\u001b[39m\u001b[38;5;124mN49515\u001b[39m\u001b[38;5;124m'\u001b[39m\u001b[38;5;124m, \u001b[39m\u001b[38;5;124m'\u001b[39m\u001b[38;5;124mN14025\u001b[39m\u001b[38;5;124m'\u001b[39m\u001b[38;5;124m, \u001b[39m\u001b[38;5;124m'\u001b[39m\u001b[38;5;124mN86432\u001b[39m\u001b[38;5;124m'\u001b[39m\u001b[38;5;124m, \u001b[39m\u001b[38;5;124m'\u001b[39m\u001b[38;5;124mN83288\u001b[39m\u001b[38;5;124m'\u001b[39m\u001b[38;5;124m, \u001b[39m\u001b[38;5;124m'\u001b[39m\u001b[38;5;124mN18713\u001b[39m\u001b[38;5;124m'\u001b[39m\u001b[38;5;124m, \u001b[39m\u001b[38;5;124m'\u001b[39m\u001b[38;5;124mN92169\u001b[39m\u001b[38;5;124m'\u001b[39m\u001b[38;5;124m, \u001b[39m\u001b[38;5;124m'\u001b[39m\u001b[38;5;124mN36897\u001b[39m\u001b[38;5;124m'\u001b[39m\u001b[38;5;124m, \u001b[39m\u001b[38;5;124m'\u001b[39m\u001b[38;5;124mN73739\u001b[39m\u001b[38;5;124m'\u001b[39m\u001b[38;5;124m, \u001b[39m\u001b[38;5;124m'\u001b[39m\u001b[38;5;124mN105995\u001b[39m\u001b[38;5;124m'\u001b[39m\u001b[38;5;124m, \u001b[39m\u001b[38;5;124m'\u001b[39m\u001b[38;5;124mN44369\u001b[39m\u001b[38;5;124m'\u001b[39m\u001b[38;5;124m, \u001b[39m\u001b[38;5;124m'\u001b[39m\u001b[38;5;124mN50571\u001b[39m\u001b[38;5;124m'\u001b[39m\u001b[38;5;124m, \u001b[39m\u001b[38;5;124m'\u001b[39m\u001b[38;5;124mN37463\u001b[39m\u001b[38;5;124m'\u001b[39m\u001b[38;5;124m, \u001b[39m\u001b[38;5;124m'\u001b[39m\u001b[38;5;124mN120373\u001b[39m\u001b[38;5;124m'\u001b[39m\u001b[38;5;124m, \u001b[39m\u001b[38;5;124m'\u001b[39m\u001b[38;5;124mN95302\u001b[39m\u001b[38;5;124m'\u001b[39m\u001b[38;5;124m, \u001b[39m\u001b[38;5;124m'\u001b[39m\u001b[38;5;124mN10817\u001b[39m\u001b[38;5;124m'\u001b[39m\u001b[38;5;124m, \u001b[39m\u001b[38;5;124m'\u001b[39m\u001b[38;5;124mN89219\u001b[39m\u001b[38;5;124m'\u001b[39m\u001b[38;5;124m, \u001b[39m\u001b[38;5;124m'\u001b[39m\u001b[38;5;124mN37826\u001b[39m\u001b[38;5;124m'\u001b[39m\u001b[38;5;124m, \u001b[39m\u001b[38;5;124m'\u001b[39m\u001b[38;5;124mN117079\u001b[39m\u001b[38;5;124m'\u001b[39m\u001b[38;5;124m, \u001b[39m\u001b[38;5;124m'\u001b[39m\u001b[38;5;124mN55055\u001b[39m\u001b[38;5;124m'\u001b[39m\u001b[38;5;124m, \u001b[39m\u001b[38;5;124m'\u001b[39m\u001b[38;5;124mN24616\u001b[39m\u001b[38;5;124m'\u001b[39m\u001b[38;5;124m, \u001b[39m\u001b[38;5;124m'\u001b[39m\u001b[38;5;124mN74267\u001b[39m\u001b[38;5;124m'\u001b[39m\u001b[38;5;124m, \u001b[39m\u001b[38;5;124m'\u001b[39m\u001b[38;5;124mN55560\u001b[39m\u001b[38;5;124m'\u001b[39m\u001b[38;5;124m, \u001b[39m\u001b[38;5;124m'\u001b[39m\u001b[38;5;124mN59485\u001b[39m\u001b[38;5;124m'\u001b[39m\u001b[38;5;124m, \u001b[39m\u001b[38;5;124m'\u001b[39m\u001b[38;5;124mN64845\u001b[39m\u001b[38;5;124m'\u001b[39m\u001b[38;5;124m, \u001b[39m\u001b[38;5;124m'\u001b[39m\u001b[38;5;124mN118791\u001b[39m\u001b[38;5;124m'\u001b[39m\u001b[38;5;124m, \u001b[39m\u001b[38;5;124m'\u001b[39m\u001b[38;5;124mN11287\u001b[39m\u001b[38;5;124m'\u001b[39m\u001b[38;5;124m, \u001b[39m\u001b[38;5;124m'\u001b[39m\u001b[38;5;124mN13666\u001b[39m\u001b[38;5;124m'\u001b[39m\u001b[38;5;124m, \u001b[39m\u001b[38;5;124m'\u001b[39m\u001b[38;5;124mN32113\u001b[39m\u001b[38;5;124m'\u001b[39m\u001b[38;5;124m, \u001b[39m\u001b[38;5;124m'\u001b[39m\u001b[38;5;124mN114501\u001b[39m\u001b[38;5;124m'\u001b[39m\u001b[38;5;124m, \u001b[39m\u001b[38;5;124m'\u001b[39m\u001b[38;5;124mN33437\u001b[39m\u001b[38;5;124m'\u001b[39m\u001b[38;5;124m, \u001b[39m\u001b[38;5;124m'\u001b[39m\u001b[38;5;124mN84831\u001b[39m\u001b[38;5;124m'\u001b[39m\u001b[38;5;124m, \u001b[39m\u001b[38;5;124m'\u001b[39m\u001b[38;5;124mN106792\u001b[39m\u001b[38;5;124m'\u001b[39m\u001b[38;5;124m, \u001b[39m\u001b[38;5;124m'\u001b[39m\u001b[38;5;124mN80538\u001b[39m\u001b[38;5;124m'\u001b[39m\u001b[38;5;124m, \u001b[39m\u001b[38;5;124m'\u001b[39m\u001b[38;5;124mN47326\u001b[39m\u001b[38;5;124m'\u001b[39m\u001b[38;5;124m, \u001b[39m\u001b[38;5;124m'\u001b[39m\u001b[38;5;124mN119987\u001b[39m\u001b[38;5;124m'\u001b[39m\u001b[38;5;124m, \u001b[39m\u001b[38;5;124m'\u001b[39m\u001b[38;5;124mN117744\u001b[39m\u001b[38;5;124m'\u001b[39m\u001b[38;5;124m, \u001b[39m\u001b[38;5;124m'\u001b[39m\u001b[38;5;124mN119816\u001b[39m\u001b[38;5;124m'\u001b[39m\u001b[38;5;124m, \u001b[39m\u001b[38;5;124m'\u001b[39m\u001b[38;5;124mN42020\u001b[39m\u001b[38;5;124m'\u001b[39m\u001b[38;5;124m, \u001b[39m\u001b[38;5;124m'\u001b[39m\u001b[38;5;124mN93384\u001b[39m\u001b[38;5;124m'\u001b[39m\u001b[38;5;124m, \u001b[39m\u001b[38;5;124m'\u001b[39m\u001b[38;5;124mN62341\u001b[39m\u001b[38;5;124m'\u001b[39m\u001b[38;5;124m, \u001b[39m\u001b[38;5;124m'\u001b[39m\u001b[38;5;124mN26218\u001b[39m\u001b[38;5;124m'\u001b[39m\u001b[38;5;124m, \u001b[39m\u001b[38;5;124m'\u001b[39m\u001b[38;5;124mN118909\u001b[39m\u001b[38;5;124m'\u001b[39m\u001b[38;5;124m, \u001b[39m\u001b[38;5;124m'\u001b[39m\u001b[38;5;124mN29409\u001b[39m\u001b[38;5;124m'\u001b[39m\u001b[38;5;124m, \u001b[39m\u001b[38;5;124m'\u001b[39m\u001b[38;5;124mN30532\u001b[39m\u001b[38;5;124m'\u001b[39m\u001b[38;5;124m, \u001b[39m\u001b[38;5;124m'\u001b[39m\u001b[38;5;124mN78100\u001b[39m\u001b[38;5;124m'\u001b[39m\u001b[38;5;124m, \u001b[39m\u001b[38;5;124m'\u001b[39m\u001b[38;5;124mN88044\u001b[39m\u001b[38;5;124m'\u001b[39m\u001b[38;5;124m, \u001b[39m\u001b[38;5;124m'\u001b[39m\u001b[38;5;124mN58717\u001b[39m\u001b[38;5;124m'\u001b[39m\u001b[38;5;124m, \u001b[39m\u001b[38;5;124m'\u001b[39m\u001b[38;5;124mN123255\u001b[39m\u001b[38;5;124m'\u001b[39m\u001b[38;5;124m, \u001b[39m\u001b[38;5;124m'\u001b[39m\u001b[38;5;124mN108342\u001b[39m\u001b[38;5;124m'\u001b[39m\u001b[38;5;124m, \u001b[39m\u001b[38;5;124m'\u001b[39m\u001b[38;5;124mN81795\u001b[39m\u001b[38;5;124m'\u001b[39m\u001b[38;5;124m, \u001b[39m\u001b[38;5;124m'\u001b[39m\u001b[38;5;124mN33831\u001b[39m\u001b[38;5;124m'\u001b[39m\u001b[38;5;124m, \u001b[39m\u001b[38;5;124m'\u001b[39m\u001b[38;5;124mN117454\u001b[39m\u001b[38;5;124m'\u001b[39m\u001b[38;5;124m, \u001b[39m\u001b[38;5;124m'\u001b[39m\u001b[38;5;124mN84284\u001b[39m\u001b[38;5;124m'\u001b[39m\u001b[38;5;124m, \u001b[39m\u001b[38;5;124m'\u001b[39m\u001b[38;5;124mN95181\u001b[39m\u001b[38;5;124m'\u001b[39m\u001b[38;5;124m, \u001b[39m\u001b[38;5;124m'\u001b[39m\u001b[38;5;124mN29593\u001b[39m\u001b[38;5;124m'\u001b[39m\u001b[38;5;124m, \u001b[39m\u001b[38;5;124m'\u001b[39m\u001b[38;5;124mN72326\u001b[39m\u001b[38;5;124m'\u001b[39m\u001b[38;5;124m, \u001b[39m\u001b[38;5;124m'\u001b[39m\u001b[38;5;124mN60999\u001b[39m\u001b[38;5;124m'\u001b[39m\u001b[38;5;124m, \u001b[39m\u001b[38;5;124m'\u001b[39m\u001b[38;5;124mN60159\u001b[39m\u001b[38;5;124m'\u001b[39m\u001b[38;5;124m, \u001b[39m\u001b[38;5;124m'\u001b[39m\u001b[38;5;124mN104906\u001b[39m\u001b[38;5;124m'\u001b[39m\u001b[38;5;124m, \u001b[39m\u001b[38;5;124m'\u001b[39m\u001b[38;5;124mN85311\u001b[39m\u001b[38;5;124m'\u001b[39m\u001b[38;5;124m, \u001b[39m\u001b[38;5;124m'\u001b[39m\u001b[38;5;124mN85923\u001b[39m\u001b[38;5;124m'\u001b[39m\u001b[38;5;124m, \u001b[39m\u001b[38;5;124m'\u001b[39m\u001b[38;5;124mN65118\u001b[39m\u001b[38;5;124m'\u001b[39m\u001b[38;5;124m, \u001b[39m\u001b[38;5;124m'\u001b[39m\u001b[38;5;124mN105905\u001b[39m\u001b[38;5;124m'\u001b[39m\u001b[38;5;124m, \u001b[39m\u001b[38;5;124m'\u001b[39m\u001b[38;5;124mN88470\u001b[39m\u001b[38;5;124m'\u001b[39m\u001b[38;5;124m, \u001b[39m\u001b[38;5;124m'\u001b[39m\u001b[38;5;124mN81726\u001b[39m\u001b[38;5;124m'\u001b[39m\u001b[38;5;124m, \u001b[39m\u001b[38;5;124m'\u001b[39m\u001b[38;5;124mN15270\u001b[39m\u001b[38;5;124m'\u001b[39m\u001b[38;5;124m, \u001b[39m\u001b[38;5;124m'\u001b[39m\u001b[38;5;124mN16809\u001b[39m\u001b[38;5;124m'\u001b[39m\u001b[38;5;124m, \u001b[39m\u001b[38;5;124m'\u001b[39m\u001b[38;5;124mN75333\u001b[39m\u001b[38;5;124m'\u001b[39m\u001b[38;5;124m, \u001b[39m\u001b[38;5;124m'\u001b[39m\u001b[38;5;124mN95151\u001b[39m\u001b[38;5;124m'\u001b[39m\u001b[38;5;124m, \u001b[39m\u001b[38;5;124m'\u001b[39m\u001b[38;5;124mN90120\u001b[39m\u001b[38;5;124m'\u001b[39m\u001b[38;5;124m, \u001b[39m\u001b[38;5;124m'\u001b[39m\u001b[38;5;124mN122382\u001b[39m\u001b[38;5;124m'\u001b[39m\u001b[38;5;124m, \u001b[39m\u001b[38;5;124m'\u001b[39m\u001b[38;5;124mN54990\u001b[39m\u001b[38;5;124m'\u001b[39m\u001b[38;5;124m, \u001b[39m\u001b[38;5;124m'\u001b[39m\u001b[38;5;124mN18402\u001b[39m\u001b[38;5;124m'\u001b[39m\u001b[38;5;124m, \u001b[39m\u001b[38;5;124m'\u001b[39m\u001b[38;5;124mN65974\u001b[39m\u001b[38;5;124m'\u001b[39m\u001b[38;5;124m, \u001b[39m\u001b[38;5;124m'\u001b[39m\u001b[38;5;124mN115534\u001b[39m\u001b[38;5;124m'\u001b[39m\u001b[38;5;124m, \u001b[39m\u001b[38;5;124m'\u001b[39m\u001b[38;5;124mN58500\u001b[39m\u001b[38;5;124m'\u001b[39m\u001b[38;5;124m, \u001b[39m\u001b[38;5;124m'\u001b[39m\u001b[38;5;124mN59685\u001b[39m\u001b[38;5;124m'\u001b[39m\u001b[38;5;124m, \u001b[39m\u001b[38;5;124m'\u001b[39m\u001b[38;5;124mN102417\u001b[39m\u001b[38;5;124m'\u001b[39m\u001b[38;5;124m, \u001b[39m\u001b[38;5;124m'\u001b[39m\u001b[38;5;124mN64645\u001b[39m\u001b[38;5;124m'\u001b[39m\u001b[38;5;124m, \u001b[39m\u001b[38;5;124m'\u001b[39m\u001b[38;5;124mN42055\u001b[39m\u001b[38;5;124m'\u001b[39m\u001b[38;5;124m, \u001b[39m\u001b[38;5;124m'\u001b[39m\u001b[38;5;124mN28469\u001b[39m\u001b[38;5;124m'\u001b[39m\u001b[38;5;124m, \u001b[39m\u001b[38;5;124m'\u001b[39m\u001b[38;5;124mN109326\u001b[39m\u001b[38;5;124m'\u001b[39m\u001b[38;5;124m, \u001b[39m\u001b[38;5;124m'\u001b[39m\u001b[38;5;124mN71126\u001b[39m\u001b[38;5;124m'\u001b[39m\u001b[38;5;124m, \u001b[39m\u001b[38;5;124m'\u001b[39m\u001b[38;5;124mN95147\u001b[39m\u001b[38;5;124m'\u001b[39m\u001b[38;5;124m, \u001b[39m\u001b[38;5;124m'\u001b[39m\u001b[38;5;124mN79001\u001b[39m\u001b[38;5;124m'\u001b[39m\u001b[38;5;124m, \u001b[39m\u001b[38;5;124m'\u001b[39m\u001b[38;5;124mN109222\u001b[39m\u001b[38;5;124m'\u001b[39m\u001b[38;5;124m, \u001b[39m\u001b[38;5;124m'\u001b[39m\u001b[38;5;124mN78207\u001b[39m\u001b[38;5;124m'\u001b[39m\u001b[38;5;124m, \u001b[39m\u001b[38;5;124m'\u001b[39m\u001b[38;5;124mN100679\u001b[39m\u001b[38;5;124m'\u001b[39m\u001b[38;5;124m, \u001b[39m\u001b[38;5;124m'\u001b[39m\u001b[38;5;124mN90061\u001b[39m\u001b[38;5;124m'\u001b[39m\u001b[38;5;124m, \u001b[39m\u001b[38;5;124m'\u001b[39m\u001b[38;5;124mN88852\u001b[39m\u001b[38;5;124m'\u001b[39m\u001b[38;5;124m, \u001b[39m\u001b[38;5;124m'\u001b[39m\u001b[38;5;124mN103938\u001b[39m\u001b[38;5;124m'\u001b[39m\u001b[38;5;124m, \u001b[39m\u001b[38;5;124m'\u001b[39m\u001b[38;5;124mN70183\u001b[39m\u001b[38;5;124m'\u001b[39m\u001b[38;5;124m, \u001b[39m\u001b[38;5;124m'\u001b[39m\u001b[38;5;124mN105956\u001b[39m\u001b[38;5;124m'\u001b[39m\u001b[38;5;124m, \u001b[39m\u001b[38;5;124m'\u001b[39m\u001b[38;5;124mN35787\u001b[39m\u001b[38;5;124m'\u001b[39m\u001b[38;5;124m, \u001b[39m\u001b[38;5;124m'\u001b[39m\u001b[38;5;124mN26313\u001b[39m\u001b[38;5;124m'\u001b[39m\u001b[38;5;124m, \u001b[39m\u001b[38;5;124m'\u001b[39m\u001b[38;5;124mN94459\u001b[39m\u001b[38;5;124m'\u001b[39m\u001b[38;5;124m, \u001b[39m\u001b[38;5;124m'\u001b[39m\u001b[38;5;124mN40133\u001b[39m\u001b[38;5;124m'\u001b[39m\u001b[38;5;124m, \u001b[39m\u001b[38;5;124m'\u001b[39m\u001b[38;5;124mN110881\u001b[39m\u001b[38;5;124m'\u001b[39m\u001b[38;5;124m, \u001b[39m\u001b[38;5;124m'\u001b[39m\u001b[38;5;124mN62386\u001b[39m\u001b[38;5;124m'\u001b[39m\u001b[38;5;124m, \u001b[39m\u001b[38;5;124m'\u001b[39m\u001b[38;5;124mN103844\u001b[39m\u001b[38;5;124m'\u001b[39m\u001b[38;5;124m, \u001b[39m\u001b[38;5;124m'\u001b[39m\u001b[38;5;124mN57888\u001b[39m\u001b[38;5;124m'\u001b[39m\u001b[38;5;124m, \u001b[39m\u001b[38;5;124m'\u001b[39m\u001b[38;5;124mN55407\u001b[39m\u001b[38;5;124m'\u001b[39m\u001b[38;5;124m, \u001b[39m\u001b[38;5;124m'\u001b[39m\u001b[38;5;124mN53936\u001b[39m\u001b[38;5;124m'\u001b[39m\u001b[38;5;124m, \u001b[39m\u001b[38;5;124m'\u001b[39m\u001b[38;5;124mN89796\u001b[39m\u001b[38;5;124m'\u001b[39m\u001b[38;5;124m, \u001b[39m\u001b[38;5;124m'\u001b[39m\u001b[38;5;124mN77413\u001b[39m\u001b[38;5;124m'\u001b[39m\u001b[38;5;124m, \u001b[39m\u001b[38;5;124m'\u001b[39m\u001b[38;5;124mN107680\u001b[39m\u001b[38;5;124m'\u001b[39m\u001b[38;5;124m, \u001b[39m\u001b[38;5;124m'\u001b[39m\u001b[38;5;124mN47034\u001b[39m\u001b[38;5;124m'\u001b[39m\u001b[38;5;124m, \u001b[39m\u001b[38;5;124m'\u001b[39m\u001b[38;5;124mN93306\u001b[39m\u001b[38;5;124m'\u001b[39m\u001b[38;5;124m, \u001b[39m\u001b[38;5;124m'\u001b[39m\u001b[38;5;124mN113227\u001b[39m\u001b[38;5;124m'\u001b[39m\u001b[38;5;124m, \u001b[39m\u001b[38;5;124m'\u001b[39m\u001b[38;5;124mN87179\u001b[39m\u001b[38;5;124m'\u001b[39m\u001b[38;5;124m, \u001b[39m\u001b[38;5;124m'\u001b[39m\u001b[38;5;124mN104663\u001b[39m\u001b[38;5;124m'\u001b[39m\u001b[38;5;124m, \u001b[39m\u001b[38;5;124m'\u001b[39m\u001b[38;5;124mS5\u001b[39m\u001b[38;5;124m'\u001b[39m\u001b[38;5;124m, \u001b[39m\u001b[38;5;124m'\u001b[39m\u001b[38;5;124mN61736\u001b[39m\u001b[38;5;124m'\u001b[39m\u001b[38;5;124m, \u001b[39m\u001b[38;5;124m'\u001b[39m\u001b[38;5;124mN54647\u001b[39m\u001b[38;5;124m'\u001b[39m\u001b[38;5;124m, \u001b[39m\u001b[38;5;124m'\u001b[39m\u001b[38;5;124mN72184\u001b[39m\u001b[38;5;124m'\u001b[39m\u001b[38;5;124m, \u001b[39m\u001b[38;5;124m'\u001b[39m\u001b[38;5;124mN29427\u001b[39m\u001b[38;5;124m'\u001b[39m\u001b[38;5;124m]\u001b[39m\u001b[38;5;124m\"\u001b[39m\n",
      "\u001b[0;31mNameError\u001b[0m: name 'U146053' is not defined"
     ]
    }
   ],
   "source": [
    "U146053,\"['N95202', 'N84319', 'N92854', 'N43563', 'S3', 'N78688', 'N94858', 'N60541', 'N109049', 'N40725', 'N98578', 'N34661', 'N60152', 'N14869', 'N85195', 'N112559', 'N39488', 'N76001', 'N82971', 'N97393', 'S4', 'N91626', 'N108279', 'N117655', 'N71253', 'N102284', 'N74955', 'N110865', 'N26275', 'N14580', 'N34531', 'N58299', 'N15823', 'N51238', 'N49515', 'N14025', 'N86432', 'N83288', 'N18713', 'N92169', 'N36897', 'N73739', 'N105995', 'N44369', 'N50571', 'N37463', 'N120373', 'N95302', 'N10817', 'N89219', 'N37826', 'N117079', 'N55055', 'N24616', 'N74267', 'N55560', 'N59485', 'N64845', 'N118791', 'N11287', 'N13666', 'N32113', 'N114501', 'N33437', 'N84831', 'N106792', 'N80538', 'N47326', 'N119987', 'N117744', 'N119816', 'N42020', 'N93384', 'N62341', 'N26218', 'N118909', 'N29409', 'N30532', 'N78100', 'N88044', 'N58717', 'N123255', 'N108342', 'N81795', 'N33831', 'N117454', 'N84284', 'N95181', 'N29593', 'N72326', 'N60999', 'N60159', 'N104906', 'N85311', 'N85923', 'N65118', 'N105905', 'N88470', 'N81726', 'N15270', 'N16809', 'N75333', 'N95151', 'N90120', 'N122382', 'N54990', 'N18402', 'N65974', 'N115534', 'N58500', 'N59685', 'N102417', 'N64645', 'N42055', 'N28469', 'N109326', 'N71126', 'N95147', 'N79001', 'N109222', 'N78207', 'N100679', 'N90061', 'N88852', 'N103938', 'N70183', 'N105956', 'N35787', 'N26313', 'N94459', 'N40133', 'N110881', 'N62386', 'N103844', 'N57888', 'N55407', 'N53936', 'N89796', 'N77413', 'N107680', 'N47034', 'N93306', 'N113227', 'N87179', 'N104663', 'S5', 'N61736', 'N54647', 'N72184', 'N29427']\""
   ]
  }
 ],
 "metadata": {
  "kernelspec": {
   "display_name": "trial",
   "language": "python",
   "name": "python3"
  },
  "language_info": {
   "codemirror_mode": {
    "name": "ipython",
    "version": 3
   },
   "file_extension": ".py",
   "mimetype": "text/x-python",
   "name": "python",
   "nbconvert_exporter": "python",
   "pygments_lexer": "ipython3",
   "version": "3.12.3"
  }
 },
 "nbformat": 4,
 "nbformat_minor": 2
}
